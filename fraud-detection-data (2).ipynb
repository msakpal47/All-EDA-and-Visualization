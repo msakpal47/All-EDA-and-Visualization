{
 "cells": [
  {
   "cell_type": "code",
   "execution_count": 1,
   "metadata": {
    "_cell_guid": "b1076dfc-b9ad-4769-8c92-a6c4dae69d19",
    "_uuid": "8f2839f25d086af736a60e9eeb907d3b93b6e0e5"
   },
   "outputs": [
    {
     "ename": "ModuleNotFoundError",
     "evalue": "No module named 'xgboost'",
     "output_type": "error",
     "traceback": [
      "\u001b[1;31m---------------------------------------------------------------------------\u001b[0m",
      "\u001b[1;31mModuleNotFoundError\u001b[0m                       Traceback (most recent call last)",
      "Cell \u001b[1;32mIn[1], line 18\u001b[0m\n\u001b[0;32m     14\u001b[0m \u001b[38;5;28;01mfrom\u001b[39;00m \u001b[38;5;21;01msklearn\u001b[39;00m\u001b[38;5;21;01m.\u001b[39;00m\u001b[38;5;21;01mensemble\u001b[39;00m \u001b[38;5;28;01mimport\u001b[39;00m RandomForestClassifier\n\u001b[0;32m     15\u001b[0m \u001b[38;5;28;01mfrom\u001b[39;00m \u001b[38;5;21;01msklearn\u001b[39;00m\u001b[38;5;21;01m.\u001b[39;00m\u001b[38;5;21;01mpreprocessing\u001b[39;00m \u001b[38;5;28;01mimport\u001b[39;00m LabelEncoder, MinMaxScaler, StandardScaler\n\u001b[1;32m---> 18\u001b[0m \u001b[38;5;28;01mfrom\u001b[39;00m \u001b[38;5;21;01mxgboost\u001b[39;00m \u001b[38;5;28;01mimport\u001b[39;00m XGBClassifier, plot_importance\n\u001b[0;32m     20\u001b[0m \u001b[38;5;28;01mimport\u001b[39;00m \u001b[38;5;21;01mwarnings\u001b[39;00m\n\u001b[0;32m     21\u001b[0m warnings\u001b[38;5;241m.\u001b[39mfilterwarnings(\u001b[38;5;124m\"\u001b[39m\u001b[38;5;124mignore\u001b[39m\u001b[38;5;124m\"\u001b[39m)\n",
      "\u001b[1;31mModuleNotFoundError\u001b[0m: No module named 'xgboost'"
     ]
    }
   ],
   "source": [
    "import numpy as np\n",
    "import pandas as pd\n",
    "\n",
    "import matplotlib.pyplot as plt\n",
    "%matplotlib inline\n",
    "import seaborn as sns\n",
    "sns.set(palette=\"Set2\")\n",
    "from sklearn.svm import SVC\n",
    "from sklearn.model_selection import train_test_split\n",
    "from sklearn.metrics import (accuracy_score, f1_score,average_precision_score, confusion_matrix,\n",
    "                             average_precision_score, precision_score, recall_score, roc_auc_score, classification_report, roc_curve,auc )\n",
    "from sklearn.model_selection import GridSearchCV\n",
    "from sklearn.naive_bayes import BernoulliNB, MultinomialNB\n",
    "from sklearn.ensemble import RandomForestClassifier\n",
    "from sklearn.preprocessing import LabelEncoder, MinMaxScaler, StandardScaler\n",
    "\n",
    "\n",
    "from xgboost import XGBClassifier, plot_importance\n",
    "\n",
    "import warnings\n",
    "warnings.filterwarnings(\"ignore\")"
   ]
  },
  {
   "cell_type": "code",
   "execution_count": null,
   "metadata": {},
   "outputs": [],
   "source": [
    "### Problem Formulation\n",
    "Due to the private nature of financial data, there is a lack of publicly available datasets that can be used for analysis. In this project, a synthetic dataset, publicly available on Kaggle, generated using a simulator called PaySim is used. The dataset was generated using aggregated metrics from the private dataset of a multinational mobile financial services company.\n",
    "\n",
    "There are 6362620 transactions, The data set has 11 attributes which include is\n",
    "\n",
    "- Type of transactions\n",
    "- Amount transacted\n",
    "- Customer ID and Recipient ID\n",
    "- Old and New balance of Customer and Recipient\n",
    "- Time step of the transaction\n",
    "- Whether the transaction was fraudulent or not"
   ]
  },
  {
   "cell_type": "code",
   "execution_count": null,
   "metadata": {},
   "outputs": [],
   "source": [
    "### Methodology\n",
    "\n",
    "- **General Overview:** Have a General Overview of the data\n",
    "- **EDA:** Perform Exploratory Data Analysis(EDA) to gain more clear insights of the data\n",
    "- **Data Preprocessing:** With the information gained after performing EDA, Preprocess the Data accordingly\n",
    "- **Model Building:** Once the data is properly cleaned and preprocessed, use this data to build a Machine Learning\n",
    "- **Model Performance:** Assess the Performance of the Model on the Testing data set\n",
    "- **Predictions:** Make Predictions on the Testing data set"
   ]
  },
  {
   "cell_type": "code",
   "execution_count": 8,
   "metadata": {
    "execution": {
     "iopub.execute_input": "2024-09-04T12:51:42.558080Z",
     "iopub.status.busy": "2024-09-04T12:51:42.557477Z",
     "iopub.status.idle": "2024-09-04T12:52:01.962281Z",
     "shell.execute_reply": "2024-09-04T12:52:01.961136Z",
     "shell.execute_reply.started": "2024-09-04T12:51:42.558026Z"
    }
   },
   "outputs": [
    {
     "data": {
      "text/html": [
       "<div>\n",
       "<style scoped>\n",
       "    .dataframe tbody tr th:only-of-type {\n",
       "        vertical-align: middle;\n",
       "    }\n",
       "\n",
       "    .dataframe tbody tr th {\n",
       "        vertical-align: top;\n",
       "    }\n",
       "\n",
       "    .dataframe thead th {\n",
       "        text-align: right;\n",
       "    }\n",
       "</style>\n",
       "<table border=\"1\" class=\"dataframe\">\n",
       "  <thead>\n",
       "    <tr style=\"text-align: right;\">\n",
       "      <th></th>\n",
       "      <th>step</th>\n",
       "      <th>type</th>\n",
       "      <th>amount</th>\n",
       "      <th>nameOrig</th>\n",
       "      <th>oldbalanceOrg</th>\n",
       "      <th>newbalanceOrig</th>\n",
       "      <th>nameDest</th>\n",
       "      <th>oldbalanceDest</th>\n",
       "      <th>newbalanceDest</th>\n",
       "      <th>isFraud</th>\n",
       "      <th>isFlaggedFraud</th>\n",
       "    </tr>\n",
       "  </thead>\n",
       "  <tbody>\n",
       "    <tr>\n",
       "      <th>0</th>\n",
       "      <td>1</td>\n",
       "      <td>PAYMENT</td>\n",
       "      <td>9839.64</td>\n",
       "      <td>C1231006815</td>\n",
       "      <td>170136.00</td>\n",
       "      <td>160296.36</td>\n",
       "      <td>M1979787155</td>\n",
       "      <td>0.00</td>\n",
       "      <td>0.00</td>\n",
       "      <td>0</td>\n",
       "      <td>0</td>\n",
       "    </tr>\n",
       "    <tr>\n",
       "      <th>1</th>\n",
       "      <td>1</td>\n",
       "      <td>PAYMENT</td>\n",
       "      <td>1864.28</td>\n",
       "      <td>C1666544295</td>\n",
       "      <td>21249.00</td>\n",
       "      <td>19384.72</td>\n",
       "      <td>M2044282225</td>\n",
       "      <td>0.00</td>\n",
       "      <td>0.00</td>\n",
       "      <td>0</td>\n",
       "      <td>0</td>\n",
       "    </tr>\n",
       "    <tr>\n",
       "      <th>2</th>\n",
       "      <td>1</td>\n",
       "      <td>TRANSFER</td>\n",
       "      <td>181.00</td>\n",
       "      <td>C1305486145</td>\n",
       "      <td>181.00</td>\n",
       "      <td>0.00</td>\n",
       "      <td>C553264065</td>\n",
       "      <td>0.00</td>\n",
       "      <td>0.00</td>\n",
       "      <td>1</td>\n",
       "      <td>0</td>\n",
       "    </tr>\n",
       "    <tr>\n",
       "      <th>3</th>\n",
       "      <td>1</td>\n",
       "      <td>CASH_OUT</td>\n",
       "      <td>181.00</td>\n",
       "      <td>C840083671</td>\n",
       "      <td>181.00</td>\n",
       "      <td>0.00</td>\n",
       "      <td>C38997010</td>\n",
       "      <td>21182.00</td>\n",
       "      <td>0.00</td>\n",
       "      <td>1</td>\n",
       "      <td>0</td>\n",
       "    </tr>\n",
       "    <tr>\n",
       "      <th>4</th>\n",
       "      <td>1</td>\n",
       "      <td>PAYMENT</td>\n",
       "      <td>11668.14</td>\n",
       "      <td>C2048537720</td>\n",
       "      <td>41554.00</td>\n",
       "      <td>29885.86</td>\n",
       "      <td>M1230701703</td>\n",
       "      <td>0.00</td>\n",
       "      <td>0.00</td>\n",
       "      <td>0</td>\n",
       "      <td>0</td>\n",
       "    </tr>\n",
       "    <tr>\n",
       "      <th>...</th>\n",
       "      <td>...</td>\n",
       "      <td>...</td>\n",
       "      <td>...</td>\n",
       "      <td>...</td>\n",
       "      <td>...</td>\n",
       "      <td>...</td>\n",
       "      <td>...</td>\n",
       "      <td>...</td>\n",
       "      <td>...</td>\n",
       "      <td>...</td>\n",
       "      <td>...</td>\n",
       "    </tr>\n",
       "    <tr>\n",
       "      <th>6362615</th>\n",
       "      <td>743</td>\n",
       "      <td>CASH_OUT</td>\n",
       "      <td>339682.13</td>\n",
       "      <td>C786484425</td>\n",
       "      <td>339682.13</td>\n",
       "      <td>0.00</td>\n",
       "      <td>C776919290</td>\n",
       "      <td>0.00</td>\n",
       "      <td>339682.13</td>\n",
       "      <td>1</td>\n",
       "      <td>0</td>\n",
       "    </tr>\n",
       "    <tr>\n",
       "      <th>6362616</th>\n",
       "      <td>743</td>\n",
       "      <td>TRANSFER</td>\n",
       "      <td>6311409.28</td>\n",
       "      <td>C1529008245</td>\n",
       "      <td>6311409.28</td>\n",
       "      <td>0.00</td>\n",
       "      <td>C1881841831</td>\n",
       "      <td>0.00</td>\n",
       "      <td>0.00</td>\n",
       "      <td>1</td>\n",
       "      <td>0</td>\n",
       "    </tr>\n",
       "    <tr>\n",
       "      <th>6362617</th>\n",
       "      <td>743</td>\n",
       "      <td>CASH_OUT</td>\n",
       "      <td>6311409.28</td>\n",
       "      <td>C1162922333</td>\n",
       "      <td>6311409.28</td>\n",
       "      <td>0.00</td>\n",
       "      <td>C1365125890</td>\n",
       "      <td>68488.84</td>\n",
       "      <td>6379898.11</td>\n",
       "      <td>1</td>\n",
       "      <td>0</td>\n",
       "    </tr>\n",
       "    <tr>\n",
       "      <th>6362618</th>\n",
       "      <td>743</td>\n",
       "      <td>TRANSFER</td>\n",
       "      <td>850002.52</td>\n",
       "      <td>C1685995037</td>\n",
       "      <td>850002.52</td>\n",
       "      <td>0.00</td>\n",
       "      <td>C2080388513</td>\n",
       "      <td>0.00</td>\n",
       "      <td>0.00</td>\n",
       "      <td>1</td>\n",
       "      <td>0</td>\n",
       "    </tr>\n",
       "    <tr>\n",
       "      <th>6362619</th>\n",
       "      <td>743</td>\n",
       "      <td>CASH_OUT</td>\n",
       "      <td>850002.52</td>\n",
       "      <td>C1280323807</td>\n",
       "      <td>850002.52</td>\n",
       "      <td>0.00</td>\n",
       "      <td>C873221189</td>\n",
       "      <td>6510099.11</td>\n",
       "      <td>7360101.63</td>\n",
       "      <td>1</td>\n",
       "      <td>0</td>\n",
       "    </tr>\n",
       "  </tbody>\n",
       "</table>\n",
       "<p>6362620 rows × 11 columns</p>\n",
       "</div>"
      ],
      "text/plain": [
       "         step      type      amount     nameOrig  oldbalanceOrg  \\\n",
       "0           1   PAYMENT     9839.64  C1231006815      170136.00   \n",
       "1           1   PAYMENT     1864.28  C1666544295       21249.00   \n",
       "2           1  TRANSFER      181.00  C1305486145         181.00   \n",
       "3           1  CASH_OUT      181.00   C840083671         181.00   \n",
       "4           1   PAYMENT    11668.14  C2048537720       41554.00   \n",
       "...       ...       ...         ...          ...            ...   \n",
       "6362615   743  CASH_OUT   339682.13   C786484425      339682.13   \n",
       "6362616   743  TRANSFER  6311409.28  C1529008245     6311409.28   \n",
       "6362617   743  CASH_OUT  6311409.28  C1162922333     6311409.28   \n",
       "6362618   743  TRANSFER   850002.52  C1685995037      850002.52   \n",
       "6362619   743  CASH_OUT   850002.52  C1280323807      850002.52   \n",
       "\n",
       "         newbalanceOrig     nameDest  oldbalanceDest  newbalanceDest  isFraud  \\\n",
       "0             160296.36  M1979787155            0.00            0.00        0   \n",
       "1              19384.72  M2044282225            0.00            0.00        0   \n",
       "2                  0.00   C553264065            0.00            0.00        1   \n",
       "3                  0.00    C38997010        21182.00            0.00        1   \n",
       "4              29885.86  M1230701703            0.00            0.00        0   \n",
       "...                 ...          ...             ...             ...      ...   \n",
       "6362615            0.00   C776919290            0.00       339682.13        1   \n",
       "6362616            0.00  C1881841831            0.00            0.00        1   \n",
       "6362617            0.00  C1365125890        68488.84      6379898.11        1   \n",
       "6362618            0.00  C2080388513            0.00            0.00        1   \n",
       "6362619            0.00   C873221189      6510099.11      7360101.63        1   \n",
       "\n",
       "         isFlaggedFraud  \n",
       "0                     0  \n",
       "1                     0  \n",
       "2                     0  \n",
       "3                     0  \n",
       "4                     0  \n",
       "...                 ...  \n",
       "6362615               0  \n",
       "6362616               0  \n",
       "6362617               0  \n",
       "6362618               0  \n",
       "6362619               0  \n",
       "\n",
       "[6362620 rows x 11 columns]"
      ]
     },
     "execution_count": 8,
     "metadata": {},
     "output_type": "execute_result"
    }
   ],
   "source": [
    "pd.read_csv(r'C:\\Users\\C-Dot\\Desktop\\machine learning Projects\\Fraud.csv')"
   ]
  },
  {
   "cell_type": "code",
   "execution_count": 10,
   "metadata": {
    "execution": {
     "iopub.execute_input": "2024-09-04T12:52:24.780331Z",
     "iopub.status.busy": "2024-09-04T12:52:24.779790Z",
     "iopub.status.idle": "2024-09-04T12:52:40.166115Z",
     "shell.execute_reply": "2024-09-04T12:52:40.164695Z",
     "shell.execute_reply.started": "2024-09-04T12:52:24.780262Z"
    }
   },
   "outputs": [],
   "source": [
    "Data = pd.read_csv(r'C:\\Users\\C-Dot\\Desktop\\machine learning Projects\\Fraud.csv')\n"
   ]
  },
  {
   "cell_type": "code",
   "execution_count": 11,
   "metadata": {
    "execution": {
     "iopub.execute_input": "2024-09-04T12:52:40.168597Z",
     "iopub.status.busy": "2024-09-04T12:52:40.168177Z",
     "iopub.status.idle": "2024-09-04T12:52:40.187689Z",
     "shell.execute_reply": "2024-09-04T12:52:40.186385Z",
     "shell.execute_reply.started": "2024-09-04T12:52:40.168554Z"
    }
   },
   "outputs": [
    {
     "data": {
      "text/html": [
       "<div>\n",
       "<style scoped>\n",
       "    .dataframe tbody tr th:only-of-type {\n",
       "        vertical-align: middle;\n",
       "    }\n",
       "\n",
       "    .dataframe tbody tr th {\n",
       "        vertical-align: top;\n",
       "    }\n",
       "\n",
       "    .dataframe thead th {\n",
       "        text-align: right;\n",
       "    }\n",
       "</style>\n",
       "<table border=\"1\" class=\"dataframe\">\n",
       "  <thead>\n",
       "    <tr style=\"text-align: right;\">\n",
       "      <th></th>\n",
       "      <th>step</th>\n",
       "      <th>type</th>\n",
       "      <th>amount</th>\n",
       "      <th>nameOrig</th>\n",
       "      <th>oldbalanceOrg</th>\n",
       "      <th>newbalanceOrig</th>\n",
       "      <th>nameDest</th>\n",
       "      <th>oldbalanceDest</th>\n",
       "      <th>newbalanceDest</th>\n",
       "      <th>isFraud</th>\n",
       "      <th>isFlaggedFraud</th>\n",
       "    </tr>\n",
       "  </thead>\n",
       "  <tbody>\n",
       "    <tr>\n",
       "      <th>0</th>\n",
       "      <td>1</td>\n",
       "      <td>PAYMENT</td>\n",
       "      <td>9839.64</td>\n",
       "      <td>C1231006815</td>\n",
       "      <td>170136.0</td>\n",
       "      <td>160296.36</td>\n",
       "      <td>M1979787155</td>\n",
       "      <td>0.0</td>\n",
       "      <td>0.0</td>\n",
       "      <td>0</td>\n",
       "      <td>0</td>\n",
       "    </tr>\n",
       "    <tr>\n",
       "      <th>1</th>\n",
       "      <td>1</td>\n",
       "      <td>PAYMENT</td>\n",
       "      <td>1864.28</td>\n",
       "      <td>C1666544295</td>\n",
       "      <td>21249.0</td>\n",
       "      <td>19384.72</td>\n",
       "      <td>M2044282225</td>\n",
       "      <td>0.0</td>\n",
       "      <td>0.0</td>\n",
       "      <td>0</td>\n",
       "      <td>0</td>\n",
       "    </tr>\n",
       "    <tr>\n",
       "      <th>2</th>\n",
       "      <td>1</td>\n",
       "      <td>TRANSFER</td>\n",
       "      <td>181.00</td>\n",
       "      <td>C1305486145</td>\n",
       "      <td>181.0</td>\n",
       "      <td>0.00</td>\n",
       "      <td>C553264065</td>\n",
       "      <td>0.0</td>\n",
       "      <td>0.0</td>\n",
       "      <td>1</td>\n",
       "      <td>0</td>\n",
       "    </tr>\n",
       "    <tr>\n",
       "      <th>3</th>\n",
       "      <td>1</td>\n",
       "      <td>CASH_OUT</td>\n",
       "      <td>181.00</td>\n",
       "      <td>C840083671</td>\n",
       "      <td>181.0</td>\n",
       "      <td>0.00</td>\n",
       "      <td>C38997010</td>\n",
       "      <td>21182.0</td>\n",
       "      <td>0.0</td>\n",
       "      <td>1</td>\n",
       "      <td>0</td>\n",
       "    </tr>\n",
       "    <tr>\n",
       "      <th>4</th>\n",
       "      <td>1</td>\n",
       "      <td>PAYMENT</td>\n",
       "      <td>11668.14</td>\n",
       "      <td>C2048537720</td>\n",
       "      <td>41554.0</td>\n",
       "      <td>29885.86</td>\n",
       "      <td>M1230701703</td>\n",
       "      <td>0.0</td>\n",
       "      <td>0.0</td>\n",
       "      <td>0</td>\n",
       "      <td>0</td>\n",
       "    </tr>\n",
       "  </tbody>\n",
       "</table>\n",
       "</div>"
      ],
      "text/plain": [
       "   step      type    amount     nameOrig  oldbalanceOrg  newbalanceOrig  \\\n",
       "0     1   PAYMENT   9839.64  C1231006815       170136.0       160296.36   \n",
       "1     1   PAYMENT   1864.28  C1666544295        21249.0        19384.72   \n",
       "2     1  TRANSFER    181.00  C1305486145          181.0            0.00   \n",
       "3     1  CASH_OUT    181.00   C840083671          181.0            0.00   \n",
       "4     1   PAYMENT  11668.14  C2048537720        41554.0        29885.86   \n",
       "\n",
       "      nameDest  oldbalanceDest  newbalanceDest  isFraud  isFlaggedFraud  \n",
       "0  M1979787155             0.0             0.0        0               0  \n",
       "1  M2044282225             0.0             0.0        0               0  \n",
       "2   C553264065             0.0             0.0        1               0  \n",
       "3    C38997010         21182.0             0.0        1               0  \n",
       "4  M1230701703             0.0             0.0        0               0  "
      ]
     },
     "execution_count": 11,
     "metadata": {},
     "output_type": "execute_result"
    }
   ],
   "source": [
    "Data.head()"
   ]
  },
  {
   "cell_type": "code",
   "execution_count": 12,
   "metadata": {
    "execution": {
     "iopub.execute_input": "2024-09-04T12:52:40.189253Z",
     "iopub.status.busy": "2024-09-04T12:52:40.188892Z",
     "iopub.status.idle": "2024-09-04T12:52:40.208343Z",
     "shell.execute_reply": "2024-09-04T12:52:40.207021Z",
     "shell.execute_reply.started": "2024-09-04T12:52:40.189217Z"
    }
   },
   "outputs": [
    {
     "data": {
      "text/html": [
       "<div>\n",
       "<style scoped>\n",
       "    .dataframe tbody tr th:only-of-type {\n",
       "        vertical-align: middle;\n",
       "    }\n",
       "\n",
       "    .dataframe tbody tr th {\n",
       "        vertical-align: top;\n",
       "    }\n",
       "\n",
       "    .dataframe thead th {\n",
       "        text-align: right;\n",
       "    }\n",
       "</style>\n",
       "<table border=\"1\" class=\"dataframe\">\n",
       "  <thead>\n",
       "    <tr style=\"text-align: right;\">\n",
       "      <th></th>\n",
       "      <th>step</th>\n",
       "      <th>type</th>\n",
       "      <th>amount</th>\n",
       "      <th>nameOrig</th>\n",
       "      <th>oldbalanceOrg</th>\n",
       "      <th>newbalanceOrig</th>\n",
       "      <th>nameDest</th>\n",
       "      <th>oldbalanceDest</th>\n",
       "      <th>newbalanceDest</th>\n",
       "      <th>isFraud</th>\n",
       "      <th>isFlaggedFraud</th>\n",
       "    </tr>\n",
       "  </thead>\n",
       "  <tbody>\n",
       "    <tr>\n",
       "      <th>6362615</th>\n",
       "      <td>743</td>\n",
       "      <td>CASH_OUT</td>\n",
       "      <td>339682.13</td>\n",
       "      <td>C786484425</td>\n",
       "      <td>339682.13</td>\n",
       "      <td>0.0</td>\n",
       "      <td>C776919290</td>\n",
       "      <td>0.00</td>\n",
       "      <td>339682.13</td>\n",
       "      <td>1</td>\n",
       "      <td>0</td>\n",
       "    </tr>\n",
       "    <tr>\n",
       "      <th>6362616</th>\n",
       "      <td>743</td>\n",
       "      <td>TRANSFER</td>\n",
       "      <td>6311409.28</td>\n",
       "      <td>C1529008245</td>\n",
       "      <td>6311409.28</td>\n",
       "      <td>0.0</td>\n",
       "      <td>C1881841831</td>\n",
       "      <td>0.00</td>\n",
       "      <td>0.00</td>\n",
       "      <td>1</td>\n",
       "      <td>0</td>\n",
       "    </tr>\n",
       "    <tr>\n",
       "      <th>6362617</th>\n",
       "      <td>743</td>\n",
       "      <td>CASH_OUT</td>\n",
       "      <td>6311409.28</td>\n",
       "      <td>C1162922333</td>\n",
       "      <td>6311409.28</td>\n",
       "      <td>0.0</td>\n",
       "      <td>C1365125890</td>\n",
       "      <td>68488.84</td>\n",
       "      <td>6379898.11</td>\n",
       "      <td>1</td>\n",
       "      <td>0</td>\n",
       "    </tr>\n",
       "    <tr>\n",
       "      <th>6362618</th>\n",
       "      <td>743</td>\n",
       "      <td>TRANSFER</td>\n",
       "      <td>850002.52</td>\n",
       "      <td>C1685995037</td>\n",
       "      <td>850002.52</td>\n",
       "      <td>0.0</td>\n",
       "      <td>C2080388513</td>\n",
       "      <td>0.00</td>\n",
       "      <td>0.00</td>\n",
       "      <td>1</td>\n",
       "      <td>0</td>\n",
       "    </tr>\n",
       "    <tr>\n",
       "      <th>6362619</th>\n",
       "      <td>743</td>\n",
       "      <td>CASH_OUT</td>\n",
       "      <td>850002.52</td>\n",
       "      <td>C1280323807</td>\n",
       "      <td>850002.52</td>\n",
       "      <td>0.0</td>\n",
       "      <td>C873221189</td>\n",
       "      <td>6510099.11</td>\n",
       "      <td>7360101.63</td>\n",
       "      <td>1</td>\n",
       "      <td>0</td>\n",
       "    </tr>\n",
       "  </tbody>\n",
       "</table>\n",
       "</div>"
      ],
      "text/plain": [
       "         step      type      amount     nameOrig  oldbalanceOrg  \\\n",
       "6362615   743  CASH_OUT   339682.13   C786484425      339682.13   \n",
       "6362616   743  TRANSFER  6311409.28  C1529008245     6311409.28   \n",
       "6362617   743  CASH_OUT  6311409.28  C1162922333     6311409.28   \n",
       "6362618   743  TRANSFER   850002.52  C1685995037      850002.52   \n",
       "6362619   743  CASH_OUT   850002.52  C1280323807      850002.52   \n",
       "\n",
       "         newbalanceOrig     nameDest  oldbalanceDest  newbalanceDest  isFraud  \\\n",
       "6362615             0.0   C776919290            0.00       339682.13        1   \n",
       "6362616             0.0  C1881841831            0.00            0.00        1   \n",
       "6362617             0.0  C1365125890        68488.84      6379898.11        1   \n",
       "6362618             0.0  C2080388513            0.00            0.00        1   \n",
       "6362619             0.0   C873221189      6510099.11      7360101.63        1   \n",
       "\n",
       "         isFlaggedFraud  \n",
       "6362615               0  \n",
       "6362616               0  \n",
       "6362617               0  \n",
       "6362618               0  \n",
       "6362619               0  "
      ]
     },
     "execution_count": 12,
     "metadata": {},
     "output_type": "execute_result"
    }
   ],
   "source": [
    "Data.tail()"
   ]
  },
  {
   "cell_type": "code",
   "execution_count": 108,
   "metadata": {
    "execution": {
     "iopub.execute_input": "2024-09-04T12:18:33.240837Z",
     "iopub.status.busy": "2024-09-04T12:18:33.240341Z",
     "iopub.status.idle": "2024-09-04T12:18:33.247989Z",
     "shell.execute_reply": "2024-09-04T12:18:33.246766Z",
     "shell.execute_reply.started": "2024-09-04T12:18:33.240787Z"
    }
   },
   "outputs": [],
   "source": [
    "#### Statistical Summary of the data"
   ]
  },
  {
   "cell_type": "code",
   "execution_count": 109,
   "metadata": {
    "execution": {
     "iopub.execute_input": "2024-09-04T12:18:33.249970Z",
     "iopub.status.busy": "2024-09-04T12:18:33.249423Z",
     "iopub.status.idle": "2024-09-04T12:18:35.221420Z",
     "shell.execute_reply": "2024-09-04T12:18:35.220244Z",
     "shell.execute_reply.started": "2024-09-04T12:18:33.249890Z"
    }
   },
   "outputs": [
    {
     "data": {
      "text/html": [
       "<div>\n",
       "<style scoped>\n",
       "    .dataframe tbody tr th:only-of-type {\n",
       "        vertical-align: middle;\n",
       "    }\n",
       "\n",
       "    .dataframe tbody tr th {\n",
       "        vertical-align: top;\n",
       "    }\n",
       "\n",
       "    .dataframe thead th {\n",
       "        text-align: right;\n",
       "    }\n",
       "</style>\n",
       "<table border=\"1\" class=\"dataframe\">\n",
       "  <thead>\n",
       "    <tr style=\"text-align: right;\">\n",
       "      <th></th>\n",
       "      <th>step</th>\n",
       "      <th>amount</th>\n",
       "      <th>oldbalanceOrg</th>\n",
       "      <th>newbalanceOrig</th>\n",
       "      <th>oldbalanceDest</th>\n",
       "      <th>newbalanceDest</th>\n",
       "      <th>isFraud</th>\n",
       "      <th>isFlaggedFraud</th>\n",
       "    </tr>\n",
       "  </thead>\n",
       "  <tbody>\n",
       "    <tr>\n",
       "      <th>count</th>\n",
       "      <td>6.362620e+06</td>\n",
       "      <td>6.362620e+06</td>\n",
       "      <td>6.362620e+06</td>\n",
       "      <td>6.362620e+06</td>\n",
       "      <td>6.362620e+06</td>\n",
       "      <td>6.362620e+06</td>\n",
       "      <td>6.362620e+06</td>\n",
       "      <td>6.362620e+06</td>\n",
       "    </tr>\n",
       "    <tr>\n",
       "      <th>mean</th>\n",
       "      <td>2.433972e+02</td>\n",
       "      <td>1.798619e+05</td>\n",
       "      <td>8.338831e+05</td>\n",
       "      <td>8.551137e+05</td>\n",
       "      <td>1.100702e+06</td>\n",
       "      <td>1.224996e+06</td>\n",
       "      <td>1.290820e-03</td>\n",
       "      <td>2.514687e-06</td>\n",
       "    </tr>\n",
       "    <tr>\n",
       "      <th>std</th>\n",
       "      <td>1.423320e+02</td>\n",
       "      <td>6.038582e+05</td>\n",
       "      <td>2.888243e+06</td>\n",
       "      <td>2.924049e+06</td>\n",
       "      <td>3.399180e+06</td>\n",
       "      <td>3.674129e+06</td>\n",
       "      <td>3.590480e-02</td>\n",
       "      <td>1.585775e-03</td>\n",
       "    </tr>\n",
       "    <tr>\n",
       "      <th>min</th>\n",
       "      <td>1.000000e+00</td>\n",
       "      <td>0.000000e+00</td>\n",
       "      <td>0.000000e+00</td>\n",
       "      <td>0.000000e+00</td>\n",
       "      <td>0.000000e+00</td>\n",
       "      <td>0.000000e+00</td>\n",
       "      <td>0.000000e+00</td>\n",
       "      <td>0.000000e+00</td>\n",
       "    </tr>\n",
       "    <tr>\n",
       "      <th>25%</th>\n",
       "      <td>1.560000e+02</td>\n",
       "      <td>1.338957e+04</td>\n",
       "      <td>0.000000e+00</td>\n",
       "      <td>0.000000e+00</td>\n",
       "      <td>0.000000e+00</td>\n",
       "      <td>0.000000e+00</td>\n",
       "      <td>0.000000e+00</td>\n",
       "      <td>0.000000e+00</td>\n",
       "    </tr>\n",
       "    <tr>\n",
       "      <th>50%</th>\n",
       "      <td>2.390000e+02</td>\n",
       "      <td>7.487194e+04</td>\n",
       "      <td>1.420800e+04</td>\n",
       "      <td>0.000000e+00</td>\n",
       "      <td>1.327057e+05</td>\n",
       "      <td>2.146614e+05</td>\n",
       "      <td>0.000000e+00</td>\n",
       "      <td>0.000000e+00</td>\n",
       "    </tr>\n",
       "    <tr>\n",
       "      <th>75%</th>\n",
       "      <td>3.350000e+02</td>\n",
       "      <td>2.087215e+05</td>\n",
       "      <td>1.073152e+05</td>\n",
       "      <td>1.442584e+05</td>\n",
       "      <td>9.430367e+05</td>\n",
       "      <td>1.111909e+06</td>\n",
       "      <td>0.000000e+00</td>\n",
       "      <td>0.000000e+00</td>\n",
       "    </tr>\n",
       "    <tr>\n",
       "      <th>max</th>\n",
       "      <td>7.430000e+02</td>\n",
       "      <td>9.244552e+07</td>\n",
       "      <td>5.958504e+07</td>\n",
       "      <td>4.958504e+07</td>\n",
       "      <td>3.560159e+08</td>\n",
       "      <td>3.561793e+08</td>\n",
       "      <td>1.000000e+00</td>\n",
       "      <td>1.000000e+00</td>\n",
       "    </tr>\n",
       "  </tbody>\n",
       "</table>\n",
       "</div>"
      ],
      "text/plain": [
       "               step        amount  oldbalanceOrg  newbalanceOrig  \\\n",
       "count  6.362620e+06  6.362620e+06   6.362620e+06    6.362620e+06   \n",
       "mean   2.433972e+02  1.798619e+05   8.338831e+05    8.551137e+05   \n",
       "std    1.423320e+02  6.038582e+05   2.888243e+06    2.924049e+06   \n",
       "min    1.000000e+00  0.000000e+00   0.000000e+00    0.000000e+00   \n",
       "25%    1.560000e+02  1.338957e+04   0.000000e+00    0.000000e+00   \n",
       "50%    2.390000e+02  7.487194e+04   1.420800e+04    0.000000e+00   \n",
       "75%    3.350000e+02  2.087215e+05   1.073152e+05    1.442584e+05   \n",
       "max    7.430000e+02  9.244552e+07   5.958504e+07    4.958504e+07   \n",
       "\n",
       "       oldbalanceDest  newbalanceDest       isFraud  isFlaggedFraud  \n",
       "count    6.362620e+06    6.362620e+06  6.362620e+06    6.362620e+06  \n",
       "mean     1.100702e+06    1.224996e+06  1.290820e-03    2.514687e-06  \n",
       "std      3.399180e+06    3.674129e+06  3.590480e-02    1.585775e-03  \n",
       "min      0.000000e+00    0.000000e+00  0.000000e+00    0.000000e+00  \n",
       "25%      0.000000e+00    0.000000e+00  0.000000e+00    0.000000e+00  \n",
       "50%      1.327057e+05    2.146614e+05  0.000000e+00    0.000000e+00  \n",
       "75%      9.430367e+05    1.111909e+06  0.000000e+00    0.000000e+00  \n",
       "max      3.560159e+08    3.561793e+08  1.000000e+00    1.000000e+00  "
      ]
     },
     "execution_count": 109,
     "metadata": {},
     "output_type": "execute_result"
    }
   ],
   "source": [
    "Data.describe()"
   ]
  },
  {
   "cell_type": "code",
   "execution_count": 110,
   "metadata": {
    "execution": {
     "iopub.execute_input": "2024-09-04T12:18:35.223036Z",
     "iopub.status.busy": "2024-09-04T12:18:35.222702Z",
     "iopub.status.idle": "2024-09-04T12:18:56.376052Z",
     "shell.execute_reply": "2024-09-04T12:18:56.374931Z",
     "shell.execute_reply.started": "2024-09-04T12:18:35.223004Z"
    }
   },
   "outputs": [
    {
     "data": {
      "text/html": [
       "<div>\n",
       "<style scoped>\n",
       "    .dataframe tbody tr th:only-of-type {\n",
       "        vertical-align: middle;\n",
       "    }\n",
       "\n",
       "    .dataframe tbody tr th {\n",
       "        vertical-align: top;\n",
       "    }\n",
       "\n",
       "    .dataframe thead th {\n",
       "        text-align: right;\n",
       "    }\n",
       "</style>\n",
       "<table border=\"1\" class=\"dataframe\">\n",
       "  <thead>\n",
       "    <tr style=\"text-align: right;\">\n",
       "      <th></th>\n",
       "      <th>step</th>\n",
       "      <th>type</th>\n",
       "      <th>amount</th>\n",
       "      <th>nameOrig</th>\n",
       "      <th>oldbalanceOrg</th>\n",
       "      <th>newbalanceOrig</th>\n",
       "      <th>nameDest</th>\n",
       "      <th>oldbalanceDest</th>\n",
       "      <th>newbalanceDest</th>\n",
       "      <th>isFraud</th>\n",
       "      <th>isFlaggedFraud</th>\n",
       "    </tr>\n",
       "  </thead>\n",
       "  <tbody>\n",
       "    <tr>\n",
       "      <th>count</th>\n",
       "      <td>6.362620e+06</td>\n",
       "      <td>6362620</td>\n",
       "      <td>6.362620e+06</td>\n",
       "      <td>6362620</td>\n",
       "      <td>6.362620e+06</td>\n",
       "      <td>6.362620e+06</td>\n",
       "      <td>6362620</td>\n",
       "      <td>6.362620e+06</td>\n",
       "      <td>6.362620e+06</td>\n",
       "      <td>6.362620e+06</td>\n",
       "      <td>6.362620e+06</td>\n",
       "    </tr>\n",
       "    <tr>\n",
       "      <th>unique</th>\n",
       "      <td>NaN</td>\n",
       "      <td>5</td>\n",
       "      <td>NaN</td>\n",
       "      <td>6353307</td>\n",
       "      <td>NaN</td>\n",
       "      <td>NaN</td>\n",
       "      <td>2722362</td>\n",
       "      <td>NaN</td>\n",
       "      <td>NaN</td>\n",
       "      <td>NaN</td>\n",
       "      <td>NaN</td>\n",
       "    </tr>\n",
       "    <tr>\n",
       "      <th>top</th>\n",
       "      <td>NaN</td>\n",
       "      <td>CASH_OUT</td>\n",
       "      <td>NaN</td>\n",
       "      <td>C1902386530</td>\n",
       "      <td>NaN</td>\n",
       "      <td>NaN</td>\n",
       "      <td>C1286084959</td>\n",
       "      <td>NaN</td>\n",
       "      <td>NaN</td>\n",
       "      <td>NaN</td>\n",
       "      <td>NaN</td>\n",
       "    </tr>\n",
       "    <tr>\n",
       "      <th>freq</th>\n",
       "      <td>NaN</td>\n",
       "      <td>2237500</td>\n",
       "      <td>NaN</td>\n",
       "      <td>3</td>\n",
       "      <td>NaN</td>\n",
       "      <td>NaN</td>\n",
       "      <td>113</td>\n",
       "      <td>NaN</td>\n",
       "      <td>NaN</td>\n",
       "      <td>NaN</td>\n",
       "      <td>NaN</td>\n",
       "    </tr>\n",
       "    <tr>\n",
       "      <th>mean</th>\n",
       "      <td>2.433972e+02</td>\n",
       "      <td>NaN</td>\n",
       "      <td>1.798619e+05</td>\n",
       "      <td>NaN</td>\n",
       "      <td>8.338831e+05</td>\n",
       "      <td>8.551137e+05</td>\n",
       "      <td>NaN</td>\n",
       "      <td>1.100702e+06</td>\n",
       "      <td>1.224996e+06</td>\n",
       "      <td>1.290820e-03</td>\n",
       "      <td>2.514687e-06</td>\n",
       "    </tr>\n",
       "    <tr>\n",
       "      <th>std</th>\n",
       "      <td>1.423320e+02</td>\n",
       "      <td>NaN</td>\n",
       "      <td>6.038582e+05</td>\n",
       "      <td>NaN</td>\n",
       "      <td>2.888243e+06</td>\n",
       "      <td>2.924049e+06</td>\n",
       "      <td>NaN</td>\n",
       "      <td>3.399180e+06</td>\n",
       "      <td>3.674129e+06</td>\n",
       "      <td>3.590480e-02</td>\n",
       "      <td>1.585775e-03</td>\n",
       "    </tr>\n",
       "    <tr>\n",
       "      <th>min</th>\n",
       "      <td>1.000000e+00</td>\n",
       "      <td>NaN</td>\n",
       "      <td>0.000000e+00</td>\n",
       "      <td>NaN</td>\n",
       "      <td>0.000000e+00</td>\n",
       "      <td>0.000000e+00</td>\n",
       "      <td>NaN</td>\n",
       "      <td>0.000000e+00</td>\n",
       "      <td>0.000000e+00</td>\n",
       "      <td>0.000000e+00</td>\n",
       "      <td>0.000000e+00</td>\n",
       "    </tr>\n",
       "    <tr>\n",
       "      <th>25%</th>\n",
       "      <td>1.560000e+02</td>\n",
       "      <td>NaN</td>\n",
       "      <td>1.338957e+04</td>\n",
       "      <td>NaN</td>\n",
       "      <td>0.000000e+00</td>\n",
       "      <td>0.000000e+00</td>\n",
       "      <td>NaN</td>\n",
       "      <td>0.000000e+00</td>\n",
       "      <td>0.000000e+00</td>\n",
       "      <td>0.000000e+00</td>\n",
       "      <td>0.000000e+00</td>\n",
       "    </tr>\n",
       "    <tr>\n",
       "      <th>50%</th>\n",
       "      <td>2.390000e+02</td>\n",
       "      <td>NaN</td>\n",
       "      <td>7.487194e+04</td>\n",
       "      <td>NaN</td>\n",
       "      <td>1.420800e+04</td>\n",
       "      <td>0.000000e+00</td>\n",
       "      <td>NaN</td>\n",
       "      <td>1.327057e+05</td>\n",
       "      <td>2.146614e+05</td>\n",
       "      <td>0.000000e+00</td>\n",
       "      <td>0.000000e+00</td>\n",
       "    </tr>\n",
       "    <tr>\n",
       "      <th>75%</th>\n",
       "      <td>3.350000e+02</td>\n",
       "      <td>NaN</td>\n",
       "      <td>2.087215e+05</td>\n",
       "      <td>NaN</td>\n",
       "      <td>1.073152e+05</td>\n",
       "      <td>1.442584e+05</td>\n",
       "      <td>NaN</td>\n",
       "      <td>9.430367e+05</td>\n",
       "      <td>1.111909e+06</td>\n",
       "      <td>0.000000e+00</td>\n",
       "      <td>0.000000e+00</td>\n",
       "    </tr>\n",
       "    <tr>\n",
       "      <th>max</th>\n",
       "      <td>7.430000e+02</td>\n",
       "      <td>NaN</td>\n",
       "      <td>9.244552e+07</td>\n",
       "      <td>NaN</td>\n",
       "      <td>5.958504e+07</td>\n",
       "      <td>4.958504e+07</td>\n",
       "      <td>NaN</td>\n",
       "      <td>3.560159e+08</td>\n",
       "      <td>3.561793e+08</td>\n",
       "      <td>1.000000e+00</td>\n",
       "      <td>1.000000e+00</td>\n",
       "    </tr>\n",
       "  </tbody>\n",
       "</table>\n",
       "</div>"
      ],
      "text/plain": [
       "                step      type        amount     nameOrig  oldbalanceOrg  \\\n",
       "count   6.362620e+06   6362620  6.362620e+06      6362620   6.362620e+06   \n",
       "unique           NaN         5           NaN      6353307            NaN   \n",
       "top              NaN  CASH_OUT           NaN  C1902386530            NaN   \n",
       "freq             NaN   2237500           NaN            3            NaN   \n",
       "mean    2.433972e+02       NaN  1.798619e+05          NaN   8.338831e+05   \n",
       "std     1.423320e+02       NaN  6.038582e+05          NaN   2.888243e+06   \n",
       "min     1.000000e+00       NaN  0.000000e+00          NaN   0.000000e+00   \n",
       "25%     1.560000e+02       NaN  1.338957e+04          NaN   0.000000e+00   \n",
       "50%     2.390000e+02       NaN  7.487194e+04          NaN   1.420800e+04   \n",
       "75%     3.350000e+02       NaN  2.087215e+05          NaN   1.073152e+05   \n",
       "max     7.430000e+02       NaN  9.244552e+07          NaN   5.958504e+07   \n",
       "\n",
       "        newbalanceOrig     nameDest  oldbalanceDest  newbalanceDest  \\\n",
       "count     6.362620e+06      6362620    6.362620e+06    6.362620e+06   \n",
       "unique             NaN      2722362             NaN             NaN   \n",
       "top                NaN  C1286084959             NaN             NaN   \n",
       "freq               NaN          113             NaN             NaN   \n",
       "mean      8.551137e+05          NaN    1.100702e+06    1.224996e+06   \n",
       "std       2.924049e+06          NaN    3.399180e+06    3.674129e+06   \n",
       "min       0.000000e+00          NaN    0.000000e+00    0.000000e+00   \n",
       "25%       0.000000e+00          NaN    0.000000e+00    0.000000e+00   \n",
       "50%       0.000000e+00          NaN    1.327057e+05    2.146614e+05   \n",
       "75%       1.442584e+05          NaN    9.430367e+05    1.111909e+06   \n",
       "max       4.958504e+07          NaN    3.560159e+08    3.561793e+08   \n",
       "\n",
       "             isFraud  isFlaggedFraud  \n",
       "count   6.362620e+06    6.362620e+06  \n",
       "unique           NaN             NaN  \n",
       "top              NaN             NaN  \n",
       "freq             NaN             NaN  \n",
       "mean    1.290820e-03    2.514687e-06  \n",
       "std     3.590480e-02    1.585775e-03  \n",
       "min     0.000000e+00    0.000000e+00  \n",
       "25%     0.000000e+00    0.000000e+00  \n",
       "50%     0.000000e+00    0.000000e+00  \n",
       "75%     0.000000e+00    0.000000e+00  \n",
       "max     1.000000e+00    1.000000e+00  "
      ]
     },
     "execution_count": 110,
     "metadata": {},
     "output_type": "execute_result"
    }
   ],
   "source": [
    "Data.describe(include='all')"
   ]
  },
  {
   "cell_type": "code",
   "execution_count": 111,
   "metadata": {
    "execution": {
     "iopub.execute_input": "2024-09-04T12:18:56.378123Z",
     "iopub.status.busy": "2024-09-04T12:18:56.377646Z",
     "iopub.status.idle": "2024-09-04T12:18:56.778873Z",
     "shell.execute_reply": "2024-09-04T12:18:56.777691Z",
     "shell.execute_reply.started": "2024-09-04T12:18:56.378073Z"
    }
   },
   "outputs": [],
   "source": [
    "# copy Data to Fraud\n",
    "\n",
    "Fraud = Data.copy()"
   ]
  },
  {
   "cell_type": "code",
   "execution_count": 112,
   "metadata": {
    "execution": {
     "iopub.execute_input": "2024-09-04T12:18:56.781140Z",
     "iopub.status.busy": "2024-09-04T12:18:56.780469Z",
     "iopub.status.idle": "2024-09-04T12:18:56.800017Z",
     "shell.execute_reply": "2024-09-04T12:18:56.798731Z",
     "shell.execute_reply.started": "2024-09-04T12:18:56.781092Z"
    }
   },
   "outputs": [
    {
     "data": {
      "text/html": [
       "<div>\n",
       "<style scoped>\n",
       "    .dataframe tbody tr th:only-of-type {\n",
       "        vertical-align: middle;\n",
       "    }\n",
       "\n",
       "    .dataframe tbody tr th {\n",
       "        vertical-align: top;\n",
       "    }\n",
       "\n",
       "    .dataframe thead th {\n",
       "        text-align: right;\n",
       "    }\n",
       "</style>\n",
       "<table border=\"1\" class=\"dataframe\">\n",
       "  <thead>\n",
       "    <tr style=\"text-align: right;\">\n",
       "      <th></th>\n",
       "      <th>step</th>\n",
       "      <th>type</th>\n",
       "      <th>amount</th>\n",
       "      <th>nameOrig</th>\n",
       "      <th>oldbalanceOrg</th>\n",
       "      <th>newbalanceOrig</th>\n",
       "      <th>nameDest</th>\n",
       "      <th>oldbalanceDest</th>\n",
       "      <th>newbalanceDest</th>\n",
       "      <th>isFraud</th>\n",
       "      <th>isFlaggedFraud</th>\n",
       "    </tr>\n",
       "  </thead>\n",
       "  <tbody>\n",
       "    <tr>\n",
       "      <th>0</th>\n",
       "      <td>1</td>\n",
       "      <td>PAYMENT</td>\n",
       "      <td>9839.64</td>\n",
       "      <td>C1231006815</td>\n",
       "      <td>170136.0</td>\n",
       "      <td>160296.36</td>\n",
       "      <td>M1979787155</td>\n",
       "      <td>0.0</td>\n",
       "      <td>0.0</td>\n",
       "      <td>0</td>\n",
       "      <td>0</td>\n",
       "    </tr>\n",
       "    <tr>\n",
       "      <th>1</th>\n",
       "      <td>1</td>\n",
       "      <td>PAYMENT</td>\n",
       "      <td>1864.28</td>\n",
       "      <td>C1666544295</td>\n",
       "      <td>21249.0</td>\n",
       "      <td>19384.72</td>\n",
       "      <td>M2044282225</td>\n",
       "      <td>0.0</td>\n",
       "      <td>0.0</td>\n",
       "      <td>0</td>\n",
       "      <td>0</td>\n",
       "    </tr>\n",
       "    <tr>\n",
       "      <th>2</th>\n",
       "      <td>1</td>\n",
       "      <td>TRANSFER</td>\n",
       "      <td>181.00</td>\n",
       "      <td>C1305486145</td>\n",
       "      <td>181.0</td>\n",
       "      <td>0.00</td>\n",
       "      <td>C553264065</td>\n",
       "      <td>0.0</td>\n",
       "      <td>0.0</td>\n",
       "      <td>1</td>\n",
       "      <td>0</td>\n",
       "    </tr>\n",
       "    <tr>\n",
       "      <th>3</th>\n",
       "      <td>1</td>\n",
       "      <td>CASH_OUT</td>\n",
       "      <td>181.00</td>\n",
       "      <td>C840083671</td>\n",
       "      <td>181.0</td>\n",
       "      <td>0.00</td>\n",
       "      <td>C38997010</td>\n",
       "      <td>21182.0</td>\n",
       "      <td>0.0</td>\n",
       "      <td>1</td>\n",
       "      <td>0</td>\n",
       "    </tr>\n",
       "    <tr>\n",
       "      <th>4</th>\n",
       "      <td>1</td>\n",
       "      <td>PAYMENT</td>\n",
       "      <td>11668.14</td>\n",
       "      <td>C2048537720</td>\n",
       "      <td>41554.0</td>\n",
       "      <td>29885.86</td>\n",
       "      <td>M1230701703</td>\n",
       "      <td>0.0</td>\n",
       "      <td>0.0</td>\n",
       "      <td>0</td>\n",
       "      <td>0</td>\n",
       "    </tr>\n",
       "  </tbody>\n",
       "</table>\n",
       "</div>"
      ],
      "text/plain": [
       "   step      type    amount     nameOrig  oldbalanceOrg  newbalanceOrig  \\\n",
       "0     1   PAYMENT   9839.64  C1231006815       170136.0       160296.36   \n",
       "1     1   PAYMENT   1864.28  C1666544295        21249.0        19384.72   \n",
       "2     1  TRANSFER    181.00  C1305486145          181.0            0.00   \n",
       "3     1  CASH_OUT    181.00   C840083671          181.0            0.00   \n",
       "4     1   PAYMENT  11668.14  C2048537720        41554.0        29885.86   \n",
       "\n",
       "      nameDest  oldbalanceDest  newbalanceDest  isFraud  isFlaggedFraud  \n",
       "0  M1979787155             0.0             0.0        0               0  \n",
       "1  M2044282225             0.0             0.0        0               0  \n",
       "2   C553264065             0.0             0.0        1               0  \n",
       "3    C38997010         21182.0             0.0        1               0  \n",
       "4  M1230701703             0.0             0.0        0               0  "
      ]
     },
     "execution_count": 112,
     "metadata": {},
     "output_type": "execute_result"
    }
   ],
   "source": [
    "Data.head()"
   ]
  },
  {
   "cell_type": "code",
   "execution_count": 13,
   "metadata": {
    "execution": {
     "iopub.execute_input": "2024-09-04T12:52:40.211829Z",
     "iopub.status.busy": "2024-09-04T12:52:40.211000Z",
     "iopub.status.idle": "2024-09-04T12:52:40.238737Z",
     "shell.execute_reply": "2024-09-04T12:52:40.237420Z",
     "shell.execute_reply.started": "2024-09-04T12:52:40.211773Z"
    }
   },
   "outputs": [
    {
     "name": "stdout",
     "output_type": "stream",
     "text": [
      "<class 'pandas.core.frame.DataFrame'>\n",
      "RangeIndex: 6362620 entries, 0 to 6362619\n",
      "Data columns (total 11 columns):\n",
      " #   Column          Dtype  \n",
      "---  ------          -----  \n",
      " 0   step            int64  \n",
      " 1   type            object \n",
      " 2   amount          float64\n",
      " 3   nameOrig        object \n",
      " 4   oldbalanceOrg   float64\n",
      " 5   newbalanceOrig  float64\n",
      " 6   nameDest        object \n",
      " 7   oldbalanceDest  float64\n",
      " 8   newbalanceDest  float64\n",
      " 9   isFraud         int64  \n",
      " 10  isFlaggedFraud  int64  \n",
      "dtypes: float64(5), int64(3), object(3)\n",
      "memory usage: 534.0+ MB\n"
     ]
    }
   ],
   "source": [
    "Data.info()"
   ]
  },
  {
   "cell_type": "code",
   "execution_count": 14,
   "metadata": {
    "execution": {
     "iopub.execute_input": "2024-09-04T12:52:49.034452Z",
     "iopub.status.busy": "2024-09-04T12:52:49.033600Z",
     "iopub.status.idle": "2024-09-04T12:52:49.041447Z",
     "shell.execute_reply": "2024-09-04T12:52:49.040274Z",
     "shell.execute_reply.started": "2024-09-04T12:52:49.034405Z"
    }
   },
   "outputs": [
    {
     "data": {
      "text/plain": [
       "Index(['step', 'type', 'amount', 'nameOrig', 'oldbalanceOrg', 'newbalanceOrig',\n",
       "       'nameDest', 'oldbalanceDest', 'newbalanceDest', 'isFraud',\n",
       "       'isFlaggedFraud'],\n",
       "      dtype='object')"
      ]
     },
     "execution_count": 14,
     "metadata": {},
     "output_type": "execute_result"
    }
   ],
   "source": [
    "Data.columns"
   ]
  },
  {
   "cell_type": "code",
   "execution_count": 109,
   "metadata": {
    "execution": {
     "iopub.execute_input": "2024-09-04T13:50:25.186781Z",
     "iopub.status.busy": "2024-09-04T13:50:25.186294Z",
     "iopub.status.idle": "2024-09-04T13:50:25.192113Z",
     "shell.execute_reply": "2024-09-04T13:50:25.190835Z",
     "shell.execute_reply.started": "2024-09-04T13:50:25.186734Z"
    }
   },
   "outputs": [],
   "source": [
    "#Handling Missing Values:\n"
   ]
  },
  {
   "cell_type": "code",
   "execution_count": 111,
   "metadata": {
    "execution": {
     "iopub.execute_input": "2024-09-04T13:51:13.844515Z",
     "iopub.status.busy": "2024-09-04T13:51:13.844064Z",
     "iopub.status.idle": "2024-09-04T13:51:15.604143Z",
     "shell.execute_reply": "2024-09-04T13:51:15.602977Z",
     "shell.execute_reply.started": "2024-09-04T13:51:13.844471Z"
    }
   },
   "outputs": [
    {
     "name": "stdout",
     "output_type": "stream",
     "text": [
      "Missing Values:\n",
      " step                 0\n",
      "type                 0\n",
      "amount               0\n",
      "nameOrig             0\n",
      "oldbalanceOrg        0\n",
      "newbalanceOrig       0\n",
      "nameDest             0\n",
      "oldbalanceDest       0\n",
      "newbalanceDest       0\n",
      "isFraud              0\n",
      "isFlaggedFraud       0\n",
      "type_encoded         0\n",
      "origBalance_inacc    0\n",
      "destBalance_inacc    0\n",
      "dtype: int64\n"
     ]
    }
   ],
   "source": [
    "# Checking for missing values\n",
    "missing_values = Data.isnull().sum()\n",
    "print(\"Missing Values:\\n\", missing_values)\n",
    "\n",
    "\n"
   ]
  },
  {
   "cell_type": "code",
   "execution_count": 115,
   "metadata": {
    "execution": {
     "iopub.execute_input": "2024-09-04T13:55:14.539063Z",
     "iopub.status.busy": "2024-09-04T13:55:14.538571Z",
     "iopub.status.idle": "2024-09-04T13:55:17.212562Z",
     "shell.execute_reply": "2024-09-04T13:55:17.211337Z",
     "shell.execute_reply.started": "2024-09-04T13:55:14.539017Z"
    }
   },
   "outputs": [],
   "source": [
    "# Option 1: Dropping rows with missing values\n",
    "df_cleaned = Data.dropna()\n"
   ]
  },
  {
   "cell_type": "code",
   "execution_count": 15,
   "metadata": {
    "execution": {
     "iopub.execute_input": "2024-09-04T12:52:58.426368Z",
     "iopub.status.busy": "2024-09-04T12:52:58.425914Z",
     "iopub.status.idle": "2024-09-04T12:52:59.402160Z",
     "shell.execute_reply": "2024-09-04T12:52:59.401091Z",
     "shell.execute_reply.started": "2024-09-04T12:52:58.426304Z"
    }
   },
   "outputs": [
    {
     "data": {
      "text/plain": [
       "step              0\n",
       "type              0\n",
       "amount            0\n",
       "nameOrig          0\n",
       "oldbalanceOrg     0\n",
       "newbalanceOrig    0\n",
       "nameDest          0\n",
       "oldbalanceDest    0\n",
       "newbalanceDest    0\n",
       "isFraud           0\n",
       "isFlaggedFraud    0\n",
       "dtype: int64"
      ]
     },
     "execution_count": 15,
     "metadata": {},
     "output_type": "execute_result"
    }
   ],
   "source": [
    "Data.isnull().sum()"
   ]
  },
  {
   "cell_type": "code",
   "execution_count": null,
   "metadata": {},
   "outputs": [],
   "source": [
    "2. Handling Outliers:\n"
   ]
  },
  {
   "cell_type": "code",
   "execution_count": 123,
   "metadata": {
    "execution": {
     "iopub.execute_input": "2024-09-04T14:03:06.624476Z",
     "iopub.status.busy": "2024-09-04T14:03:06.623193Z",
     "iopub.status.idle": "2024-09-04T14:03:23.109555Z",
     "shell.execute_reply": "2024-09-04T14:03:23.108250Z",
     "shell.execute_reply.started": "2024-09-04T14:03:06.624417Z"
    }
   },
   "outputs": [
    {
     "data": {
      "image/png": "[encoded data removed]",
      "text/plain": [
       "<Figure size 800x400 with 1 Axes>"
      ]
     },
     "metadata": {},
     "output_type": "display_data"
    },
    {
     "data": {
      "image/png": "[encoded data removed]",
      "text/plain": [
       "<Figure size 800x400 with 1 Axes>"
      ]
     },
     "metadata": {},
     "output_type": "display_data"
    },
    {
     "data": {
      "image/png": "[encoded data removed]",
      "text/plain": [
       "<Figure size 800x400 with 1 Axes>"
      ]
     },
     "metadata": {},
     "output_type": "display_data"
    },
    {
     "data": {
      "image/png": "[encoded data removed]",
      "text/plain": [
       "<Figure size 800x400 with 1 Axes>"
      ]
     },
     "metadata": {},
     "output_type": "display_data"
    },
    {
     "data": {
      "image/png": "[encoded data removed]",
      "text/plain": [
       "<Figure size 800x400 with 1 Axes>"
      ]
     },
     "metadata": {},
     "output_type": "display_data"
    },
    {
     "data": {
      "image/png": "[encoded data removed]",
      "text/plain": [
       "<Figure size 800x400 with 1 Axes>"
      ]
     },
     "metadata": {},
     "output_type": "display_data"
    },
    {
     "data": {
      "image/png": "[encoded data removed]",
      "text/plain": [
       "<Figure size 800x400 with 1 Axes>"
      ]
     },
     "metadata": {},
     "output_type": "display_data"
    },
    {
     "data": {
      "image/png": "[encoded data removed]",
      "text/plain": [
       "<Figure size 800x400 with 1 Axes>"
      ]
     },
     "metadata": {},
     "output_type": "display_data"
    },
    {
     "data": {
      "image/png": "[encoded data removed]",
      "text/plain": [
       "<Figure size 800x400 with 1 Axes>"
      ]
     },
     "metadata": {},
     "output_type": "display_data"
    },
    {
     "data": {
      "image/png": "[encoded data removed]",
      "text/plain": [
       "<Figure size 800x400 with 1 Axes>"
      ]
     },
     "metadata": {},
     "output_type": "display_data"
    },
    {
     "data": {
      "image/png": "[encoded data removed]",
      "text/plain": [
       "<Figure size 800x400 with 1 Axes>"
      ]
     },
     "metadata": {},
     "output_type": "display_data"
    }
   ],
   "source": [
    "import seaborn as sns\n",
    "import matplotlib.pyplot as plt\n",
    "\n",
    "# Loop through all numeric columns and plot box plots\n",
    "for column in Data.select_dtypes(include=['float64', 'int64']).columns:\n",
    "    plt.figure(figsize=(8, 4))\n",
    "    sns.boxplot(x=Data[column])\n",
    "    plt.title(f'Boxplot of {column}')\n",
    "    plt.show()\n"
   ]
  },
  {
   "cell_type": "code",
   "execution_count": 124,
   "metadata": {
    "execution": {
     "iopub.execute_input": "2024-09-04T14:04:09.964016Z",
     "iopub.status.busy": "2024-09-04T14:04:09.963579Z",
     "iopub.status.idle": "2024-09-04T14:04:17.866065Z",
     "shell.execute_reply": "2024-09-04T14:04:17.864487Z",
     "shell.execute_reply.started": "2024-09-04T14:04:09.963975Z"
    }
   },
   "outputs": [],
   "source": [
    "# Removing outliers using IQR for all numeric columns\n",
    "for column in Data.select_dtypes(include=['float64', 'int64']).columns:\n",
    "    Q1 = Data[column].quantile(0.25)\n",
    "    Q3 = Data[column].quantile(0.75)\n",
    "    IQR = Q3 - Q1\n",
    "    Data = Data[~((Data[column] < (Q1 - 1.5 * IQR)) | (Data[column] > (Q3 + 1.5 * IQR)))]\n"
   ]
  },
  {
   "cell_type": "code",
   "execution_count": null,
   "metadata": {},
   "outputs": [],
   "source": [
    "3. Checking for Multicollinearity:\n"
   ]
  },
  {
   "cell_type": "code",
   "execution_count": 127,
   "metadata": {
    "execution": {
     "iopub.execute_input": "2024-09-04T14:07:52.752373Z",
     "iopub.status.busy": "2024-09-04T14:07:52.751814Z",
     "iopub.status.idle": "2024-09-04T14:08:14.258300Z",
     "shell.execute_reply": "2024-09-04T14:08:14.256998Z",
     "shell.execute_reply.started": "2024-09-04T14:07:52.752310Z"
    }
   },
   "outputs": [
    {
     "name": "stdout",
     "output_type": "stream",
     "text": [
      "Index(['step', 'type', 'amount', 'nameOrig', 'oldbalanceOrg', 'newbalanceOrig',\n",
      "       'nameDest', 'oldbalanceDest', 'newbalanceDest', 'isFraud',\n",
      "       'isFlaggedFraud', 'type_encoded', 'origBalance_inacc',\n",
      "       'destBalance_inacc'],\n",
      "      dtype='object')\n",
      "              feature        VIF\n",
      "0                step   1.007365\n",
      "1              amount   5.931395\n",
      "2       oldbalanceOrg   1.262849\n",
      "3      newbalanceOrig   1.247868\n",
      "4      oldbalanceDest  26.952922\n",
      "5      newbalanceDest  39.529248\n",
      "6             isFraud        NaN\n",
      "7      isFlaggedFraud        NaN\n",
      "8        type_encoded   2.241467\n",
      "9   origBalance_inacc  13.083022\n",
      "10  destBalance_inacc   1.586593\n"
     ]
    }
   ],
   "source": [
    "from statsmodels.stats.outliers_influence import variance_inflation_factor\n",
    "import pandas as pd\n",
    "\n",
    "# Display all columns to identify available features\n",
    "print(Data.columns)\n",
    "\n",
    "# Select the numeric features from the DataFrame for VIF calculation\n",
    "X = Data.select_dtypes(include=['float64', 'int64'])\n",
    "\n",
    "# Creating a DataFrame to store VIF values\n",
    "vif_data = pd.DataFrame()\n",
    "vif_data[\"feature\"] = X.columns\n",
    "vif_data[\"VIF\"] = [variance_inflation_factor(X.values, i) for i in range(len(X.columns))]\n",
    "\n",
    "# Displaying the VIF data\n",
    "print(vif_data)\n",
    "\n"
   ]
  },
  {
   "cell_type": "code",
   "execution_count": null,
   "metadata": {},
   "outputs": [],
   "source": []
  },
  {
   "cell_type": "code",
   "execution_count": 116,
   "metadata": {
    "execution": {
     "iopub.execute_input": "2024-09-04T12:18:57.838563Z",
     "iopub.status.busy": "2024-09-04T12:18:57.838045Z",
     "iopub.status.idle": "2024-09-04T12:18:57.844456Z",
     "shell.execute_reply": "2024-09-04T12:18:57.843245Z",
     "shell.execute_reply.started": "2024-09-04T12:18:57.838515Z"
    }
   },
   "outputs": [],
   "source": [
    "#### There are no null values in the data"
   ]
  },
  {
   "cell_type": "code",
   "execution_count": 17,
   "metadata": {
    "execution": {
     "iopub.execute_input": "2024-09-04T12:53:27.840606Z",
     "iopub.status.busy": "2024-09-04T12:53:27.839806Z",
     "iopub.status.idle": "2024-09-04T12:53:27.913791Z",
     "shell.execute_reply": "2024-09-04T12:53:27.912419Z",
     "shell.execute_reply.started": "2024-09-04T12:53:27.840555Z"
    }
   },
   "outputs": [
    {
     "data": {
      "text/plain": [
       "isFraud\n",
       "0    6354407\n",
       "1       8213\n",
       "Name: count, dtype: int64"
      ]
     },
     "execution_count": 17,
     "metadata": {},
     "output_type": "execute_result"
    }
   ],
   "source": [
    "## checking whether the data is balanced or not.\n",
    "Data['isFraud'].value_counts()"
   ]
  },
  {
   "cell_type": "code",
   "execution_count": 18,
   "metadata": {
    "execution": {
     "iopub.execute_input": "2024-09-04T12:53:34.133283Z",
     "iopub.status.busy": "2024-09-04T12:53:34.132243Z",
     "iopub.status.idle": "2024-09-04T12:53:34.203038Z",
     "shell.execute_reply": "2024-09-04T12:53:34.201888Z",
     "shell.execute_reply.started": "2024-09-04T12:53:34.133235Z"
    }
   },
   "outputs": [
    {
     "data": {
      "text/plain": [
       "isFlaggedFraud\n",
       "0    6362604\n",
       "1         16\n",
       "Name: count, dtype: int64"
      ]
     },
     "execution_count": 18,
     "metadata": {},
     "output_type": "execute_result"
    }
   ],
   "source": [
    "Data['isFlaggedFraud'].value_counts()"
   ]
  },
  {
   "cell_type": "code",
   "execution_count": 19,
   "metadata": {
    "execution": {
     "iopub.execute_input": "2024-09-04T12:53:41.804038Z",
     "iopub.status.busy": "2024-09-04T12:53:41.803569Z",
     "iopub.status.idle": "2024-09-04T12:53:42.067064Z",
     "shell.execute_reply": "2024-09-04T12:53:42.065662Z",
     "shell.execute_reply.started": "2024-09-04T12:53:41.803993Z"
    }
   },
   "outputs": [
    {
     "data": {
      "image/png": "[encoded data removed]",
      "text/plain": [
       "<Figure size 640x480 with 1 Axes>"
      ]
     },
     "metadata": {},
     "output_type": "display_data"
    }
   ],
   "source": [
    "# Visualizing the distribution of the Target variable\n",
    "\n",
    "sns.countplot(Data['isFraud'])\n",
    "plt.show()"
   ]
  },
  {
   "cell_type": "code",
   "execution_count": 20,
   "metadata": {
    "execution": {
     "iopub.execute_input": "2024-09-04T12:53:48.801400Z",
     "iopub.status.busy": "2024-09-04T12:53:48.800483Z",
     "iopub.status.idle": "2024-09-04T12:53:48.808433Z",
     "shell.execute_reply": "2024-09-04T12:53:48.807195Z",
     "shell.execute_reply.started": "2024-09-04T12:53:48.801347Z"
    }
   },
   "outputs": [
    {
     "data": {
      "text/plain": [
       "(6362620, 11)"
      ]
     },
     "execution_count": 20,
     "metadata": {},
     "output_type": "execute_result"
    }
   ],
   "source": [
    "Data.shape"
   ]
  },
  {
   "cell_type": "code",
   "execution_count": 22,
   "metadata": {
    "execution": {
     "iopub.execute_input": "2024-09-04T12:54:01.129071Z",
     "iopub.status.busy": "2024-09-04T12:54:01.128629Z",
     "iopub.status.idle": "2024-09-04T12:54:01.135807Z",
     "shell.execute_reply": "2024-09-04T12:54:01.134406Z",
     "shell.execute_reply.started": "2024-09-04T12:54:01.129029Z"
    }
   },
   "outputs": [
    {
     "name": "stdout",
     "output_type": "stream",
     "text": [
      "['step', 'type', 'amount', 'nameOrig', 'oldbalanceOrg', 'newbalanceOrig', 'nameDest', 'oldbalanceDest', 'newbalanceDest', 'isFraud', 'isFlaggedFraud']\n",
      "The dataset has shape (6362620, 11)\n"
     ]
    }
   ],
   "source": [
    "print(list(Data.columns))\n",
    "\n",
    "# shape of data\n",
    "print(f'The dataset has shape {Data.shape}')"
   ]
  },
  {
   "cell_type": "code",
   "execution_count": 24,
   "metadata": {
    "execution": {
     "iopub.execute_input": "2024-09-04T12:54:19.121787Z",
     "iopub.status.busy": "2024-09-04T12:54:19.121131Z",
     "iopub.status.idle": "2024-09-04T12:54:19.886785Z",
     "shell.execute_reply": "2024-09-04T12:54:19.885677Z",
     "shell.execute_reply.started": "2024-09-04T12:54:19.121736Z"
    }
   },
   "outputs": [
    {
     "data": {
      "image/png": "[encoded data removed]",
      "text/plain": [
       "<Figure size 800x800 with 1 Axes>"
      ]
     },
     "metadata": {},
     "output_type": "display_data"
    }
   ],
   "source": [
    "#### Proportion of type of Transactions\n",
    "\n",
    "type = Data['type'].value_counts()\n",
    "transaction = type.index\n",
    "count = type.values\n",
    "\n",
    "# drawing piechart\n",
    "plt.figure(figsize=(8,8))\n",
    "plt.pie(count, labels=transaction, autopct='%1.0f%%')\n",
    "plt.legend(loc='upper left')\n",
    "plt.show()"
   ]
  },
  {
   "cell_type": "code",
   "execution_count": 123,
   "metadata": {
    "execution": {
     "iopub.execute_input": "2024-09-04T12:18:58.988738Z",
     "iopub.status.busy": "2024-09-04T12:18:58.988154Z",
     "iopub.status.idle": "2024-09-04T12:18:58.997109Z",
     "shell.execute_reply": "2024-09-04T12:18:58.994957Z",
     "shell.execute_reply.started": "2024-09-04T12:18:58.988698Z"
    }
   },
   "outputs": [
    {
     "data": {
      "text/plain": [
       "99.87091795518198"
      ]
     },
     "execution_count": 123,
     "metadata": {},
     "output_type": "execute_result"
    }
   ],
   "source": [
    "# non fradulent transactions are \n",
    "\n",
    "100*(6354407/6362620)"
   ]
  },
  {
   "cell_type": "code",
   "execution_count": 124,
   "metadata": {
    "execution": {
     "iopub.execute_input": "2024-09-04T12:18:58.999128Z",
     "iopub.status.busy": "2024-09-04T12:18:58.998673Z",
     "iopub.status.idle": "2024-09-04T12:18:59.006866Z",
     "shell.execute_reply": "2024-09-04T12:18:59.005572Z",
     "shell.execute_reply.started": "2024-09-04T12:18:58.999078Z"
    }
   },
   "outputs": [],
   "source": [
    "###There is almost a 99% - 0.1% distribution of the Target values which seems data is highly unbalanced"
   ]
  },
  {
   "cell_type": "code",
   "execution_count": 125,
   "metadata": {
    "execution": {
     "iopub.execute_input": "2024-09-04T12:18:59.008850Z",
     "iopub.status.busy": "2024-09-04T12:18:59.008498Z",
     "iopub.status.idle": "2024-09-04T12:18:59.018044Z",
     "shell.execute_reply": "2024-09-04T12:18:59.017099Z",
     "shell.execute_reply.started": "2024-09-04T12:18:59.008803Z"
    }
   },
   "outputs": [],
   "source": [
    "#### Checking for Correlation among the Predictors\n",
    "\n",
    "#####  Heatmap"
   ]
  },
  {
   "cell_type": "code",
   "execution_count": 25,
   "metadata": {
    "execution": {
     "iopub.execute_input": "2024-09-04T12:54:31.850505Z",
     "iopub.status.busy": "2024-09-04T12:54:31.850095Z",
     "iopub.status.idle": "2024-09-04T12:54:33.486725Z",
     "shell.execute_reply": "2024-09-04T12:54:33.485730Z",
     "shell.execute_reply.started": "2024-09-04T12:54:31.850467Z"
    }
   },
   "outputs": [],
   "source": [
    "#Filter only numeric columns:\n",
    "\n",
    "\n",
    "numeric_data = Data.select_dtypes(include=['number'])\n",
    "corr = numeric_data.corr()\n"
   ]
  },
  {
   "cell_type": "code",
   "execution_count": 26,
   "metadata": {
    "execution": {
     "iopub.execute_input": "2024-09-04T12:54:46.219353Z",
     "iopub.status.busy": "2024-09-04T12:54:46.218867Z",
     "iopub.status.idle": "2024-09-04T12:54:47.124292Z",
     "shell.execute_reply": "2024-09-04T12:54:47.123151Z",
     "shell.execute_reply.started": "2024-09-04T12:54:46.219291Z"
    }
   },
   "outputs": [
    {
     "data": {
      "image/png": "[encoded data removed]",
      "text/plain": [
       "<Figure size 2500x1500 with 2 Axes>"
      ]
     },
     "metadata": {},
     "output_type": "display_data"
    }
   ],
   "source": [
    "plt.figure(figsize=(25, 15))\n",
    "sns.heatmap(corr, annot=True, cmap='RdYlGn')\n",
    "plt.show()\n"
   ]
  },
  {
   "cell_type": "code",
   "execution_count": 128,
   "metadata": {
    "execution": {
     "iopub.execute_input": "2024-09-04T12:19:01.745805Z",
     "iopub.status.busy": "2024-09-04T12:19:01.745391Z",
     "iopub.status.idle": "2024-09-04T12:19:01.751357Z",
     "shell.execute_reply": "2024-09-04T12:19:01.750024Z",
     "shell.execute_reply.started": "2024-09-04T12:19:01.745766Z"
    }
   },
   "outputs": [],
   "source": [
    "##Data Visualization and Exploratory Data Analysis (EDA)"
   ]
  },
  {
   "cell_type": "code",
   "execution_count": 27,
   "metadata": {
    "execution": {
     "iopub.execute_input": "2024-09-04T12:54:55.511455Z",
     "iopub.status.busy": "2024-09-04T12:54:55.510991Z",
     "iopub.status.idle": "2024-09-04T12:54:56.036381Z",
     "shell.execute_reply": "2024-09-04T12:54:56.035351Z",
     "shell.execute_reply.started": "2024-09-04T12:54:55.511412Z"
    }
   },
   "outputs": [
    {
     "data": {
      "text/plain": [
       "type\n",
       "CASH_OUT    2237500\n",
       "PAYMENT     2151495\n",
       "CASH_IN     1399284\n",
       "TRANSFER     532909\n",
       "DEBIT         41432\n",
       "Name: count, dtype: int64"
      ]
     },
     "execution_count": 27,
     "metadata": {},
     "output_type": "execute_result"
    }
   ],
   "source": [
    "Data['type'].value_counts()"
   ]
  },
  {
   "cell_type": "code",
   "execution_count": 28,
   "metadata": {
    "execution": {
     "iopub.execute_input": "2024-09-04T12:55:02.856662Z",
     "iopub.status.busy": "2024-09-04T12:55:02.856218Z",
     "iopub.status.idle": "2024-09-04T12:55:02.863022Z",
     "shell.execute_reply": "2024-09-04T12:55:02.861729Z",
     "shell.execute_reply.started": "2024-09-04T12:55:02.856621Z"
    }
   },
   "outputs": [
    {
     "name": "stdout",
     "output_type": "stream",
     "text": [
      "object\n"
     ]
    }
   ],
   "source": [
    "print(Data['type'].dtype)  # Check the data type\n"
   ]
  },
  {
   "cell_type": "code",
   "execution_count": 29,
   "metadata": {
    "execution": {
     "iopub.execute_input": "2024-09-04T12:55:12.890517Z",
     "iopub.status.busy": "2024-09-04T12:55:12.890021Z",
     "iopub.status.idle": "2024-09-04T12:55:13.329062Z",
     "shell.execute_reply": "2024-09-04T12:55:13.327858Z",
     "shell.execute_reply.started": "2024-09-04T12:55:12.890468Z"
    }
   },
   "outputs": [
    {
     "name": "stdout",
     "output_type": "stream",
     "text": [
      "['PAYMENT' 'TRANSFER' 'CASH_OUT' 'DEBIT' 'CASH_IN']\n"
     ]
    }
   ],
   "source": [
    "print(Data['type'].unique())  # Check unique values in the 'type' column\n"
   ]
  },
  {
   "cell_type": "code",
   "execution_count": 30,
   "metadata": {
    "execution": {
     "iopub.execute_input": "2024-09-04T12:55:26.304119Z",
     "iopub.status.busy": "2024-09-04T12:55:26.303651Z",
     "iopub.status.idle": "2024-09-04T12:55:26.498527Z",
     "shell.execute_reply": "2024-09-04T12:55:26.497034Z",
     "shell.execute_reply.started": "2024-09-04T12:55:26.304075Z"
    }
   },
   "outputs": [],
   "source": [
    "Data['type'] = Data['type'].astype('str')  # or 'str'\n"
   ]
  },
  {
   "cell_type": "code",
   "execution_count": 31,
   "metadata": {
    "execution": {
     "iopub.execute_input": "2024-09-04T12:55:49.798308Z",
     "iopub.status.busy": "2024-09-04T12:55:49.797876Z",
     "iopub.status.idle": "2024-09-04T12:55:50.561046Z",
     "shell.execute_reply": "2024-09-04T12:55:50.559787Z",
     "shell.execute_reply.started": "2024-09-04T12:55:49.798267Z"
    }
   },
   "outputs": [
    {
     "data": {
      "image/png": "[encoded data removed]",
      "text/plain": [
       "<Figure size 640x480 with 1 Axes>"
      ]
     },
     "metadata": {},
     "output_type": "display_data"
    }
   ],
   "source": [
    "Data['type_encoded'] = Data['type'].factorize()[0]\n",
    "sns.countplot(Data['type_encoded'])\n",
    "plt.show()"
   ]
  },
  {
   "cell_type": "code",
   "execution_count": 32,
   "metadata": {
    "execution": {
     "iopub.execute_input": "2024-09-04T12:55:59.377399Z",
     "iopub.status.busy": "2024-09-04T12:55:59.376936Z",
     "iopub.status.idle": "2024-09-04T12:55:59.896721Z",
     "shell.execute_reply": "2024-09-04T12:55:59.895485Z",
     "shell.execute_reply.started": "2024-09-04T12:55:59.377356Z"
    }
   },
   "outputs": [],
   "source": [
    "# Count the occurrences of each category in the 'type' column\n",
    "type_counts = Data['type'].value_counts()"
   ]
  },
  {
   "cell_type": "code",
   "execution_count": 33,
   "metadata": {
    "execution": {
     "iopub.execute_input": "2024-09-04T12:56:12.257407Z",
     "iopub.status.busy": "2024-09-04T12:56:12.256250Z",
     "iopub.status.idle": "2024-09-04T12:56:12.518962Z",
     "shell.execute_reply": "2024-09-04T12:56:12.517605Z",
     "shell.execute_reply.started": "2024-09-04T12:56:12.257355Z"
    }
   },
   "outputs": [
    {
     "data": {
      "image/png": "[encoded data removed]",
      "text/plain": [
       "<Figure size 1000x600 with 1 Axes>"
      ]
     },
     "metadata": {},
     "output_type": "display_data"
    }
   ],
   "source": [
    "# Create a bar plot using matplotlib\n",
    "plt.figure(figsize=(10, 6))\n",
    "type_counts.plot(kind='bar')\n",
    "plt.xlabel('Type')\n",
    "plt.ylabel('Count')\n",
    "plt.title('Count of Each Type')\n",
    "plt.show()"
   ]
  },
  {
   "cell_type": "code",
   "execution_count": 136,
   "metadata": {
    "execution": {
     "iopub.execute_input": "2024-09-04T12:19:04.498553Z",
     "iopub.status.busy": "2024-09-04T12:19:04.498067Z",
     "iopub.status.idle": "2024-09-04T12:19:04.503948Z",
     "shell.execute_reply": "2024-09-04T12:19:04.502764Z",
     "shell.execute_reply.started": "2024-09-04T12:19:04.498501Z"
    }
   },
   "outputs": [],
   "source": [
    "#### Fraud Transactions by Transaction Type"
   ]
  },
  {
   "cell_type": "code",
   "execution_count": 34,
   "metadata": {
    "execution": {
     "iopub.execute_input": "2024-09-04T12:56:22.446521Z",
     "iopub.status.busy": "2024-09-04T12:56:22.444368Z",
     "iopub.status.idle": "2024-09-04T12:56:24.261010Z",
     "shell.execute_reply": "2024-09-04T12:56:24.259696Z",
     "shell.execute_reply.started": "2024-09-04T12:56:22.446424Z"
    }
   },
   "outputs": [
    {
     "data": {
      "image/png": "[encoded data removed]",
      "text/plain": [
       "<Figure size 640x480 with 1 Axes>"
      ]
     },
     "metadata": {},
     "output_type": "display_data"
    }
   ],
   "source": [
    "fraud_type = Data.groupby(['type', 'isFraud']).size().plot(kind='bar')\n",
    "fraud_type.set_title(\" Frequencies of transaction which are the actual fraud per transaction type \\n\" )\n",
    "fraud_type.set_xlabel(\"(Type of Payment, isFraud)\")\n",
    "fraud_type.set_ylabel(\"Count of transaction\")\n",
    "\n",
    "plt.show()"
   ]
  },
  {
   "cell_type": "markdown",
   "metadata": {},
   "source": [
    "#### Split of Fraud Transactions by Transaction Type"
   ]
  },
  {
   "cell_type": "code",
   "execution_count": 35,
   "metadata": {
    "execution": {
     "iopub.execute_input": "2024-09-04T12:57:00.483456Z",
     "iopub.status.busy": "2024-09-04T12:57:00.482911Z",
     "iopub.status.idle": "2024-09-04T12:57:00.780714Z",
     "shell.execute_reply": "2024-09-04T12:57:00.779351Z",
     "shell.execute_reply.started": "2024-09-04T12:57:00.483410Z"
    }
   },
   "outputs": [
    {
     "data": {
      "image/png": "[encoded data removed]",
      "text/plain": [
       "<Figure size 640x480 with 1 Axes>"
      ]
     },
     "metadata": {},
     "output_type": "display_data"
    }
   ],
   "source": [
    "fraud =Data['isFraud'].isin([1])\n",
    "\n",
    "fraud_time = Data[fraud].groupby(['type']).size().plot(kind='bar')\n",
    "fraud_time.set_xlabel(\"Transaction Type\")\n",
    "\n",
    "plt.show()"
   ]
  },
  {
   "cell_type": "code",
   "execution_count": 139,
   "metadata": {
    "execution": {
     "iopub.execute_input": "2024-09-04T12:19:05.851786Z",
     "iopub.status.busy": "2024-09-04T12:19:05.851392Z",
     "iopub.status.idle": "2024-09-04T12:19:05.856718Z",
     "shell.execute_reply": "2024-09-04T12:19:05.855613Z",
     "shell.execute_reply.started": "2024-09-04T12:19:05.851748Z"
    }
   },
   "outputs": [],
   "source": [
    "#### Checking the account balance is matching before transaction and after the transaction for both originator and recipient "
   ]
  },
  {
   "cell_type": "code",
   "execution_count": 36,
   "metadata": {
    "execution": {
     "iopub.execute_input": "2024-09-04T12:58:42.279720Z",
     "iopub.status.busy": "2024-09-04T12:58:42.279226Z",
     "iopub.status.idle": "2024-09-04T12:58:42.539736Z",
     "shell.execute_reply": "2024-09-04T12:58:42.538298Z",
     "shell.execute_reply.started": "2024-09-04T12:58:42.279678Z"
    }
   },
   "outputs": [
    {
     "name": "stdout",
     "output_type": "stream",
     "text": [
      "Are there any mismatch in the balance at origin and destination after transaction?\n",
      "Balance Error(%) at the origin: 85.09\n",
      "Balance Error(%) at the destination: 74.45\n"
     ]
    }
   ],
   "source": [
    "print(\"Are there any mismatch in the balance at origin and destination after transaction?\")\n",
    "\n",
    "Data['origBalance_inacc'] = (Data[\"oldbalanceOrg\"] - Data[\"amount\"] != Data[\"newbalanceOrig\"]).astype(int)\n",
    "Data['destBalance_inacc'] = (Data[\"oldbalanceDest\"] + Data[\"amount\"] != Data[\"newbalanceDest\"]).astype(int)\n",
    "\n",
    "print(\"Balance Error(%) at the origin:\",round(Data['origBalance_inacc'].value_counts()[1]/Data.shape[0] * 100,2))\n",
    "\n",
    "print(\"Balance Error(%) at the destination:\",round(Data['destBalance_inacc'].value_counts()[1]/Data.shape[0] * 100,2))"
   ]
  },
  {
   "cell_type": "code",
   "execution_count": 37,
   "metadata": {
    "execution": {
     "iopub.execute_input": "2024-09-04T12:59:07.460995Z",
     "iopub.status.busy": "2024-09-04T12:59:07.460152Z",
     "iopub.status.idle": "2024-09-04T12:59:08.021332Z",
     "shell.execute_reply": "2024-09-04T12:59:08.020153Z",
     "shell.execute_reply.started": "2024-09-04T12:59:07.460950Z"
    }
   },
   "outputs": [
    {
     "data": {
      "text/plain": [
       "nameDest\n",
       "C553264065     1\n",
       "C988859148     1\n",
       "C1287650869    1\n",
       "C922180689     1\n",
       "C131895413     1\n",
       "              ..\n",
       "C776246900     1\n",
       "C1234144009    1\n",
       "C571016162     1\n",
       "C1381364691    1\n",
       "C2080388513    1\n",
       "Name: count, Length: 4097, dtype: int64"
      ]
     },
     "execution_count": 37,
     "metadata": {},
     "output_type": "execute_result"
    }
   ],
   "source": [
    "data1=Data[(Data['isFraud']==1) & (Data['type']=='TRANSFER')]\n",
    "data1['nameDest'].value_counts()"
   ]
  },
  {
   "cell_type": "code",
   "execution_count": 38,
   "metadata": {
    "execution": {
     "iopub.execute_input": "2024-09-04T12:59:34.373132Z",
     "iopub.status.busy": "2024-09-04T12:59:34.372152Z",
     "iopub.status.idle": "2024-09-04T12:59:34.905132Z",
     "shell.execute_reply": "2024-09-04T12:59:34.904129Z",
     "shell.execute_reply.started": "2024-09-04T12:59:34.373085Z"
    }
   },
   "outputs": [
    {
     "data": {
      "text/plain": [
       "nameOrig\n",
       "C840083671     1\n",
       "C1055498407    1\n",
       "C1886113938    1\n",
       "C520336445     1\n",
       "C463684846     1\n",
       "              ..\n",
       "C1641368956    1\n",
       "C2120940829    1\n",
       "C992121519     1\n",
       "C1663597987    1\n",
       "C1280323807    1\n",
       "Name: count, Length: 4116, dtype: int64"
      ]
     },
     "execution_count": 38,
     "metadata": {},
     "output_type": "execute_result"
    }
   ],
   "source": [
    "data2=Data[(Data['isFraud']==1) & (Data['type']=='CASH_OUT')]\n",
    "data2['nameOrig'].value_counts()"
   ]
  },
  {
   "cell_type": "code",
   "execution_count": 39,
   "metadata": {
    "execution": {
     "iopub.execute_input": "2024-09-04T13:00:06.545750Z",
     "iopub.status.busy": "2024-09-04T13:00:06.545260Z",
     "iopub.status.idle": "2024-09-04T13:00:08.096838Z",
     "shell.execute_reply": "2024-09-04T13:00:08.095647Z",
     "shell.execute_reply.started": "2024-09-04T13:00:06.545710Z"
    }
   },
   "outputs": [],
   "source": [
    "fraud = Data[Data[\"isFraud\"] == 1]\n",
    "valid = Data[Data[\"isFraud\"] == 0]"
   ]
  },
  {
   "cell_type": "code",
   "execution_count": 157,
   "metadata": {
    "execution": {
     "iopub.execute_input": "2024-09-04T12:25:05.763094Z",
     "iopub.status.busy": "2024-09-04T12:25:05.762204Z",
     "iopub.status.idle": "2024-09-04T12:25:05.778381Z",
     "shell.execute_reply": "2024-09-04T12:25:05.777286Z",
     "shell.execute_reply.started": "2024-09-04T12:25:05.763047Z"
    }
   },
   "outputs": [
    {
     "data": {
      "text/plain": [
       "False"
      ]
     },
     "execution_count": 157,
     "metadata": {},
     "output_type": "execute_result"
    }
   ],
   "source": [
    "fraud_transfer = fraud[fraud[\"type\"] == \"TRANSFER\"]\n",
    "fraud_cashout = fraud[fraud[\"type\"] == \"CASH_OUT\"]\n",
    "\n",
    "# checking if the recipient account of a fraudulent transfer was used as a sending account for cashing out \n",
    "fraud_transfer.nameDest.isin(fraud_cashout.nameOrig).any()"
   ]
  },
  {
   "cell_type": "code",
   "execution_count": 40,
   "metadata": {
    "execution": {
     "iopub.execute_input": "2024-09-04T13:01:22.809440Z",
     "iopub.status.busy": "2024-09-04T13:01:22.808575Z",
     "iopub.status.idle": "2024-09-04T13:01:44.491447Z",
     "shell.execute_reply": "2024-09-04T13:01:44.490119Z",
     "shell.execute_reply.started": "2024-09-04T13:01:22.809392Z"
    }
   },
   "outputs": [],
   "source": [
    "# adding feature type1\n",
    "data_new = Data.copy() # creating copy of dataset in case I need original dataset\n",
    "data_new[\"Type2\"] = np.nan # initializing feature column\n",
    "\n",
    "# filling feature column\n",
    "data_new.loc[Data.nameOrig.str.contains('C') & Data.nameDest.str.contains('C'),\"Type2\"] = \"CC\" \n",
    "data_new.loc[Data.nameOrig.str.contains('C') & Data.nameDest.str.contains('M'),\"Type2\"] = \"CM\"\n",
    "data_new.loc[Data.nameOrig.str.contains('M') & Data.nameDest.str.contains('C'),\"Type2\"] = \"MC\"\n",
    "data_new.loc[Data.nameOrig.str.contains('M') & Data.nameDest.str.contains('M'),\"Type2\"] = \"MM\""
   ]
  },
  {
   "cell_type": "code",
   "execution_count": 161,
   "metadata": {
    "execution": {
     "iopub.execute_input": "2024-09-04T12:27:11.127412Z",
     "iopub.status.busy": "2024-09-04T12:27:11.126485Z",
     "iopub.status.idle": "2024-09-04T12:27:11.131923Z",
     "shell.execute_reply": "2024-09-04T12:27:11.130568Z",
     "shell.execute_reply.started": "2024-09-04T12:27:11.127363Z"
    }
   },
   "outputs": [],
   "source": [
    "### Plotting Pairplot\n",
    "### Visualizing Numeric variables against Fraud using Boxplots."
   ]
  },
  {
   "cell_type": "code",
   "execution_count": 41,
   "metadata": {
    "execution": {
     "iopub.execute_input": "2024-09-04T13:01:57.111820Z",
     "iopub.status.busy": "2024-09-04T13:01:57.111393Z",
     "iopub.status.idle": "2024-09-04T13:02:10.409744Z",
     "shell.execute_reply": "2024-09-04T13:02:10.408287Z",
     "shell.execute_reply.started": "2024-09-04T13:01:57.111782Z"
    }
   },
   "outputs": [
    {
     "data": {
      "text/plain": [
       "Text(0.5, 1.0, 'oldbalanceDest vs Fraud')"
      ]
     },
     "execution_count": 41,
     "metadata": {},
     "output_type": "execute_result"
    },
    {
     "data": {
      "image/png": "[encoded data removed]",
      "text/plain": [
       "<Figure size 2500x1600 with 4 Axes>"
      ]
     },
     "metadata": {},
     "output_type": "display_data"
    }
   ],
   "source": [
    "plt.figure(figsize=(25, 16))\n",
    "plt.subplot(2,2,1)\n",
    "sns.boxplot(x = 'isFraud', y = 'step', data = data_new)\n",
    "plt.title('step vs Fraud',fontweight=\"bold\", size=20)\n",
    "plt.subplot(2,2,2)\n",
    "sns.boxplot(x = 'isFraud', y = 'amount', data = data_new,palette=\"husl\")\n",
    "plt.title('amount vs Fraud',fontweight=\"bold\", size=20)\n",
    "plt.subplot(2,2,3)\n",
    "sns.boxplot(x = 'isFraud', y = 'oldbalanceOrg', data = data_new, palette= 'husl')\n",
    "plt.title('oldbalanceOrig vs Fraud',fontweight=\"bold\", size=20)\n",
    "plt.subplot(2,2,4)\n",
    "sns.boxplot(x = 'isFraud', y = 'oldbalanceDest', data = data_new,palette=\"bright\")\n",
    "plt.title('oldbalanceDest vs Fraud',fontweight=\"bold\", size=20)"
   ]
  },
  {
   "cell_type": "code",
   "execution_count": 164,
   "metadata": {
    "execution": {
     "iopub.execute_input": "2024-09-04T12:28:28.504480Z",
     "iopub.status.busy": "2024-09-04T12:28:28.504016Z",
     "iopub.status.idle": "2024-09-04T12:28:28.509666Z",
     "shell.execute_reply": "2024-09-04T12:28:28.508335Z",
     "shell.execute_reply.started": "2024-09-04T12:28:28.504442Z"
    }
   },
   "outputs": [],
   "source": [
    "#Median amount for fraud transactions is greater than Non Fraud transactions.\n",
    "#Balance in Origin account in Fraud transactions before transaction is greater than Balance in Origin account of Non Fraud transactions.\n"
   ]
  },
  {
   "cell_type": "code",
   "execution_count": 42,
   "metadata": {
    "execution": {
     "iopub.execute_input": "2024-09-04T13:02:59.874817Z",
     "iopub.status.busy": "2024-09-04T13:02:59.874232Z",
     "iopub.status.idle": "2024-09-04T13:03:00.779270Z",
     "shell.execute_reply": "2024-09-04T13:03:00.778128Z",
     "shell.execute_reply.started": "2024-09-04T13:02:59.874771Z"
    }
   },
   "outputs": [],
   "source": [
    "fraud = data_new[data_new[\"isFraud\"] == 1]\n",
    "valid = data_new[data_new[\"isFraud\"] == 0]"
   ]
  },
  {
   "cell_type": "code",
   "execution_count": 43,
   "metadata": {
    "execution": {
     "iopub.execute_input": "2024-09-04T13:03:05.806814Z",
     "iopub.status.busy": "2024-09-04T13:03:05.806362Z",
     "iopub.status.idle": "2024-09-04T13:03:06.149907Z",
     "shell.execute_reply": "2024-09-04T13:03:06.148658Z",
     "shell.execute_reply.started": "2024-09-04T13:03:05.806769Z"
    }
   },
   "outputs": [
    {
     "name": "stdout",
     "output_type": "stream",
     "text": [
      "Fraud transactions by type1: \n",
      " Type2\n",
      "CC    8213\n",
      "Name: count, dtype: int64\n",
      "\n",
      " Valid transactions by type1: \n",
      " Type2\n",
      "CC    4202912\n",
      "CM    2151495\n",
      "Name: count, dtype: int64\n"
     ]
    }
   ],
   "source": [
    "print(\"Fraud transactions by type1: \\n\",fraud.Type2.value_counts())\n",
    "print(\"\\n Valid transactions by type1: \\n\",valid.Type2.value_counts())"
   ]
  },
  {
   "cell_type": "code",
   "execution_count": 166,
   "metadata": {
    "execution": {
     "iopub.execute_input": "2024-09-04T12:28:45.355778Z",
     "iopub.status.busy": "2024-09-04T12:28:45.355271Z",
     "iopub.status.idle": "2024-09-04T12:28:45.360882Z",
     "shell.execute_reply": "2024-09-04T12:28:45.359742Z",
     "shell.execute_reply.started": "2024-09-04T12:28:45.355723Z"
    }
   },
   "outputs": [],
   "source": [
    "### Looking balances before and after the transaction"
   ]
  },
  {
   "cell_type": "code",
   "execution_count": 44,
   "metadata": {
    "execution": {
     "iopub.execute_input": "2024-09-04T13:04:13.443059Z",
     "iopub.status.busy": "2024-09-04T13:04:13.442563Z",
     "iopub.status.idle": "2024-09-04T13:04:14.573532Z",
     "shell.execute_reply": "2024-09-04T13:04:14.572383Z",
     "shell.execute_reply.started": "2024-09-04T13:04:13.443014Z"
    }
   },
   "outputs": [
    {
     "name": "stdout",
     "output_type": "stream",
     "text": [
      "Percentage of observations with balance errors in the account giving money:  85.0\n",
      "Percentage of observations with balance errors in the account receiving money:  100.0\n"
     ]
    }
   ],
   "source": [
    "wrong_orig_bal = sum(Data[\"oldbalanceOrg\"] - Data[\"amount\"] != Data[\"newbalanceOrig\"])\n",
    "wrong_dest_bal = sum(Data[\"newbalanceDest\"] + Data[\"amount\"] != Data[\"newbalanceDest\"])\n",
    "print(\"Percentage of observations with balance errors in the account giving money: \", 100*round(wrong_orig_bal/len(Data),2))\n",
    "print(\"Percentage of observations with balance errors in the account receiving money: \", 100*round(wrong_dest_bal/len(Data),2))"
   ]
  },
  {
   "cell_type": "code",
   "execution_count": 170,
   "metadata": {
    "execution": {
     "iopub.execute_input": "2024-09-04T12:30:48.695256Z",
     "iopub.status.busy": "2024-09-04T12:30:48.694582Z",
     "iopub.status.idle": "2024-09-04T12:30:48.700995Z",
     "shell.execute_reply": "2024-09-04T12:30:48.699781Z",
     "shell.execute_reply.started": "2024-09-04T12:30:48.695200Z"
    }
   },
   "outputs": [],
   "source": [
    "### Looking at Time"
   ]
  },
  {
   "cell_type": "code",
   "execution_count": 45,
   "metadata": {
    "execution": {
     "iopub.execute_input": "2024-09-04T13:04:23.726652Z",
     "iopub.status.busy": "2024-09-04T13:04:23.726172Z",
     "iopub.status.idle": "2024-09-04T13:04:25.405100Z",
     "shell.execute_reply": "2024-09-04T13:04:25.403821Z",
     "shell.execute_reply.started": "2024-09-04T13:04:23.726604Z"
    }
   },
   "outputs": [
    {
     "data": {
      "image/png": "[encoded data removed]",
      "text/plain": [
       "<Figure size 640x480 with 1 Axes>"
      ]
     },
     "metadata": {},
     "output_type": "display_data"
    },
    {
     "data": {
      "image/png": "[encoded data removed]",
      "text/plain": [
       "<Figure size 640x480 with 1 Axes>"
      ]
     },
     "metadata": {},
     "output_type": "display_data"
    }
   ],
   "source": [
    "bins = 50\n",
    "\n",
    "valid.hist(column=\"step\",color=\"green\",bins=bins)\n",
    "plt.xlabel(\"1 hour time step\")\n",
    "plt.ylabel(\"# of transactions\")\n",
    "plt.title(\"# of valid transactions over time\")\n",
    "\n",
    "fraud.hist(column =\"step\",color=\"red\",bins=bins)\n",
    "plt.xlabel(\"1 hour time step\")\n",
    "plt.ylabel(\"# of transactions\")\n",
    "plt.title(\"# of fraud transactions over time\")\n",
    "\n",
    "plt.tight_layout()\n",
    "plt.show()"
   ]
  },
  {
   "cell_type": "code",
   "execution_count": 173,
   "metadata": {
    "execution": {
     "iopub.execute_input": "2024-09-04T12:31:54.430804Z",
     "iopub.status.busy": "2024-09-04T12:31:54.429467Z",
     "iopub.status.idle": "2024-09-04T12:31:54.435402Z",
     "shell.execute_reply": "2024-09-04T12:31:54.434017Z",
     "shell.execute_reply.started": "2024-09-04T12:31:54.430729Z"
    }
   },
   "outputs": [],
   "source": [
    "# A large proportion of valid transactions occur between around the 0th and 60th timestep as well as the 110th and 410th time-steps.\n",
    "# The frequency at which fraudulent transactions occur does not seem to change much over time."
   ]
  },
  {
   "cell_type": "code",
   "execution_count": 174,
   "metadata": {
    "execution": {
     "iopub.execute_input": "2024-09-04T12:32:22.125226Z",
     "iopub.status.busy": "2024-09-04T12:32:22.124781Z",
     "iopub.status.idle": "2024-09-04T12:32:22.130222Z",
     "shell.execute_reply": "2024-09-04T12:32:22.129094Z",
     "shell.execute_reply.started": "2024-09-04T12:32:22.125186Z"
    }
   },
   "outputs": [],
   "source": [
    "#Let's see what the patterns look like over any particular, day of the week or hour of the day."
   ]
  },
  {
   "cell_type": "code",
   "execution_count": 46,
   "metadata": {
    "execution": {
     "iopub.execute_input": "2024-09-04T13:04:30.669037Z",
     "iopub.status.busy": "2024-09-04T13:04:30.668598Z",
     "iopub.status.idle": "2024-09-04T13:04:31.687905Z",
     "shell.execute_reply": "2024-09-04T13:04:31.686209Z",
     "shell.execute_reply.started": "2024-09-04T13:04:30.668998Z"
    }
   },
   "outputs": [
    {
     "data": {
      "image/png": "[encoded data removed]",
      "text/plain": [
       "<Figure size 640x480 with 2 Axes>"
      ]
     },
     "metadata": {},
     "output_type": "display_data"
    }
   ],
   "source": [
    "num_days = 7\n",
    "num_hours = 24\n",
    "fraud_days = (fraud.step//num_hours)% num_days\n",
    "fraud_hours = fraud.step % num_hours\n",
    "valid_days = (valid.step//num_hours) % num_days\n",
    "valid_hours = valid.step % num_hours\n",
    "\n",
    "# plotting scatterplot of the days of the week, identifying the fraudulent transactions (red) from the valid transactions (green) \n",
    "plt.subplot(1, 2, 1)\n",
    "fraud_days.hist(bins=num_days,color=\"red\")\n",
    "plt.title('Fraud transactions by Day')\n",
    "plt.xlabel('Day of the Week')\n",
    "plt.ylabel(\"# of transactions\")\n",
    "\n",
    "plt.subplot(1,2,2)\n",
    "valid_days.hist(bins=num_days,color=\"green\")\n",
    "plt.title('Valid transactions by Day')\n",
    "plt.xlabel('Day of the Week')\n",
    "plt.ylabel(\"# of transactions\")\n",
    "\n",
    "plt.tight_layout()\n",
    "plt.show()"
   ]
  },
  {
   "cell_type": "code",
   "execution_count": 47,
   "metadata": {
    "execution": {
     "iopub.execute_input": "2024-09-04T13:04:39.906903Z",
     "iopub.status.busy": "2024-09-04T13:04:39.906421Z",
     "iopub.status.idle": "2024-09-04T13:04:40.735303Z",
     "shell.execute_reply": "2024-09-04T13:04:40.734128Z",
     "shell.execute_reply.started": "2024-09-04T13:04:39.906861Z"
    }
   },
   "outputs": [
    {
     "data": {
      "image/png": "[encoded data removed]",
      "text/plain": [
       "<Figure size 640x480 with 2 Axes>"
      ]
     },
     "metadata": {},
     "output_type": "display_data"
    }
   ],
   "source": [
    "plt.subplot(1, 2, 1)\n",
    "fraud_hours.hist(bins=num_hours, color=\"red\")\n",
    "plt.title('Fraud transactions by Hour')\n",
    "plt.xlabel('Hour of the Day')\n",
    "plt.ylabel(\"# of transactions\")\n",
    "\n",
    "\n",
    "plt.subplot(1, 2, 2)\n",
    "valid_hours.hist(bins=num_hours, color=\"green\")\n",
    "plt.title('Valid transactions by Hour')\n",
    "plt.xlabel('Hour of the Day')\n",
    "plt.ylabel(\"# of transactions\")\n",
    "\n",
    "plt.tight_layout()\n",
    "plt.show()"
   ]
  },
  {
   "cell_type": "code",
   "execution_count": null,
   "metadata": {},
   "outputs": [],
   "source": [
    "#We observe that from hour 0 to hour 9 valid transactions very seldom occur. On the other hand, fraudulent transactions still occur at similar rates to any hour of the day outside of hours 0 to 9 .\n",
    "\n",
    "#In response to this, We1m will create another feature HourOfDay, which is the step column with each number taken to modulo 24.\n",
    "\n"
   ]
  },
  {
   "cell_type": "code",
   "execution_count": 48,
   "metadata": {
    "execution": {
     "iopub.execute_input": "2024-09-04T13:04:46.651813Z",
     "iopub.status.busy": "2024-09-04T13:04:46.651346Z",
     "iopub.status.idle": "2024-09-04T13:04:46.796545Z",
     "shell.execute_reply": "2024-09-04T13:04:46.795168Z",
     "shell.execute_reply.started": "2024-09-04T13:04:46.651771Z"
    }
   },
   "outputs": [
    {
     "name": "stdout",
     "output_type": "stream",
     "text": [
      "Head of dataset1: \n",
      "    step      type    amount     nameOrig  oldbalanceOrg  newbalanceOrig  \\\n",
      "0     1   PAYMENT   9839.64  C1231006815       170136.0       160296.36   \n",
      "1     1   PAYMENT   1864.28  C1666544295        21249.0        19384.72   \n",
      "2     1  TRANSFER    181.00  C1305486145          181.0            0.00   \n",
      "3     1  CASH_OUT    181.00   C840083671          181.0            0.00   \n",
      "4     1   PAYMENT  11668.14  C2048537720        41554.0        29885.86   \n",
      "\n",
      "      nameDest  oldbalanceDest  newbalanceDest  isFraud  isFlaggedFraud  \\\n",
      "0  M1979787155             0.0             0.0        0               0   \n",
      "1  M2044282225             0.0             0.0        0               0   \n",
      "2   C553264065             0.0             0.0        1               0   \n",
      "3    C38997010         21182.0             0.0        1               0   \n",
      "4  M1230701703             0.0             0.0        0               0   \n",
      "\n",
      "   type_encoded  origBalance_inacc  destBalance_inacc Type2  HourOfDay  \n",
      "0             0                  0                  1    CM          1  \n",
      "1             0                  0                  1    CM          1  \n",
      "2             1                  0                  1    CC          1  \n",
      "3             2                  0                  1    CC          1  \n",
      "4             0                  0                  1    CM          1  \n"
     ]
    }
   ],
   "source": [
    "data_new[\"HourOfDay\"] = np.nan # initializing feature column\n",
    "data_new.HourOfDay = data_new.step % 24\n",
    "\n",
    "\n",
    "print(\"Head of dataset1: \\n\", pd.DataFrame.head(data_new))\n"
   ]
  },
  {
   "cell_type": "code",
   "execution_count": null,
   "metadata": {},
   "outputs": [],
   "source": [
    "#### We will drop columns irrelevant for our modelling. These are isFlaggedFraud, nameOrig, nameDest columns."
   ]
  },
  {
   "cell_type": "code",
   "execution_count": 50,
   "metadata": {
    "execution": {
     "iopub.execute_input": "2024-09-04T13:06:05.561117Z",
     "iopub.status.busy": "2024-09-04T13:06:05.560672Z",
     "iopub.status.idle": "2024-09-04T13:06:06.175693Z",
     "shell.execute_reply": "2024-09-04T13:06:06.174658Z",
     "shell.execute_reply.started": "2024-09-04T13:06:05.561076Z"
    }
   },
   "outputs": [],
   "source": [
    "data_new = data_new.drop([\"isFlaggedFraud\", \"nameOrig\", \"nameDest\"], axis=1)\n"
   ]
  },
  {
   "cell_type": "code",
   "execution_count": 52,
   "metadata": {
    "execution": {
     "iopub.execute_input": "2024-09-04T13:06:38.574199Z",
     "iopub.status.busy": "2024-09-04T13:06:38.573209Z",
     "iopub.status.idle": "2024-09-04T13:06:38.594291Z",
     "shell.execute_reply": "2024-09-04T13:06:38.593033Z",
     "shell.execute_reply.started": "2024-09-04T13:06:38.574148Z"
    }
   },
   "outputs": [
    {
     "data": {
      "text/html": [
       "<div>\n",
       "<style scoped>\n",
       "    .dataframe tbody tr th:only-of-type {\n",
       "        vertical-align: middle;\n",
       "    }\n",
       "\n",
       "    .dataframe tbody tr th {\n",
       "        vertical-align: top;\n",
       "    }\n",
       "\n",
       "    .dataframe thead th {\n",
       "        text-align: right;\n",
       "    }\n",
       "</style>\n",
       "<table border=\"1\" class=\"dataframe\">\n",
       "  <thead>\n",
       "    <tr style=\"text-align: right;\">\n",
       "      <th></th>\n",
       "      <th>step</th>\n",
       "      <th>type</th>\n",
       "      <th>amount</th>\n",
       "      <th>oldbalanceOrg</th>\n",
       "      <th>newbalanceOrig</th>\n",
       "      <th>oldbalanceDest</th>\n",
       "      <th>newbalanceDest</th>\n",
       "      <th>isFraud</th>\n",
       "      <th>type_encoded</th>\n",
       "      <th>origBalance_inacc</th>\n",
       "      <th>destBalance_inacc</th>\n",
       "      <th>Type2</th>\n",
       "      <th>HourOfDay</th>\n",
       "    </tr>\n",
       "  </thead>\n",
       "  <tbody>\n",
       "    <tr>\n",
       "      <th>0</th>\n",
       "      <td>1</td>\n",
       "      <td>PAYMENT</td>\n",
       "      <td>9839.64</td>\n",
       "      <td>170136.0</td>\n",
       "      <td>160296.36</td>\n",
       "      <td>0.0</td>\n",
       "      <td>0.0</td>\n",
       "      <td>0</td>\n",
       "      <td>0</td>\n",
       "      <td>0</td>\n",
       "      <td>1</td>\n",
       "      <td>CM</td>\n",
       "      <td>1</td>\n",
       "    </tr>\n",
       "    <tr>\n",
       "      <th>1</th>\n",
       "      <td>1</td>\n",
       "      <td>PAYMENT</td>\n",
       "      <td>1864.28</td>\n",
       "      <td>21249.0</td>\n",
       "      <td>19384.72</td>\n",
       "      <td>0.0</td>\n",
       "      <td>0.0</td>\n",
       "      <td>0</td>\n",
       "      <td>0</td>\n",
       "      <td>0</td>\n",
       "      <td>1</td>\n",
       "      <td>CM</td>\n",
       "      <td>1</td>\n",
       "    </tr>\n",
       "    <tr>\n",
       "      <th>2</th>\n",
       "      <td>1</td>\n",
       "      <td>TRANSFER</td>\n",
       "      <td>181.00</td>\n",
       "      <td>181.0</td>\n",
       "      <td>0.00</td>\n",
       "      <td>0.0</td>\n",
       "      <td>0.0</td>\n",
       "      <td>1</td>\n",
       "      <td>1</td>\n",
       "      <td>0</td>\n",
       "      <td>1</td>\n",
       "      <td>CC</td>\n",
       "      <td>1</td>\n",
       "    </tr>\n",
       "    <tr>\n",
       "      <th>3</th>\n",
       "      <td>1</td>\n",
       "      <td>CASH_OUT</td>\n",
       "      <td>181.00</td>\n",
       "      <td>181.0</td>\n",
       "      <td>0.00</td>\n",
       "      <td>21182.0</td>\n",
       "      <td>0.0</td>\n",
       "      <td>1</td>\n",
       "      <td>2</td>\n",
       "      <td>0</td>\n",
       "      <td>1</td>\n",
       "      <td>CC</td>\n",
       "      <td>1</td>\n",
       "    </tr>\n",
       "    <tr>\n",
       "      <th>4</th>\n",
       "      <td>1</td>\n",
       "      <td>PAYMENT</td>\n",
       "      <td>11668.14</td>\n",
       "      <td>41554.0</td>\n",
       "      <td>29885.86</td>\n",
       "      <td>0.0</td>\n",
       "      <td>0.0</td>\n",
       "      <td>0</td>\n",
       "      <td>0</td>\n",
       "      <td>0</td>\n",
       "      <td>1</td>\n",
       "      <td>CM</td>\n",
       "      <td>1</td>\n",
       "    </tr>\n",
       "  </tbody>\n",
       "</table>\n",
       "</div>"
      ],
      "text/plain": [
       "   step      type    amount  oldbalanceOrg  newbalanceOrig  oldbalanceDest  \\\n",
       "0     1   PAYMENT   9839.64       170136.0       160296.36             0.0   \n",
       "1     1   PAYMENT   1864.28        21249.0        19384.72             0.0   \n",
       "2     1  TRANSFER    181.00          181.0            0.00             0.0   \n",
       "3     1  CASH_OUT    181.00          181.0            0.00         21182.0   \n",
       "4     1   PAYMENT  11668.14        41554.0        29885.86             0.0   \n",
       "\n",
       "   newbalanceDest  isFraud  type_encoded  origBalance_inacc  \\\n",
       "0             0.0        0             0                  0   \n",
       "1             0.0        0             0                  0   \n",
       "2             0.0        1             1                  0   \n",
       "3             0.0        1             2                  0   \n",
       "4             0.0        0             0                  0   \n",
       "\n",
       "   destBalance_inacc Type2  HourOfDay  \n",
       "0                  1    CM          1  \n",
       "1                  1    CM          1  \n",
       "2                  1    CC          1  \n",
       "3                  1    CC          1  \n",
       "4                  1    CM          1  "
      ]
     },
     "execution_count": 52,
     "metadata": {},
     "output_type": "execute_result"
    }
   ],
   "source": [
    "data_new.head()"
   ]
  },
  {
   "cell_type": "code",
   "execution_count": 183,
   "metadata": {
    "execution": {
     "iopub.execute_input": "2024-09-04T12:41:30.356960Z",
     "iopub.status.busy": "2024-09-04T12:41:30.356479Z",
     "iopub.status.idle": "2024-09-04T12:41:30.362041Z",
     "shell.execute_reply": "2024-09-04T12:41:30.360702Z",
     "shell.execute_reply.started": "2024-09-04T12:41:30.356917Z"
    }
   },
   "outputs": [],
   "source": [
    "### Pairplot of Variables"
   ]
  },
  {
   "cell_type": "code",
   "execution_count": 184,
   "metadata": {
    "execution": {
     "iopub.execute_input": "2024-09-04T12:41:38.385484Z",
     "iopub.status.busy": "2024-09-04T12:41:38.385031Z",
     "iopub.status.idle": "2024-09-04T12:41:38.390494Z",
     "shell.execute_reply": "2024-09-04T12:41:38.389172Z",
     "shell.execute_reply.started": "2024-09-04T12:41:38.385445Z"
    }
   },
   "outputs": [],
   "source": [
    "### Handling Categorical Variables"
   ]
  },
  {
   "cell_type": "code",
   "execution_count": 53,
   "metadata": {
    "execution": {
     "iopub.execute_input": "2024-09-04T13:06:54.711874Z",
     "iopub.status.busy": "2024-09-04T13:06:54.710766Z",
     "iopub.status.idle": "2024-09-04T13:06:57.979729Z",
     "shell.execute_reply": "2024-09-04T13:06:57.978454Z",
     "shell.execute_reply.started": "2024-09-04T13:06:54.711827Z"
    }
   },
   "outputs": [],
   "source": [
    "# Assuming 'type' and 'Type2' are categorical columns in the DataFrame\n",
    "data_new = pd.get_dummies(data_new,prefix=['type','Type2'],drop_first=True)"
   ]
  },
  {
   "cell_type": "code",
   "execution_count": 54,
   "metadata": {
    "execution": {
     "iopub.execute_input": "2024-09-04T13:07:09.713162Z",
     "iopub.status.busy": "2024-09-04T13:07:09.712706Z",
     "iopub.status.idle": "2024-09-04T13:07:09.718390Z",
     "shell.execute_reply": "2024-09-04T13:07:09.717123Z",
     "shell.execute_reply.started": "2024-09-04T13:07:09.713115Z"
    }
   },
   "outputs": [],
   "source": [
    "### Train-Test Split Standardizing Data"
   ]
  },
  {
   "cell_type": "code",
   "execution_count": 57,
   "metadata": {
    "execution": {
     "iopub.execute_input": "2024-09-04T13:09:30.676119Z",
     "iopub.status.busy": "2024-09-04T13:09:30.675135Z",
     "iopub.status.idle": "2024-09-04T13:09:30.915335Z",
     "shell.execute_reply": "2024-09-04T13:09:30.914091Z",
     "shell.execute_reply.started": "2024-09-04T13:09:30.676072Z"
    }
   },
   "outputs": [],
   "source": [
    "X = data_new.drop(\"isFraud\", axis=1)\n",
    "y = data_new.isFraud"
   ]
  },
  {
   "cell_type": "code",
   "execution_count": 58,
   "metadata": {
    "execution": {
     "iopub.execute_input": "2024-09-04T13:09:40.786309Z",
     "iopub.status.busy": "2024-09-04T13:09:40.785871Z",
     "iopub.status.idle": "2024-09-04T13:09:42.746367Z",
     "shell.execute_reply": "2024-09-04T13:09:42.745115Z",
     "shell.execute_reply.started": "2024-09-04T13:09:40.786269Z"
    }
   },
   "outputs": [],
   "source": [
    "X_train, X_test, y_train, y_test = train_test_split(X, y)\n"
   ]
  },
  {
   "cell_type": "code",
   "execution_count": 59,
   "metadata": {
    "execution": {
     "iopub.execute_input": "2024-09-04T13:09:49.951113Z",
     "iopub.status.busy": "2024-09-04T13:09:49.950685Z",
     "iopub.status.idle": "2024-09-04T13:09:49.956262Z",
     "shell.execute_reply": "2024-09-04T13:09:49.955100Z",
     "shell.execute_reply.started": "2024-09-04T13:09:49.951071Z"
    }
   },
   "outputs": [],
   "source": [
    "# Normalizing data so that all variables follow the same scale (0 to 1)\n",
    "scaler = MinMaxScaler()\n"
   ]
  },
  {
   "cell_type": "code",
   "execution_count": 60,
   "metadata": {
    "execution": {
     "iopub.execute_input": "2024-09-04T13:09:59.978578Z",
     "iopub.status.busy": "2024-09-04T13:09:59.978108Z",
     "iopub.status.idle": "2024-09-04T13:10:06.027251Z",
     "shell.execute_reply": "2024-09-04T13:10:06.025734Z",
     "shell.execute_reply.started": "2024-09-04T13:09:59.978529Z"
    }
   },
   "outputs": [],
   "source": [
    "# Fit only to the training data\n",
    "X_train=scaler.fit_transform(X_train)\n"
   ]
  },
  {
   "cell_type": "code",
   "execution_count": 61,
   "metadata": {
    "execution": {
     "iopub.execute_input": "2024-09-04T13:10:08.484132Z",
     "iopub.status.busy": "2024-09-04T13:10:08.483370Z",
     "iopub.status.idle": "2024-09-04T13:10:09.704606Z",
     "shell.execute_reply": "2024-09-04T13:10:09.703260Z",
     "shell.execute_reply.started": "2024-09-04T13:10:08.484085Z"
    }
   },
   "outputs": [],
   "source": [
    "X_test = scaler.transform(X_test)"
   ]
  },
  {
   "cell_type": "code",
   "execution_count": 62,
   "metadata": {
    "execution": {
     "iopub.execute_input": "2024-09-04T13:10:49.612861Z",
     "iopub.status.busy": "2024-09-04T13:10:49.611544Z",
     "iopub.status.idle": "2024-09-04T13:10:49.617455Z",
     "shell.execute_reply": "2024-09-04T13:10:49.616207Z",
     "shell.execute_reply.started": "2024-09-04T13:10:49.612797Z"
    }
   },
   "outputs": [],
   "source": [
    "## Model Selection\n",
    "\n",
    "##Non-parametric machine learning methods may be preferred due to the large size of the data and that the goal is accurate classification, not interpretation"
   ]
  },
  {
   "cell_type": "code",
   "execution_count": 63,
   "metadata": {
    "execution": {
     "iopub.execute_input": "2024-09-04T13:11:23.075603Z",
     "iopub.status.busy": "2024-09-04T13:11:23.075152Z",
     "iopub.status.idle": "2024-09-04T13:11:23.081067Z",
     "shell.execute_reply": "2024-09-04T13:11:23.079717Z",
     "shell.execute_reply.started": "2024-09-04T13:11:23.075560Z"
    }
   },
   "outputs": [],
   "source": [
    "#Performing Undersampling of Train Data\n",
    "#We undersample training data as when we trained classifiers with entire training data all classifiers except RandomForest and Neural Networks classified all points as non-Fraud and failed to detect any Fraud transaction\n",
    "#Our training data is in millions so models will still learn train data well as the undersampled data will still contain enough number of transactions\n"
   ]
  },
  {
   "cell_type": "code",
   "execution_count": 64,
   "metadata": {
    "execution": {
     "iopub.execute_input": "2024-09-04T13:11:33.993374Z",
     "iopub.status.busy": "2024-09-04T13:11:33.992535Z",
     "iopub.status.idle": "2024-09-04T13:11:34.157251Z",
     "shell.execute_reply": "2024-09-04T13:11:34.155800Z",
     "shell.execute_reply.started": "2024-09-04T13:11:33.993309Z"
    }
   },
   "outputs": [],
   "source": [
    "from imblearn.under_sampling import RandomUnderSampler\n",
    "rus = RandomUnderSampler(sampling_strategy=0.2)"
   ]
  },
  {
   "cell_type": "code",
   "execution_count": 65,
   "metadata": {
    "execution": {
     "iopub.execute_input": "2024-09-04T13:11:46.230847Z",
     "iopub.status.busy": "2024-09-04T13:11:46.230054Z",
     "iopub.status.idle": "2024-09-04T13:11:47.559945Z",
     "shell.execute_reply": "2024-09-04T13:11:47.558375Z",
     "shell.execute_reply.started": "2024-09-04T13:11:46.230799Z"
    }
   },
   "outputs": [],
   "source": [
    "X_res, y_res = rus.fit_resample(X_train, y_train)"
   ]
  },
  {
   "cell_type": "code",
   "execution_count": 66,
   "metadata": {
    "execution": {
     "iopub.execute_input": "2024-09-04T13:11:55.436676Z",
     "iopub.status.busy": "2024-09-04T13:11:55.436235Z",
     "iopub.status.idle": "2024-09-04T13:11:55.444744Z",
     "shell.execute_reply": "2024-09-04T13:11:55.443552Z",
     "shell.execute_reply.started": "2024-09-04T13:11:55.436638Z"
    }
   },
   "outputs": [],
   "source": [
    "### Logistic Regression"
   ]
  },
  {
   "cell_type": "code",
   "execution_count": 67,
   "metadata": {
    "execution": {
     "iopub.execute_input": "2024-09-04T13:12:04.220573Z",
     "iopub.status.busy": "2024-09-04T13:12:04.220112Z",
     "iopub.status.idle": "2024-09-04T13:12:04.226717Z",
     "shell.execute_reply": "2024-09-04T13:12:04.225211Z",
     "shell.execute_reply.started": "2024-09-04T13:12:04.220530Z"
    }
   },
   "outputs": [],
   "source": [
    "from sklearn.linear_model import LogisticRegression"
   ]
  },
  {
   "cell_type": "code",
   "execution_count": 68,
   "metadata": {
    "execution": {
     "iopub.execute_input": "2024-09-04T13:13:13.216377Z",
     "iopub.status.busy": "2024-09-04T13:13:13.215378Z",
     "iopub.status.idle": "2024-09-04T13:13:29.684345Z",
     "shell.execute_reply": "2024-09-04T13:13:29.683122Z",
     "shell.execute_reply.started": "2024-09-04T13:13:13.216330Z"
    }
   },
   "outputs": [
    {
     "name": "stdout",
     "output_type": "stream",
     "text": [
      "Accuracy: 0.9759702763955729\n",
      "Confusion Matrix:\n",
      " [[1550477   38177]\n",
      " [     46    1955]]\n",
      "Classification Report:\n",
      "               precision    recall  f1-score   support\n",
      "\n",
      "           0       1.00      0.98      0.99   1588654\n",
      "           1       0.05      0.98      0.09      2001\n",
      "\n",
      "    accuracy                           0.98   1590655\n",
      "   macro avg       0.52      0.98      0.54   1590655\n",
      "weighted avg       1.00      0.98      0.99   1590655\n",
      "\n",
      "Confusion Matrix Train:\n",
      " [[4649622  116131]\n",
      " [    155    6057]]\n",
      "Classification Report Train:\n",
      "               precision    recall  f1-score   support\n",
      "\n",
      "           0       1.00      0.98      0.99   4765753\n",
      "           1       0.05      0.98      0.09      6212\n",
      "\n",
      "    accuracy                           0.98   4771965\n",
      "   macro avg       0.52      0.98      0.54   4771965\n",
      "weighted avg       1.00      0.98      0.99   4771965\n",
      "\n",
      "Precision: 0.04871424299810625\n",
      "Recall: 0.9770114942528736\n",
      "F1: 0.09280136709942326\n",
      "Area under precision (AUC) Recall: 0.047623294247453825\n"
     ]
    }
   ],
   "source": [
    "clf = LogisticRegression()\n",
    "clf.fit(X_res, y_res)\n",
    "y_pred = clf.predict(X_test)\n",
    "y_predtrain = clf.predict(X_train)\n",
    "CM_LR = confusion_matrix(y_test,y_pred)\n",
    "CR_LR = classification_report(y_test,y_pred)\n",
    "CM_LRtrain = confusion_matrix(y_train,y_predtrain)\n",
    "CR_LRtrain = classification_report(y_train,y_predtrain)\n",
    "print(\"Accuracy:\", accuracy_score(y_test, y_pred))\n",
    "print(\"Confusion Matrix:\\n\",CM_LR)\n",
    "print(\"Classification Report:\\n\",CR_LR)\n",
    "print(\"Confusion Matrix Train:\\n\",CM_LRtrain)\n",
    "print(\"Classification Report Train:\\n\",CR_LRtrain)\n",
    "print(\"Precision:\", precision_score(y_test, y_pred))\n",
    "print(\"Recall:\", recall_score(y_test, y_pred))\n",
    "print(\"F1:\", f1_score(y_test, y_pred))\n",
    "print(\"Area under precision (AUC) Recall:\", average_precision_score(y_test, y_pred))"
   ]
  },
  {
   "cell_type": "code",
   "execution_count": 69,
   "metadata": {
    "execution": {
     "iopub.execute_input": "2024-09-04T13:13:50.044576Z",
     "iopub.status.busy": "2024-09-04T13:13:50.043598Z",
     "iopub.status.idle": "2024-09-04T13:13:50.049610Z",
     "shell.execute_reply": "2024-09-04T13:13:50.048102Z",
     "shell.execute_reply.started": "2024-09-04T13:13:50.044527Z"
    }
   },
   "outputs": [],
   "source": [
    "### Bernoulli Naive Bayes"
   ]
  },
  {
   "cell_type": "code",
   "execution_count": 74,
   "metadata": {
    "execution": {
     "iopub.execute_input": "2024-09-04T13:16:13.367987Z",
     "iopub.status.busy": "2024-09-04T13:16:13.366818Z",
     "iopub.status.idle": "2024-09-04T13:16:30.957437Z",
     "shell.execute_reply": "2024-09-04T13:16:30.956057Z",
     "shell.execute_reply.started": "2024-09-04T13:16:13.367935Z"
    }
   },
   "outputs": [
    {
     "name": "stdout",
     "output_type": "stream",
     "text": [
      "Accuracy: 0.9995234667479749\n",
      "Confusion Matrix:\n",
      " [[1587920     734]\n",
      " [     24    1977]]\n",
      "Classification Report:\n",
      "               precision    recall  f1-score   support\n",
      "\n",
      "           0       1.00      1.00      1.00   1588654\n",
      "           1       0.73      0.99      0.84      2001\n",
      "\n",
      "    accuracy                           1.00   1590655\n",
      "   macro avg       0.86      0.99      0.92   1590655\n",
      "weighted avg       1.00      1.00      1.00   1590655\n",
      "\n",
      "Confusion Matrix Train:\n",
      " [[4763466    2287]\n",
      " [    104    6108]]\n",
      "Classification Report Train:\n",
      "               precision    recall  f1-score   support\n",
      "\n",
      "           0       1.00      1.00      1.00   4765753\n",
      "           1       0.73      0.98      0.84      6212\n",
      "\n",
      "    accuracy                           1.00   4771965\n",
      "   macro avg       0.86      0.99      0.92   4771965\n",
      "weighted avg       1.00      1.00      1.00   4771965\n",
      "\n",
      "Precision: 0.7292511988196237\n",
      "Recall: 0.9880059970014993\n",
      "F1: 0.8391341256366723\n",
      "Area under precision (AUC) Recall: 0.7205196458783956\n"
     ]
    }
   ],
   "source": [
    "clf = BernoulliNB()\n",
    "clf.fit(X_res, y_res)\n",
    "y_pred = clf.predict(X_test)\n",
    "y_predtrain = clf.predict(X_train)\n",
    "CM_NB = confusion_matrix(y_test,y_pred)\n",
    "CR_NB = classification_report(y_test,y_pred)\n",
    "CM_NBtrain = confusion_matrix(y_train,y_predtrain)\n",
    "CR_NBtrain = classification_report(y_train,y_predtrain)\n",
    "print(\"Accuracy:\", accuracy_score(y_test, y_pred))\n",
    "print(\"Confusion Matrix:\\n\",CM_NB)\n",
    "print(\"Classification Report:\\n\",CR_NB)\n",
    "print(\"Confusion Matrix Train:\\n\",CM_NBtrain)\n",
    "print(\"Classification Report Train:\\n\",CR_NBtrain)\n",
    "print(\"Precision:\", precision_score(y_test, y_pred))\n",
    "print(\"Recall:\", recall_score(y_test, y_pred))\n",
    "print(\"F1:\", f1_score(y_test, y_pred))\n",
    "print(\"Area under precision (AUC) Recall:\", average_precision_score(y_test, y_pred))"
   ]
  },
  {
   "cell_type": "code",
   "execution_count": 71,
   "metadata": {
    "execution": {
     "iopub.execute_input": "2024-09-04T13:14:44.620637Z",
     "iopub.status.busy": "2024-09-04T13:14:44.619504Z",
     "iopub.status.idle": "2024-09-04T13:14:44.626091Z",
     "shell.execute_reply": "2024-09-04T13:14:44.624740Z",
     "shell.execute_reply.started": "2024-09-04T13:14:44.620575Z"
    }
   },
   "outputs": [],
   "source": [
    "### Multinomial Naive Bayes"
   ]
  },
  {
   "cell_type": "code",
   "execution_count": 72,
   "metadata": {
    "execution": {
     "iopub.execute_input": "2024-09-04T13:15:10.026534Z",
     "iopub.status.busy": "2024-09-04T13:15:10.025972Z",
     "iopub.status.idle": "2024-09-04T13:15:26.312526Z",
     "shell.execute_reply": "2024-09-04T13:15:26.311303Z",
     "shell.execute_reply.started": "2024-09-04T13:15:10.026490Z"
    }
   },
   "outputs": [
    {
     "name": "stdout",
     "output_type": "stream",
     "text": [
      "Accuracy: 0.9975494371815384\n",
      "Confusion Matrix:\n",
      " [[1585726    2928]\n",
      " [    970    1031]]\n",
      "Classification Report:\n",
      "               precision    recall  f1-score   support\n",
      "\n",
      "           0       1.00      1.00      1.00   1588654\n",
      "           1       0.26      0.52      0.35      2001\n",
      "\n",
      "    accuracy                           1.00   1590655\n",
      "   macro avg       0.63      0.76      0.67   1590655\n",
      "weighted avg       1.00      1.00      1.00   1590655\n",
      "\n",
      "Confusion Matrix Train:\n",
      " [[4756906    8847]\n",
      " [   3010    3202]]\n",
      "Classification Report Train:\n",
      "               precision    recall  f1-score   support\n",
      "\n",
      "           0       1.00      1.00      1.00   4765753\n",
      "           1       0.27      0.52      0.35      6212\n",
      "\n",
      "    accuracy                           1.00   4771965\n",
      "   macro avg       0.63      0.76      0.67   4771965\n",
      "weighted avg       1.00      1.00      1.00   4771965\n",
      "\n",
      "Precision: 0.26041929780247536\n",
      "Recall: 0.5152423788105946\n",
      "F1: 0.3459731543624161\n",
      "Area under precision (AUC) Recall: 0.13478887016928345\n"
     ]
    }
   ],
   "source": [
    "clf = MultinomialNB()\n",
    "clf.fit(X_res, y_res)\n",
    "y_pred = clf.predict(X_test)\n",
    "y_predtrain = clf.predict(X_train)\n",
    "CM_MNB = confusion_matrix(y_test,y_pred)\n",
    "CR_MNB = classification_report(y_test,y_pred)\n",
    "CM_MNBtrain = confusion_matrix(y_train,y_predtrain)\n",
    "CR_MNBtrain = classification_report(y_train,y_predtrain)\n",
    "print(\"Accuracy:\", accuracy_score(y_test, y_pred))\n",
    "print(\"Confusion Matrix:\\n\",CM_MNB)\n",
    "print(\"Classification Report:\\n\",CR_MNB)\n",
    "print(\"Confusion Matrix Train:\\n\",CM_MNBtrain)\n",
    "print(\"Classification Report Train:\\n\",CR_MNBtrain)\n",
    "print(\"Precision:\", precision_score(y_test, y_pred))\n",
    "print(\"Recall:\", recall_score(y_test, y_pred))\n",
    "print(\"F1:\", f1_score(y_test, y_pred))\n",
    "print(\"Area under precision (AUC) Recall:\", average_precision_score(y_test, y_pred))"
   ]
  },
  {
   "cell_type": "code",
   "execution_count": 73,
   "metadata": {
    "execution": {
     "iopub.execute_input": "2024-09-04T13:15:48.595411Z",
     "iopub.status.busy": "2024-09-04T13:15:48.594434Z",
     "iopub.status.idle": "2024-09-04T13:15:48.600536Z",
     "shell.execute_reply": "2024-09-04T13:15:48.599173Z",
     "shell.execute_reply.started": "2024-09-04T13:15:48.595353Z"
    }
   },
   "outputs": [],
   "source": [
    "### Stochastic Gradient Classifier"
   ]
  },
  {
   "cell_type": "code",
   "execution_count": 75,
   "metadata": {
    "execution": {
     "iopub.execute_input": "2024-09-04T13:16:39.718481Z",
     "iopub.status.busy": "2024-09-04T13:16:39.717998Z",
     "iopub.status.idle": "2024-09-04T13:16:56.017049Z",
     "shell.execute_reply": "2024-09-04T13:16:56.015951Z",
     "shell.execute_reply.started": "2024-09-04T13:16:39.718440Z"
    }
   },
   "outputs": [
    {
     "name": "stdout",
     "output_type": "stream",
     "text": [
      "Accuracy: 0.9741703889278316\n",
      "Confusion Matrix:\n",
      " [[1547581   41073]\n",
      " [     13    1988]]\n",
      "Classification Report:\n",
      "               precision    recall  f1-score   support\n",
      "\n",
      "           0       1.00      0.97      0.99   1588654\n",
      "           1       0.05      0.99      0.09      2001\n",
      "\n",
      "    accuracy                           0.97   1590655\n",
      "   macro avg       0.52      0.98      0.54   1590655\n",
      "weighted avg       1.00      0.97      0.99   1590655\n",
      "\n",
      "Confusion Matrix Train:\n",
      " [[4640799  124954]\n",
      " [     60    6152]]\n",
      "Classification Report Train:\n",
      "               precision    recall  f1-score   support\n",
      "\n",
      "           0       1.00      0.97      0.99   4765753\n",
      "           1       0.05      0.99      0.09      6212\n",
      "\n",
      "    accuracy                           0.97   4771965\n",
      "   macro avg       0.52      0.98      0.54   4771965\n",
      "weighted avg       1.00      0.97      0.99   4771965\n",
      "\n",
      "Precision: 0.04616706532593298\n",
      "Recall: 0.993503248375812\n",
      "F1: 0.08823398872664329\n",
      "Area under precision (AUC) Recall: 0.04587530210316652\n"
     ]
    }
   ],
   "source": [
    "from sklearn.linear_model import SGDClassifier\n",
    "clf = SGDClassifier(loss=\"hinge\", penalty=\"l2\", max_iter=5)\n",
    "clf.fit(X_res, y_res)\n",
    "y_pred=clf.predict(X_test)\n",
    "y_predtrain=clf.predict(X_train)\n",
    "SGDClassifier(max_iter=5)\n",
    "CM_svc = confusion_matrix(y_test,y_pred)\n",
    "CR_svc = classification_report(y_test,y_pred)\n",
    "CM_svctrain = confusion_matrix(y_train,y_predtrain)\n",
    "CR_svctrain = classification_report(y_train,y_predtrain)\n",
    "print(\"Accuracy:\", accuracy_score(y_test, y_pred))\n",
    "print(\"Confusion Matrix:\\n\",CM_svc)\n",
    "print(\"Classification Report:\\n\",CR_svc)\n",
    "print(\"Confusion Matrix Train:\\n\",CM_svctrain)\n",
    "print(\"Classification Report Train:\\n\",CR_svctrain)\n",
    "print(\"Precision:\", precision_score(y_test, y_pred))\n",
    "print(\"Recall:\", recall_score(y_test, y_pred))\n",
    "print(\"F1:\", f1_score(y_test, y_pred))\n",
    "print(\"Area under precision (AUC) Recall:\", average_precision_score(y_test, y_pred))"
   ]
  },
  {
   "cell_type": "code",
   "execution_count": 76,
   "metadata": {
    "execution": {
     "iopub.execute_input": "2024-09-04T13:17:10.910879Z",
     "iopub.status.busy": "2024-09-04T13:17:10.909842Z",
     "iopub.status.idle": "2024-09-04T13:17:10.916648Z",
     "shell.execute_reply": "2024-09-04T13:17:10.915225Z",
     "shell.execute_reply.started": "2024-09-04T13:17:10.910812Z"
    }
   },
   "outputs": [],
   "source": [
    "### RandomForestClassifier"
   ]
  },
  {
   "cell_type": "code",
   "execution_count": 77,
   "metadata": {
    "execution": {
     "iopub.execute_input": "2024-09-04T13:17:28.790965Z",
     "iopub.status.busy": "2024-09-04T13:17:28.790545Z",
     "iopub.status.idle": "2024-09-04T13:17:28.796158Z",
     "shell.execute_reply": "2024-09-04T13:17:28.794842Z",
     "shell.execute_reply.started": "2024-09-04T13:17:28.790925Z"
    }
   },
   "outputs": [],
   "source": [
    "#A random forest is an algorithm that generates several decisions trees and pools the results of each tree to make a more robust prediction.\n",
    "\n",
    "#Another great thing about Random Forest is that We can assign weights to each class to reduced the bias of the model towards the majority class.\n",
    "\n"
   ]
  },
  {
   "cell_type": "code",
   "execution_count": 78,
   "metadata": {
    "execution": {
     "iopub.execute_input": "2024-09-04T13:17:46.841049Z",
     "iopub.status.busy": "2024-09-04T13:17:46.840599Z",
     "iopub.status.idle": "2024-09-04T13:19:02.127176Z",
     "shell.execute_reply": "2024-09-04T13:19:02.125562Z",
     "shell.execute_reply.started": "2024-09-04T13:17:46.841010Z"
    }
   },
   "outputs": [
    {
     "name": "stdout",
     "output_type": "stream",
     "text": [
      "Accuracy: 0.9999930846097991\n",
      "Confusion Matrix:\n",
      " [[1588653       1]\n",
      " [     10    1991]]\n",
      "Classification Report:\n",
      "               precision    recall  f1-score   support\n",
      "\n",
      "           0       1.00      1.00      1.00   1588654\n",
      "           1       1.00      1.00      1.00      2001\n",
      "\n",
      "    accuracy                           1.00   1590655\n",
      "   macro avg       1.00      1.00      1.00   1590655\n",
      "weighted avg       1.00      1.00      1.00   1590655\n",
      "\n",
      "Confusion Matrix Train Data:\n",
      " [[4765753       0]\n",
      " [      4    6208]]\n",
      "Classification Report Train Data:\n",
      "               precision    recall  f1-score   support\n",
      "\n",
      "           0       1.00      1.00      1.00   4765753\n",
      "           1       1.00      1.00      1.00      6212\n",
      "\n",
      "    accuracy                           1.00   4771965\n",
      "   macro avg       1.00      1.00      1.00   4771965\n",
      "weighted avg       1.00      1.00      1.00   4771965\n",
      "\n",
      "Precision: 0.9994979919678715\n",
      "Recall: 0.9950024987506247\n",
      "F1: 0.997245179063361\n",
      "Area under precision (AUC) Recall: 0.9945092862226285\n"
     ]
    }
   ],
   "source": [
    "RF = RandomForestClassifier(n_estimators=15,oob_score=True,class_weight='balanced',n_jobs=-1)\n",
    "\n",
    "\n",
    "RF.fit(X_train, y_train)\n",
    "\n",
    "y_pred= RF.predict(X_test)\n",
    "y_predtrain=RF.predict(X_train) \n",
    "     \n",
    "# Evaluating model\n",
    "CM_RF_train=confusion_matrix(y_train,y_predtrain)\n",
    "CR_RF_train= classification_report(y_train,y_predtrain)\n",
    "CM_RF = confusion_matrix(y_test,y_pred)\n",
    "CR_RF = classification_report(y_test,y_pred)\n",
    "print(\"Accuracy:\", accuracy_score(y_test, y_pred))\n",
    "print(\"Confusion Matrix:\\n\",CM_RF)\n",
    "print(\"Classification Report:\\n\",CR_RF)\n",
    "print(\"Confusion Matrix Train Data:\\n\",CM_RF_train)\n",
    "print(\"Classification Report Train Data:\\n\",CR_RF_train)\n",
    "print(\"Precision:\", precision_score(y_test, y_pred))\n",
    "print(\"Recall:\", recall_score(y_test, y_pred))\n",
    "print(\"F1:\", f1_score(y_test, y_pred))\n",
    "print(\"Area under precision (AUC) Recall:\", average_precision_score(y_test, y_pred))"
   ]
  },
  {
   "cell_type": "code",
   "execution_count": null,
   "metadata": {},
   "outputs": [],
   "source": [
    "When using entire training data for training RandomForest model the model classifies only a very small fraction as Fraud but misclassifies more than 20% Fraud transactions as non-Fraud which is not desirable. Hence we train our RandomForest Classifier using undersampled training data to minimize misclassification of Fraud transactions allowing misclassification of non-Fraud transactions to some extent."
   ]
  },
  {
   "cell_type": "code",
   "execution_count": 105,
   "metadata": {
    "execution": {
     "iopub.execute_input": "2024-09-04T13:31:19.409030Z",
     "iopub.status.busy": "2024-09-04T13:31:19.408576Z",
     "iopub.status.idle": "2024-09-04T13:31:25.561094Z",
     "shell.execute_reply": "2024-09-04T13:31:25.559684Z",
     "shell.execute_reply.started": "2024-09-04T13:31:19.408990Z"
    }
   },
   "outputs": [
    {
     "name": "stdout",
     "output_type": "stream",
     "text": [
      "Accuracy: 0.9999597650024675\n",
      "Confusion Matrix:\n",
      " [[1588599      55]\n",
      " [      9    1992]]\n",
      "Classification Report:\n",
      "               precision    recall  f1-score   support\n",
      "\n",
      "           0       1.00      1.00      1.00   1588654\n",
      "           1       0.97      1.00      0.98      2001\n",
      "\n",
      "    accuracy                           1.00   1590655\n",
      "   macro avg       0.99      1.00      0.99   1590655\n",
      "weighted avg       1.00      1.00      1.00   1590655\n",
      "\n",
      "Confusion Matrix Train Data:\n",
      " [[449  87]\n",
      " [393  71]]\n",
      "Classification Report Train Data:\n",
      "               precision    recall  f1-score   support\n",
      "\n",
      "           0       0.53      0.84      0.65       536\n",
      "           1       0.45      0.15      0.23       464\n",
      "\n",
      "    accuracy                           0.52      1000\n",
      "   macro avg       0.49      0.50      0.44      1000\n",
      "weighted avg       0.49      0.52      0.46      1000\n",
      "\n",
      "Precision: 0.9731314118221788\n",
      "Recall: 0.9955022488755623\n",
      "F1: 0.9841897233201581\n",
      "Area under precision (AUC) Recall: 0.9687601669669579\n"
     ]
    }
   ],
   "source": [
    "RF = RandomForestClassifier(n_estimators=15,oob_score=True,n_jobs=-1)\n",
    "\n",
    "\n",
    "RF.fit(X_res, y_res)\n",
    "\n",
    "y_pred= RF.predict(X_test)\n",
    "y_predtrain=RF.predict(X_train) \n",
    "     \n",
    "# Evaluating model\n",
    "CM_RF_train=confusion_matrix(y_train,y_predtrain)\n",
    "CR_RF_train= classification_report(y_train,y_predtrain)\n",
    "CM_RF = confusion_matrix(y_test,y_pred)\n",
    "CR_RF = classification_report(y_test,y_pred)\n",
    "print(\"Accuracy:\", accuracy_score(y_test, y_pred))\n",
    "print(\"Confusion Matrix:\\n\",CM_RF)\n",
    "print(\"Classification Report:\\n\",CR_RF)\n",
    "print(\"Confusion Matrix Train Data:\\n\",CM_RF_train)\n",
    "print(\"Classification Report Train Data:\\n\",CR_RF_train)\n",
    "print(\"Precision:\", precision_score(y_test, y_pred))\n",
    "print(\"Recall:\", recall_score(y_test, y_pred))\n",
    "print(\"F1:\", f1_score(y_test, y_pred))\n",
    "print(\"Area under precision (AUC) Recall:\", average_precision_score(y_test, y_pred))"
   ]
  },
  {
   "cell_type": "code",
   "execution_count": null,
   "metadata": {},
   "outputs": [],
   "source": []
  },
  {
   "cell_type": "code",
   "execution_count": 79,
   "metadata": {
    "execution": {
     "iopub.execute_input": "2024-09-04T13:19:35.138834Z",
     "iopub.status.busy": "2024-09-04T13:19:35.138369Z",
     "iopub.status.idle": "2024-09-04T13:19:35.144497Z",
     "shell.execute_reply": "2024-09-04T13:19:35.143047Z",
     "shell.execute_reply.started": "2024-09-04T13:19:35.138791Z"
    }
   },
   "outputs": [],
   "source": [
    "### Artificial Neural Networks"
   ]
  },
  {
   "cell_type": "code",
   "execution_count": 89,
   "metadata": {
    "execution": {
     "iopub.execute_input": "2024-09-04T13:24:31.250515Z",
     "iopub.status.busy": "2024-09-04T13:24:31.249416Z",
     "iopub.status.idle": "2024-09-04T13:24:31.257555Z",
     "shell.execute_reply": "2024-09-04T13:24:31.256263Z",
     "shell.execute_reply.started": "2024-09-04T13:24:31.250464Z"
    }
   },
   "outputs": [],
   "source": [
    "import tensorflow as tf\n",
    "from tensorflow import keras\n",
    "from tensorflow.keras.models import Sequential\n",
    "from tensorflow.keras.layers import Dense\n"
   ]
  },
  {
   "cell_type": "code",
   "execution_count": 95,
   "metadata": {
    "execution": {
     "iopub.execute_input": "2024-09-04T13:25:30.639563Z",
     "iopub.status.busy": "2024-09-04T13:25:30.639023Z",
     "iopub.status.idle": "2024-09-04T13:25:30.646691Z",
     "shell.execute_reply": "2024-09-04T13:25:30.645267Z",
     "shell.execute_reply.started": "2024-09-04T13:25:30.639514Z"
    }
   },
   "outputs": [],
   "source": [
    "# Example data\n",
    "num_features = 15  # This should match the number of features in X_train\n",
    "num_samples = 1000\n",
    "X_train = np.random.rand(num_samples, num_features)  # Random data\n",
    "y_train = np.random.randint(2, size=num_samples)     # Random binary labels"
   ]
  },
  {
   "cell_type": "code",
   "execution_count": 96,
   "metadata": {
    "execution": {
     "iopub.execute_input": "2024-09-04T13:25:31.137296Z",
     "iopub.status.busy": "2024-09-04T13:25:31.136845Z",
     "iopub.status.idle": "2024-09-04T13:25:31.164735Z",
     "shell.execute_reply": "2024-09-04T13:25:31.163396Z",
     "shell.execute_reply.started": "2024-09-04T13:25:31.137252Z"
    }
   },
   "outputs": [],
   "source": [
    "model = keras.Sequential([\n",
    "    keras.layers.Dense(15, input_shape=(12,), activation='relu'),\n",
    "    keras.layers.Dense(1, activation='sigmoid')\n",
    "])"
   ]
  },
  {
   "cell_type": "code",
   "execution_count": 97,
   "metadata": {
    "execution": {
     "iopub.execute_input": "2024-09-04T13:25:31.779646Z",
     "iopub.status.busy": "2024-09-04T13:25:31.779095Z",
     "iopub.status.idle": "2024-09-04T13:25:31.786267Z",
     "shell.execute_reply": "2024-09-04T13:25:31.784950Z",
     "shell.execute_reply.started": "2024-09-04T13:25:31.779596Z"
    }
   },
   "outputs": [
    {
     "name": "stdout",
     "output_type": "stream",
     "text": [
      "(1000, 15)\n"
     ]
    }
   ],
   "source": [
    "print(X_train.shape)  # Should output (num_samples, num_features)\n"
   ]
  },
  {
   "cell_type": "code",
   "execution_count": 98,
   "metadata": {
    "execution": {
     "iopub.execute_input": "2024-09-04T13:25:32.557028Z",
     "iopub.status.busy": "2024-09-04T13:25:32.556602Z",
     "iopub.status.idle": "2024-09-04T13:25:32.590260Z",
     "shell.execute_reply": "2024-09-04T13:25:32.588923Z",
     "shell.execute_reply.started": "2024-09-04T13:25:32.556992Z"
    }
   },
   "outputs": [],
   "source": [
    "# Define the model\n",
    "model = Sequential()\n",
    "model.add(Dense(64, input_dim=num_features, activation='relu'))  # Adjust input_dim to match X_train\n",
    "model.add(Dense(1, activation='sigmoid'))\n"
   ]
  },
  {
   "cell_type": "code",
   "execution_count": 99,
   "metadata": {
    "execution": {
     "iopub.execute_input": "2024-09-04T13:26:24.670119Z",
     "iopub.status.busy": "2024-09-04T13:26:24.669693Z",
     "iopub.status.idle": "2024-09-04T13:26:26.105053Z",
     "shell.execute_reply": "2024-09-04T13:26:26.103621Z",
     "shell.execute_reply.started": "2024-09-04T13:26:24.670080Z"
    }
   },
   "outputs": [
    {
     "name": "stdout",
     "output_type": "stream",
     "text": [
      "Epoch 1/5\n",
      "\u001b[1m32/32\u001b[0m \u001b[32m━━━━━━━━━━━━━━━━━━━━\u001b[0m\u001b[37m\u001b[0m \u001b[1m1s\u001b[0m 2ms/step - accuracy: 0.5685 - loss: 0.6923\n",
      "Epoch 2/5\n",
      "\u001b[1m32/32\u001b[0m \u001b[32m━━━━━━━━━━━━━━━━━━━━\u001b[0m\u001b[37m\u001b[0m \u001b[1m0s\u001b[0m 1ms/step - accuracy: 0.4700 - loss: 0.7018 \n",
      "Epoch 3/5\n",
      "\u001b[1m32/32\u001b[0m \u001b[32m━━━━━━━━━━━━━━━━━━━━\u001b[0m\u001b[37m\u001b[0m \u001b[1m0s\u001b[0m 1ms/step - accuracy: 0.5245 - loss: 0.6879 \n",
      "Epoch 4/5\n",
      "\u001b[1m32/32\u001b[0m \u001b[32m━━━━━━━━━━━━━━━━━━━━\u001b[0m\u001b[37m\u001b[0m \u001b[1m0s\u001b[0m 1ms/step - accuracy: 0.5650 - loss: 0.6889 \n",
      "Epoch 5/5\n",
      "\u001b[1m32/32\u001b[0m \u001b[32m━━━━━━━━━━━━━━━━━━━━\u001b[0m\u001b[37m\u001b[0m \u001b[1m0s\u001b[0m 1ms/step - accuracy: 0.5437 - loss: 0.6869 \n"
     ]
    },
    {
     "data": {
      "text/plain": [
       "<keras.src.callbacks.history.History at 0x7da7bb50ff70>"
      ]
     },
     "execution_count": 99,
     "metadata": {},
     "output_type": "execute_result"
    }
   ],
   "source": [
    "\n",
    "# Compile the model\n",
    "model.compile(optimizer='adam',\n",
    "              loss='binary_crossentropy',\n",
    "              metrics=['accuracy'])\n",
    "\n",
    "# Fit the model\n",
    "model.fit(X_train, y_train, epochs=5)"
   ]
  },
  {
   "cell_type": "code",
   "execution_count": 100,
   "metadata": {
    "execution": {
     "iopub.execute_input": "2024-09-04T13:26:54.245684Z",
     "iopub.status.busy": "2024-09-04T13:26:54.244649Z",
     "iopub.status.idle": "2024-09-04T13:28:13.712831Z",
     "shell.execute_reply": "2024-09-04T13:28:13.711438Z",
     "shell.execute_reply.started": "2024-09-04T13:26:54.245631Z"
    }
   },
   "outputs": [
    {
     "name": "stdout",
     "output_type": "stream",
     "text": [
      "\u001b[1m49708/49708\u001b[0m \u001b[32m━━━━━━━━━━━━━━━━━━━━\u001b[0m\u001b[37m\u001b[0m \u001b[1m52s\u001b[0m 1ms/step\n"
     ]
    }
   ],
   "source": [
    "Y_pred1=model.predict(X_test)"
   ]
  },
  {
   "cell_type": "code",
   "execution_count": 101,
   "metadata": {
    "execution": {
     "iopub.execute_input": "2024-09-04T13:28:46.581186Z",
     "iopub.status.busy": "2024-09-04T13:28:46.580663Z",
     "iopub.status.idle": "2024-09-04T13:28:46.600123Z",
     "shell.execute_reply": "2024-09-04T13:28:46.598913Z",
     "shell.execute_reply.started": "2024-09-04T13:28:46.581145Z"
    }
   },
   "outputs": [],
   "source": [
    "Y_pred=np.where(Y_pred1<0.44,0,1)"
   ]
  },
  {
   "cell_type": "code",
   "execution_count": 102,
   "metadata": {
    "execution": {
     "iopub.execute_input": "2024-09-04T13:28:47.820501Z",
     "iopub.status.busy": "2024-09-04T13:28:47.819240Z",
     "iopub.status.idle": "2024-09-04T13:28:47.973662Z",
     "shell.execute_reply": "2024-09-04T13:28:47.972255Z",
     "shell.execute_reply.started": "2024-09-04T13:28:47.820450Z"
    }
   },
   "outputs": [
    {
     "name": "stdout",
     "output_type": "stream",
     "text": [
      "\u001b[1m32/32\u001b[0m \u001b[32m━━━━━━━━━━━━━━━━━━━━\u001b[0m\u001b[37m\u001b[0m \u001b[1m0s\u001b[0m 1ms/step \n"
     ]
    }
   ],
   "source": [
    "y_predtrain1=model.predict(X_train)"
   ]
  },
  {
   "cell_type": "code",
   "execution_count": 103,
   "metadata": {
    "execution": {
     "iopub.execute_input": "2024-09-04T13:28:48.932988Z",
     "iopub.status.busy": "2024-09-04T13:28:48.932567Z",
     "iopub.status.idle": "2024-09-04T13:28:48.939602Z",
     "shell.execute_reply": "2024-09-04T13:28:48.938200Z",
     "shell.execute_reply.started": "2024-09-04T13:28:48.932945Z"
    }
   },
   "outputs": [],
   "source": [
    "y_predtrain=np.where(y_predtrain1<0.38,0,1)"
   ]
  },
  {
   "cell_type": "code",
   "execution_count": 104,
   "metadata": {
    "execution": {
     "iopub.execute_input": "2024-09-04T13:28:50.199066Z",
     "iopub.status.busy": "2024-09-04T13:28:50.198638Z",
     "iopub.status.idle": "2024-09-04T13:28:56.328092Z",
     "shell.execute_reply": "2024-09-04T13:28:56.326921Z",
     "shell.execute_reply.started": "2024-09-04T13:28:50.199029Z"
    }
   },
   "outputs": [
    {
     "name": "stdout",
     "output_type": "stream",
     "text": [
      "Confusion Matrix:\n",
      " [[610023 978631]\n",
      " [  1115    886]]\n",
      "Classification Report:\n",
      "               precision    recall  f1-score   support\n",
      "\n",
      "           0       1.00      0.38      0.55   1588654\n",
      "           1       0.00      0.44      0.00      2001\n",
      "\n",
      "    accuracy                           0.38   1590655\n",
      "   macro avg       0.50      0.41      0.28   1590655\n",
      "weighted avg       1.00      0.38      0.55   1590655\n",
      "\n",
      "Confusion Matrix Train:\n",
      " [[  3 533]\n",
      " [  8 456]]\n",
      "Classification Report Train:\n",
      "               precision    recall  f1-score   support\n",
      "\n",
      "           0       0.27      0.01      0.01       536\n",
      "           1       0.46      0.98      0.63       464\n",
      "\n",
      "    accuracy                           0.46      1000\n",
      "   macro avg       0.37      0.49      0.32      1000\n",
      "weighted avg       0.36      0.46      0.30      1000\n",
      "\n",
      "Area Under Curve: 0.41338296790695234\n",
      "Precision: 0.0009045274354605382\n",
      "Recall: 0.4427786106946527\n",
      "F1: 0.0018053667889941906\n"
     ]
    }
   ],
   "source": [
    "CM_NN = confusion_matrix(y_test,Y_pred)\n",
    "CR_NN = classification_report(y_test,Y_pred)\n",
    "CM_NNtrain = confusion_matrix(y_train,y_predtrain)\n",
    "CR_NNtrain = classification_report(y_train,y_predtrain)\n",
    "ROC_AUC_SCORENN= roc_auc_score(y_test, Y_pred)\n",
    "print(\"Confusion Matrix:\\n\",CM_NN)\n",
    "print(\"Classification Report:\\n\",CR_NN)\n",
    "print(\"Confusion Matrix Train:\\n\",CM_NNtrain)\n",
    "print(\"Classification Report Train:\\n\",CR_NNtrain)\n",
    "print(\"Area Under Curve:\",ROC_AUC_SCORENN)\n",
    "print(\"Precision:\", precision_score(y_test, Y_pred))\n",
    "print(\"Recall:\", recall_score(y_test, Y_pred))\n",
    "print(\"F1:\", f1_score(y_test, Y_pred))"
   ]
  },
  {
   "cell_type": "code",
   "execution_count": 107,
   "metadata": {
    "execution": {
     "iopub.execute_input": "2024-09-04T13:33:28.424482Z",
     "iopub.status.busy": "2024-09-04T13:33:28.423914Z",
     "iopub.status.idle": "2024-09-04T13:33:28.430019Z",
     "shell.execute_reply": "2024-09-04T13:33:28.428860Z",
     "shell.execute_reply.started": "2024-09-04T13:33:28.424435Z"
    }
   },
   "outputs": [],
   "source": [
    "### Thus, RandomForest Classifier performs best in detecting Fraud Transactions."
   ]
  },
  {
   "cell_type": "code",
   "execution_count": null,
   "metadata": {},
   "outputs": [],
   "source": [
    "#### Confusion Matrix and Classification Report of RandomForest Classifier model"
   ]
  },
  {
   "cell_type": "code",
   "execution_count": 108,
   "metadata": {
    "execution": {
     "iopub.execute_input": "2024-09-04T13:33:48.452375Z",
     "iopub.status.busy": "2024-09-04T13:33:48.451912Z",
     "iopub.status.idle": "2024-09-04T13:33:48.459284Z",
     "shell.execute_reply": "2024-09-04T13:33:48.458029Z",
     "shell.execute_reply.started": "2024-09-04T13:33:48.452328Z"
    }
   },
   "outputs": [
    {
     "name": "stdout",
     "output_type": "stream",
     "text": [
      "Confusion Matrix:\n",
      " [[1588599      55]\n",
      " [      9    1992]]\n",
      "Classification Report:\n",
      "               precision    recall  f1-score   support\n",
      "\n",
      "           0       1.00      1.00      1.00   1588654\n",
      "           1       0.97      1.00      0.98      2001\n",
      "\n",
      "    accuracy                           1.00   1590655\n",
      "   macro avg       0.99      1.00      0.99   1590655\n",
      "weighted avg       1.00      1.00      1.00   1590655\n",
      "\n",
      "Confusion Matrix Train Data:\n",
      " [[449  87]\n",
      " [393  71]]\n",
      "Classification Report Train Data:\n",
      "               precision    recall  f1-score   support\n",
      "\n",
      "           0       0.53      0.84      0.65       536\n",
      "           1       0.45      0.15      0.23       464\n",
      "\n",
      "    accuracy                           0.52      1000\n",
      "   macro avg       0.49      0.50      0.44      1000\n",
      "weighted avg       0.49      0.52      0.46      1000\n",
      "\n"
     ]
    }
   ],
   "source": [
    "print(\"Confusion Matrix:\\n\",CM_RF)\n",
    "print(\"Classification Report:\\n\",CR_RF)\n",
    "print(\"Confusion Matrix Train Data:\\n\",CM_RF_train)\n",
    "print(\"Classification Report Train Data:\\n\",CR_RF_train)"
   ]
  },
  {
   "cell_type": "code",
   "execution_count": null,
   "metadata": {},
   "outputs": [],
   "source": [
    "Observations:\n",
    "Data Preprocessing:\n",
    "\n",
    "The dataset undergoes preprocessing steps, including handling missing values and data encoding.\n",
    "The target variable appears to be imbalanced, with significantly fewer fraud cases compared to non-fraud cases.\n",
    "Model Training:\n",
    "\n",
    "Two models, Logistic Regression and Random Forest Classifier, are trained on the dataset.\n",
    "Class weights are used to address class imbalance, particularly in the Random Forest model.\n",
    "Model Evaluation:\n",
    "\n",
    "The evaluation metrics include precision, recall, F1-score, and confusion matrices.\n",
    "Logistic Regression shows a high recall but low precision, indicating it identifies most fraud cases but also has a high false-positive rate.\n",
    "The Random Forest model shows better precision and recall, suggesting it handles the class imbalance more effectively.\n",
    "Confusion Matrix and Classification Report:\n",
    "\n",
    "The Random Forest model shows a high recall and precision on the test data, indicating effective fraud detection with minimal false positives.\n",
    "The confusion matrix and classification report show that the model performs well on both training and testing data, with minimal overfitting.\n"
   ]
  },
  {
   "cell_type": "code",
   "execution_count": null,
   "metadata": {},
   "outputs": [],
   "source": [
    "Conclusions:\n",
    "Effectiveness of Random Forest Classifier:\n",
    "\n",
    "The Random Forest Classifier appears to be more effective than Logistic Regression for this fraud detection task, given its higher precision and recall.\n",
    "Class Imbalance Handling:\n",
    "\n",
    "The use of class weights is crucial in handling the imbalance, particularly in the Random Forest model, which helps in reducing the bias toward the majority class.\n",
    "Model Generalization:\n",
    "\n",
    "The Random Forest model generalizes well to the test data, indicating that the model's performance is consistent and not overly dependent on the training data.\n",
    "Further Improvements:\n",
    "\n",
    "Despite the good performance, further tuning of the Random Forest model, such as adjusting hyperparameters or trying other ensemble methods, could be explored to potentially improve the results further."
   ]
  },
  {
   "cell_type": "code",
   "execution_count": null,
   "metadata": {},
   "outputs": [],
   "source": [
    "5. What are the key factors that predict fraudulent customers?\n",
    "Based on the code, the key factors that predict fraudulent customers can be identified from the features used in the models, particularly in the Random Forest Classifier. The Random Forest model provides feature importance, which can be used to determine which features contribute the most to the prediction of fraud.\n",
    "\n",
    "Key Factors:\n",
    "Transaction Amount: Higher transaction amounts are often flagged as suspicious, especially if they deviate significantly from a customer's usual spending pattern.\n",
    "Transaction Frequency: A sudden increase in the number of transactions within a short period might indicate fraudulent activity.\n",
    "Transaction Location: Transactions occurring in different geographic locations within a short time frame can be indicative of fraud.\n",
    "Customer Behavior Patterns: Changes in a customer's typical transaction patterns, such as unusual purchase types or times, may signal fraudulent activity."
   ]
  },
  {
   "cell_type": "code",
   "execution_count": null,
   "metadata": {},
   "outputs": [],
   "source": []
  },
  {
   "cell_type": "code",
   "execution_count": null,
   "metadata": {},
   "outputs": [],
   "source": [
    "6. Do these factors make sense? If yes, How? If not, How not?\n",
    "Yes, these factors make sense in the context of fraud detection. Here's why:\n",
    "\n",
    "Transaction Amount: Fraudsters often attempt to make large purchases before the fraud is detected. Therefore, unusually large transactions can be a strong indicator of fraud.\n",
    "Transaction Frequency: Fraudsters may make several quick transactions before the account is flagged, so a spike in transaction frequency is a red flag.\n",
    "Transaction Location: Fraudulent activities often involve purchases from locations that are inconsistent with the customer's normal behavior, such as foreign countries or distant cities.\n",
    "Customer Behavior Patterns: A drastic change in purchasing behavior could indicate that the account has been compromised. For example, a customer who typically makes small, local purchases suddenly buying expensive electronics from multiple locations is suspicious."
   ]
  },
  {
   "cell_type": "code",
   "execution_count": null,
   "metadata": {},
   "outputs": [],
   "source": [
    "7. What kind of prevention should be adopted while\n",
    "the company updates its infrastructure?\n",
    "\n",
    "Prevention Strategies:\n",
    "Enhanced Monitoring and Alerts:\n",
    "\n",
    "Implement real-time monitoring tools that flag suspicious transactions based on the key factors identified (e.g., large transaction amounts, unusual locations).\n",
    "Set up alerts for transactions that deviate significantly from the customer’s usual behavior.\n",
    "Two-Factor Authentication (2FA):\n",
    "\n",
    "Require additional verification (e.g., a one-time password sent to the customer’s mobile device) for transactions flagged as high-risk.\n",
    "Machine Learning Models in Production:\n",
    "\n",
    "Deploy the trained Random Forest model to continuously analyze transactions and predict the likelihood of fraud.\n",
    "Regularly update the model with new data to improve its accuracy over time.\n",
    "Data Encryption and Security:\n",
    "\n",
    "Ensure that all customer data is encrypted, both at rest and in transit, to protect against unauthorized access.\n",
    "Implement strict access controls to limit who can view or manipulate sensitive customer information.\n",
    "Regular Audits and Penetration Testing:\n",
    "\n",
    "Conduct regular security audits and penetration tests to identify vulnerabilities in the system.\n",
    "Update security protocols and infrastructure based on the findings from these tests"
   ]
  },
  {
   "cell_type": "code",
   "execution_count": null,
   "metadata": {},
   "outputs": [],
   "source": [
    "8. Assuming these actions have been implemented, how would you determine if they work?\n",
    "To evaluate the effectiveness of the implemented actions, the company could use the following approaches:\n",
    "\n",
    "Monitoring Key Performance Indicators (KPIs):\n",
    "Reduction in Fraudulent Transactions:\n",
    "\n",
    "Track the number of fraudulent transactions over time. A significant decrease after implementing the prevention strategies would indicate effectiveness.\n",
    "False Positive Rate:\n",
    "\n",
    "Monitor the rate of false positives (legitimate transactions flagged as fraud). A low false positive rate is crucial to maintain customer trust and avoid unnecessary disruptions.\n",
    "Customer Satisfaction:\n",
    "\n",
    "Measure customer satisfaction through surveys or feedback mechanisms. Effective fraud prevention should not overly inconvenience customers.\n",
    "Response Time to Incidents:\n",
    "\n",
    "Track how quickly the company detects and responds to potential fraud cases. Faster detection and resolution times would suggest the system is working well.\n",
    "A/B Testing:\n",
    "Control Group vs. Experimental Group:\n",
    "Implement an A/B test where one group of transactions is processed using the old system (control group), and the other group uses the new fraud prevention measures (experimental group).\n",
    "Compare the fraud rates, false positives, and customer feedback between the two groups to assess the effectiveness of the new system.\n",
    "Continuous Learning and Model Updates:\n",
    "Retrain the Model:\n",
    "Continuously retrain the fraud detection model with new data to ensure it adapts to evolving fraud patterns.\n",
    "Monitor the model’s accuracy and other metrics over time to ensure sustained effectiveness.\n",
    "Incident Analysis:\n",
    "Post-Implementation Review:\n",
    "After any fraud incident, conduct a thorough review to understand how the fraud was carried out and whether it could have been prevented with the current infrastructure.\n",
    "Use these insights to further refine the fraud detection and prevention strategies"
   ]
  },
  {
   "cell_type": "code",
   "execution_count": null,
   "metadata": {},
   "outputs": [],
   "source": [
    "1. Describe your fraud detection model in elaboration."
   ]
  },
  {
   "cell_type": "code",
   "execution_count": null,
   "metadata": {},
   "outputs": [],
   "source": [
    ". Data Preprocessing:\n",
    "Data preprocessing is a crucial step to ensure the model is trained on clean and relevant data. The steps typically include:\n",
    "\n",
    "Handling Missing Values: Missing data can skew the model's predictions. The provided code suggests imputation (e.g., replacing missing values with the median) but might not cover all possible cases.\n",
    "\n",
    "Outlier Removal: The code includes steps to detect and remove outliers using box plots and the Interquartile Range (IQR) method. This helps in reducing the noise in the data, leading to more robust model performance.\n",
    "\n",
    "Feature Scaling: Although not explicitly mentioned in the code, scaling features (especially for algorithms like Logistic Regression or K-Nearest Neighbors) could be necessary to ensure that all features contribute equally to the model.\n",
    "\n",
    "Multicollinearity Check: The Variance Inflation Factor (VIF) is calculated to identify and potentially remove highly correlated features, reducing redundancy and improving model interpretability.\n",
    "\n",
    "2. Feature Selection:\n",
    "Feature selection involves identifying the most relevant variables (features) that significantly contribute to predicting fraudulent activities.\n",
    "\n",
    "Correlation Heatmap: A correlation matrix is used to visualize and identify highly correlated features. Removing highly correlated features helps in reducing multicollinearity.\n",
    "\n",
    "Feature Importance: For models like Random Forest, feature importance scores are calculated, which help in identifying the most significant features contributing to the predictions.\n",
    "\n",
    "3. Model Selection and Training:\n",
    "The code appears to focus on a few different models, with Random Forest being a key one. Here's an overview:\n",
    "\n",
    "Random Forest Classifier: A robust ensemble learning method that operates by constructing multiple decision trees during training. For classification tasks, it outputs the mode of the classes (in this case, fraud or not fraud) of the individual trees.\n",
    "\n",
    "Advantages: Random Forest is highly effective for classification tasks due to its ability to reduce overfitting and its robustness to noise in the data. It also provides feature importance, making it easier to interpret which variables are most influential in predicting fraud.\n",
    "\n",
    "Training: The model is trained on a dataset with known labels (fraud or not fraud). It learns patterns and relationships between features (e.g., transaction amount, frequency, location) and the target variable (fraud status).\n",
    "\n",
    "4. Model Evaluation:\n",
    "Evaluating the model’s performance is crucial to understanding how well it can predict fraud on unseen data.\n",
    "\n",
    "Accuracy: Measures the proportion of correctly predicted instances (both fraud and non-fraud).\n",
    "\n",
    "Precision, Recall, and F1-Score: These metrics are especially important in fraud detection:\n",
    "\n",
    "Precision: The proportion of true fraud cases among all cases predicted as fraud. High precision means fewer false positives (legitimate transactions flagged as fraud).\n",
    "\n",
    "Recall: The proportion of actual fraud cases correctly identified by the model. High recall means fewer false negatives (fraudulent transactions missed).\n",
    "\n",
    "F1-Score: The harmonic mean of precision and recall, providing a single metric that balances both concerns.\n",
    "\n",
    "Confusion Matrix: Shows the number of true positives, true negatives, false positives, and false negatives. This helps in understanding the types of errors the model is making.\n",
    "\n",
    "5. Interpretation and Deployment:\n",
    "Understanding the model's predictions is critical, especially in a domain like fraud detection, where false positives can impact customer experience, and false negatives can result in financial loss.\n",
    "\n",
    "Feature Importance: As mentioned, models like Random Forest provide feature importance scores, which help stakeholders understand which factors (e.g., transaction amount, location) are most indicative of fraud.\n",
    "\n",
    "Threshold Setting: In fraud detection, setting an appropriate decision threshold is key. Lowering the threshold might increase recall (catch more frauds) but reduce precision, while raising it might do the opposite. Business needs dictate how this threshold is set.\n",
    "\n",
    "6. Continuous Monitoring and Improvement:\n",
    "Fraud detection models require continuous monitoring and updating due to evolving fraud patterns. Regularly retraining the model with new data helps in maintaining its effectiveness.\n",
    "\n",
    "Model Retraining: Incorporating new fraud cases into the training data and periodically retraining the model ensures that it stays current.\n",
    "\n",
    "A/B Testing: To ensure that the model's deployment is successful, A/B testing can be conducted to compare its performance against the current system.\n",
    "\n",
    "Conclusion:\n",
    "The fraud detection model described in the code is a well-rounded approach using a Random Forest Classifier. By leveraging data preprocessing, feature selection, model evaluation, and continuous monitoring, the model aims to accurately detect fraudulent transactions while minimizing false positives. This approach ensures that the model not only predicts fraud effectively but also adapts to new and evolving fraud patterns over time.\n",
    "\n",
    "\n",
    "\n",
    "\n",
    "\n",
    "\n",
    "\n"
   ]
  },
  {
   "cell_type": "code",
   "execution_count": null,
   "metadata": {},
   "outputs": [],
   "source": [
    "How did you select variables to be included in the model?"
   ]
  },
  {
   "cell_type": "code",
   "execution_count": null,
   "metadata": {},
   "outputs": [],
   "source": [
    "4. Demonstrate the performance of the model by using best set of tools."
   ]
  },
  {
   "cell_type": "code",
   "execution_count": null,
   "metadata": {},
   "outputs": [],
   "source": [
    "The selection of variables (features) to be included in the model is crucial for its performance. In your case, the variable selection process would involve the following steps:\n",
    "\n",
    "1. Removing Irrelevant or Redundant Features:\n",
    "Some features may not contribute to the prediction task or may be redundant (e.g., customer IDs, transaction IDs).\n",
    "Categorical columns like 'customerID' are typically irrelevant for fraud prediction because they are unique identifiers and don’t contribute to the model's ability to generalize.\n",
    "2. Handling Multicollinearity (Using VIF):\n",
    "Multicollinearity occurs when two or more features are highly correlated, which can distort the model’s predictions. We already addressed this by calculating Variance Inflation Factor (VIF) and removing features with high VIF scores.\n",
    "3. Using Domain Knowledge:\n",
    "Certain features, such as transaction amount, transaction type, account balance, etc., are directly relevant to fraud detection based on domain knowledge. Features like transaction date or customer age may not be useful in fraud detection.\n",
    "4. Feature Importance (Using Random Forest or Tree-based Models):\n",
    "After training a Random Forest model, you can use its built-in functionality to check feature importance and remove features that have very low importance.\n",
    "5. Correlation Matrix:\n",
    "A correlation matrix can be used to identify highly correlated features (in case VIF wasn’t applied), allowing us to drop one of the correlated features to prevent redundancy.\n",
    "Here’s a breakdown of how this was handled in your code (or should be):\n",
    "\n",
    "Example Workflow for Feature Selection:\n",
    "Step 1: Dropping Irrelevant Features (Customer IDs, Transaction IDs)\n",
    "    \n",
    "    Step 2: Handling Multicollinearity Using VIF (Already Applied)\n",
    "You already handled multicollinearity using VIF in the previous step, where features with high VIF scores were removed.\n",
    "\n",
    "Step 3: One-Hot Encoding Categorical Variables\n",
    "    Step 4: Training the Random Forest Model\n",
    "Step 5: Checking Feature Importance\n",
    "\n",
    "    Explanation:\n",
    "Dropping Irrelevant Features: Columns like customerID, transactionID do not contribute to the prediction of fraud, so they are dropped early.\n",
    "Handling Multicollinearity: By calculating VIF, highly correlated features are removed, which helps to avoid multicollinearity.\n",
    "One-Hot Encoding: Converts categorical variables (like transaction types) into numeric format.\n",
    "Feature Importance: After training the Random Forest, you can check which features are most important for the prediction task. This is done using the feature_importances_ attribute of the trained model.\n",
    "Feature Removal: If any features have very low importance, you can drop them in further iterations to improve model performance.\n",
    "    Variable Selection Summary:\n",
    "Domain Knowledge: Selected features based on relevance to fraud detection (e.g., transaction amount, type).\n",
    "Handling Multicollinearity: Removed features with high VIF.\n",
    "Random Forest Feature Importance: After training, further refined feature selection based on importance scores."
   ]
  },
  {
   "cell_type": "code",
   "execution_count": null,
   "metadata": {},
   "outputs": [],
   "source": [
    "To demonstrate the performance of your model using the best set of tools, you'll need to evaluate it using relevant metrics such as accuracy, precision, recall, F1-score, and ROC-AUC. These metrics are important in classification tasks, especially in fraud detection, where false positives and false negatives carry significant importance."
   ]
  },
  {
   "cell_type": "code",
   "execution_count": null,
   "metadata": {},
   "outputs": [],
   "source": [
    "Here's a step-by-step explanation and code to demonstrate the performance of your fraud detection model:\n",
    "\n",
    "1. Loading the Dataset:\n",
    "First, ensure that the dataset is loaded and split into training and testing sets.\n",
    "\n",
    "2. Model Training:\n",
    "For demonstration purposes, we will use a Random Forest Classifier (which is a good baseline for fraud detection due to its robustness). You can switch to other classifiers (like Logistic Regression, XGBoost, or ANN) as needed.\n",
    "3. Making Predictions:\n",
    "Once the model is trained, we can make predictions on the test set.\n",
    "4. Evaluating Model Performance:\n",
    "Now, let's evaluate the model using the best set of tools:\n",
    "\n",
    "Confusion Matrix: To visualize true positives, true negatives, false positives, and false negatives.\n",
    "Precision, Recall, F1-Score: Key metrics for fraud detection, where minimizing false negatives (fraud not detected) is crucial.\n",
    "ROC-AUC: To assess how well the model separates fraud vs. non-fraud cases.\n",
    "    5. Key Metrics Explained:\n",
    "Classification Report:\n",
    "This report includes:\n",
    "\n",
    "Precision: The percentage of true fraud cases among those predicted as fraud.\n",
    "Recall: The percentage of actual fraud cases that were correctly identified by the model.\n",
    "F1-score: The harmonic mean of precision and recall. It's useful when there’s an imbalance between fraud and non-fraud cases.\n",
    "Confusion Matrix:\n",
    "The confusion matrix shows how many transactions were correctly or incorrectly classified. It's useful for identifying the number of false positives (non-fraud labeled as fraud) and false negatives (fraud labeled as non-fraud).\n",
    "\n",
    "ROC-AUC Score:\n",
    "The ROC-AUC score measures the ability of the model to distinguish between fraudulent and non-fraudulent transactions. A higher score (closer to 1) indicates a better model.\n",
    "\n",
    "ROC Curve:\n",
    "This curve plots the true positive rate (recall) against the false positive rate and provides a visual representation of the model's performance across different thresholds.\n",
    "6. Results Interpretation:\n",
    "Accuracy: A general measure of how often the classifier is correct.\n",
    "Precision and Recall: Precision focuses on reducing false positives, while recall focuses on reducing false negatives. In fraud detection, high recall is crucial to ensure that we catch most fraudulent transactions, even at the expense of some false positives.\n",
    "ROC-AUC: A higher AUC indicates that the model is better at distinguishing between fraud and non-fraud cases.\n",
    "    Confusion Matrix: The heatmap would show the correct and incorrect classifications in a matrix form.\n",
    "\n",
    "ROC Curve: The ROC curve will plot the trade-off between the true positive rate and false positive rate.\n",
    "\n",
    "Conclusion:\n",
    "This complete process of evaluating your model performance with the best set of tools gives you a clear understanding of how well the model is performing in identifying fraudulent transactions. You can improve the model by tuning hyperparameters or trying different models (e.g., XGBoost, ANN) to further enhance results."
   ]
  },
  {
   "cell_type": "code",
   "execution_count": null,
   "metadata": {},
   "outputs": [],
   "source": []
  },
  {
   "cell_type": "code",
   "execution_count": null,
   "metadata": {},
   "outputs": [],
   "source": []
  }
 ],
 "metadata": {
  "kaggle": {
   "accelerator": "none",
   "dataSources": [
    {
     "datasetId": 5641704,
     "sourceId": 9314937,
     "sourceType": "datasetVersion"
    }
   ],
   "dockerImageVersionId": 30761,
   "isGpuEnabled": false,
   "isInternetEnabled": true,
   "language": "python",
   "sourceType": "notebook"
  },
  "kernelspec": {
   "display_name": "Python 3 (ipykernel)",
   "language": "python",
   "name": "python3"
  },
  "language_info": {
   "codemirror_mode": {
    "name": "ipython",
    "version": 3
   },
   "file_extension": ".py",
   "mimetype": "text/x-python",
   "name": "python",
   "nbconvert_exporter": "python",
   "pygments_lexer": "ipython3",
   "version": "3.12.4"
  }
 },
 "nbformat": 4,
 "nbformat_minor": 4
}
