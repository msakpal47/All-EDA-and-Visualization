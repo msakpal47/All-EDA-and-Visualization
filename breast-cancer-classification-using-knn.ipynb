{
 "cells": [
  {
   "cell_type": "code",
   "execution_count": 1,
   "id": "9c6115db",
   "metadata": {
    "_cell_guid": "b1076dfc-b9ad-4769-8c92-a6c4dae69d19",
    "_uuid": "8f2839f25d086af736a60e9eeb907d3b93b6e0e5",
    "execution": {
     "iopub.execute_input": "2024-08-26T13:01:48.541803Z",
     "iopub.status.busy": "2024-08-26T13:01:48.541342Z",
     "iopub.status.idle": "2024-08-26T13:01:49.061515Z",
     "shell.execute_reply": "2024-08-26T13:01:49.059906Z"
    },
    "papermill": {
     "duration": 0.533763,
     "end_time": "2024-08-26T13:01:49.064647",
     "exception": false,
     "start_time": "2024-08-26T13:01:48.530884",
     "status": "completed"
    },
    "tags": []
   },
   "outputs": [
    {
     "name": "stdout",
     "output_type": "stream",
     "text": [
      "/kaggle/input/breast-cancer-wisconsin-data/data.csv\n"
     ]
    }
   ],
   "source": [
    "# This Python 3 environment comes with many helpful analytics libraries installed\n",
    "# It is defined by the kaggle/python Docker image: https://github.com/kaggle/docker-python\n",
    "# For example, here's several helpful packages to load\n",
    "\n",
    "import numpy as np # linear algebra\n",
    "import pandas as pd # data processing, CSV file I/O (e.g. pd.read_csv)\n",
    "\n",
    "# Input data files are available in the read-only \"../input/\" directory\n",
    "# For example, running this (by clicking run or pressing Shift+Enter) will list all files under the input directory\n",
    "\n",
    "import os\n",
    "for dirname, _, filenames in os.walk('/kaggle/input'):\n",
    "    for filename in filenames:\n",
    "        print(os.path.join(dirname, filename))\n",
    "\n",
    "# You can write up to 20GB to the current directory (/kaggle/working/) that gets preserved as output when you create a version using \"Save & Run All\" \n",
    "# You can also write temporary files to /kaggle/temp/, but they won't be saved outside of the current session"
   ]
  },
  {
   "cell_type": "code",
   "execution_count": 2,
   "id": "e3a809a4",
   "metadata": {
    "execution": {
     "iopub.execute_input": "2024-08-26T13:01:49.081202Z",
     "iopub.status.busy": "2024-08-26T13:01:49.080514Z",
     "iopub.status.idle": "2024-08-26T13:01:49.114158Z",
     "shell.execute_reply": "2024-08-26T13:01:49.112747Z"
    },
    "papermill": {
     "duration": 0.04556,
     "end_time": "2024-08-26T13:01:49.117060",
     "exception": false,
     "start_time": "2024-08-26T13:01:49.071500",
     "status": "completed"
    },
    "tags": []
   },
   "outputs": [],
   "source": [
    "dataset = pd.read_csv('/kaggle/input/breast-cancer-wisconsin-data/data.csv')"
   ]
  },
  {
   "cell_type": "code",
   "execution_count": 3,
   "id": "418e460a",
   "metadata": {
    "execution": {
     "iopub.execute_input": "2024-08-26T13:01:49.132410Z",
     "iopub.status.busy": "2024-08-26T13:01:49.131936Z",
     "iopub.status.idle": "2024-08-26T13:01:50.903272Z",
     "shell.execute_reply": "2024-08-26T13:01:50.901985Z"
    },
    "papermill": {
     "duration": 1.782293,
     "end_time": "2024-08-26T13:01:50.906303",
     "exception": false,
     "start_time": "2024-08-26T13:01:49.124010",
     "status": "completed"
    },
    "tags": []
   },
   "outputs": [],
   "source": [
    "from sklearn.model_selection import train_test_split\n",
    "from sklearn.preprocessing import StandardScaler\n",
    "from sklearn.neighbors import KNeighborsClassifier\n",
    "from sklearn.metrics import accuracy_score\n",
    "from sklearn.metrics import confusion_matrix\n",
    "from sklearn.metrics import f1_score"
   ]
  },
  {
   "cell_type": "code",
   "execution_count": 4,
   "id": "038050e6",
   "metadata": {
    "execution": {
     "iopub.execute_input": "2024-08-26T13:01:50.921604Z",
     "iopub.status.busy": "2024-08-26T13:01:50.920899Z",
     "iopub.status.idle": "2024-08-26T13:01:50.960996Z",
     "shell.execute_reply": "2024-08-26T13:01:50.959546Z"
    },
    "papermill": {
     "duration": 0.050907,
     "end_time": "2024-08-26T13:01:50.963719",
     "exception": false,
     "start_time": "2024-08-26T13:01:50.912812",
     "status": "completed"
    },
    "tags": []
   },
   "outputs": [
    {
     "name": "stdout",
     "output_type": "stream",
     "text": [
      "569\n",
      "<bound method NDFrame.head of            id diagnosis  radius_mean  texture_mean  perimeter_mean  area_mean  \\\n",
      "0      842302         M        17.99         10.38          122.80     1001.0   \n",
      "1      842517         M        20.57         17.77          132.90     1326.0   \n",
      "2    84300903         M        19.69         21.25          130.00     1203.0   \n",
      "3    84348301         M        11.42         20.38           77.58      386.1   \n",
      "4    84358402         M        20.29         14.34          135.10     1297.0   \n",
      "..        ...       ...          ...           ...             ...        ...   \n",
      "564    926424         M        21.56         22.39          142.00     1479.0   \n",
      "565    926682         M        20.13         28.25          131.20     1261.0   \n",
      "566    926954         M        16.60         28.08          108.30      858.1   \n",
      "567    927241         M        20.60         29.33          140.10     1265.0   \n",
      "568     92751         B         7.76         24.54           47.92      181.0   \n",
      "\n",
      "     smoothness_mean  compactness_mean  concavity_mean  concave points_mean  \\\n",
      "0            0.11840           0.27760         0.30010              0.14710   \n",
      "1            0.08474           0.07864         0.08690              0.07017   \n",
      "2            0.10960           0.15990         0.19740              0.12790   \n",
      "3            0.14250           0.28390         0.24140              0.10520   \n",
      "4            0.10030           0.13280         0.19800              0.10430   \n",
      "..               ...               ...             ...                  ...   \n",
      "564          0.11100           0.11590         0.24390              0.13890   \n",
      "565          0.09780           0.10340         0.14400              0.09791   \n",
      "566          0.08455           0.10230         0.09251              0.05302   \n",
      "567          0.11780           0.27700         0.35140              0.15200   \n",
      "568          0.05263           0.04362         0.00000              0.00000   \n",
      "\n",
      "     ...  texture_worst  perimeter_worst  area_worst  smoothness_worst  \\\n",
      "0    ...          17.33           184.60      2019.0           0.16220   \n",
      "1    ...          23.41           158.80      1956.0           0.12380   \n",
      "2    ...          25.53           152.50      1709.0           0.14440   \n",
      "3    ...          26.50            98.87       567.7           0.20980   \n",
      "4    ...          16.67           152.20      1575.0           0.13740   \n",
      "..   ...            ...              ...         ...               ...   \n",
      "564  ...          26.40           166.10      2027.0           0.14100   \n",
      "565  ...          38.25           155.00      1731.0           0.11660   \n",
      "566  ...          34.12           126.70      1124.0           0.11390   \n",
      "567  ...          39.42           184.60      1821.0           0.16500   \n",
      "568  ...          30.37            59.16       268.6           0.08996   \n",
      "\n",
      "     compactness_worst  concavity_worst  concave points_worst  symmetry_worst  \\\n",
      "0              0.66560           0.7119                0.2654          0.4601   \n",
      "1              0.18660           0.2416                0.1860          0.2750   \n",
      "2              0.42450           0.4504                0.2430          0.3613   \n",
      "3              0.86630           0.6869                0.2575          0.6638   \n",
      "4              0.20500           0.4000                0.1625          0.2364   \n",
      "..                 ...              ...                   ...             ...   \n",
      "564            0.21130           0.4107                0.2216          0.2060   \n",
      "565            0.19220           0.3215                0.1628          0.2572   \n",
      "566            0.30940           0.3403                0.1418          0.2218   \n",
      "567            0.86810           0.9387                0.2650          0.4087   \n",
      "568            0.06444           0.0000                0.0000          0.2871   \n",
      "\n",
      "     fractal_dimension_worst  Unnamed: 32  \n",
      "0                    0.11890          NaN  \n",
      "1                    0.08902          NaN  \n",
      "2                    0.08758          NaN  \n",
      "3                    0.17300          NaN  \n",
      "4                    0.07678          NaN  \n",
      "..                       ...          ...  \n",
      "564                  0.07115          NaN  \n",
      "565                  0.06637          NaN  \n",
      "566                  0.07820          NaN  \n",
      "567                  0.12400          NaN  \n",
      "568                  0.07039          NaN  \n",
      "\n",
      "[569 rows x 33 columns]>\n"
     ]
    }
   ],
   "source": [
    "print(len(dataset))\n",
    "print(dataset.head)"
   ]
  },
  {
   "cell_type": "code",
   "execution_count": 5,
   "id": "cfd807cc",
   "metadata": {
    "execution": {
     "iopub.execute_input": "2024-08-26T13:01:50.979279Z",
     "iopub.status.busy": "2024-08-26T13:01:50.978765Z",
     "iopub.status.idle": "2024-08-26T13:01:50.989835Z",
     "shell.execute_reply": "2024-08-26T13:01:50.988658Z"
    },
    "papermill": {
     "duration": 0.022311,
     "end_time": "2024-08-26T13:01:50.992722",
     "exception": false,
     "start_time": "2024-08-26T13:01:50.970411",
     "status": "completed"
    },
    "tags": []
   },
   "outputs": [],
   "source": [
    "X= dataset.iloc[:,2:32]\n",
    "y= dataset.iloc[:,1]\n",
    "X_train, X_test, y_train, y_test = train_test_split(X, y, random_state=0, test_size=0.2)"
   ]
  },
  {
   "cell_type": "code",
   "execution_count": 6,
   "id": "2ff9cb6e",
   "metadata": {
    "execution": {
     "iopub.execute_input": "2024-08-26T13:01:51.008555Z",
     "iopub.status.busy": "2024-08-26T13:01:51.007971Z",
     "iopub.status.idle": "2024-08-26T13:01:51.022022Z",
     "shell.execute_reply": "2024-08-26T13:01:51.020775Z"
    },
    "papermill": {
     "duration": 0.025436,
     "end_time": "2024-08-26T13:01:51.024709",
     "exception": false,
     "start_time": "2024-08-26T13:01:50.999273",
     "status": "completed"
    },
    "tags": []
   },
   "outputs": [],
   "source": [
    "# feature scaling\n",
    "sc_X = StandardScaler()\n",
    "X_train = sc_X.fit_transform(X_train)\n",
    "X_test = sc_X.transform(X_test)\n"
   ]
  },
  {
   "cell_type": "code",
   "execution_count": 7,
   "id": "05ed95bf",
   "metadata": {
    "execution": {
     "iopub.execute_input": "2024-08-26T13:01:51.039965Z",
     "iopub.status.busy": "2024-08-26T13:01:51.039481Z",
     "iopub.status.idle": "2024-08-26T13:01:51.048879Z",
     "shell.execute_reply": "2024-08-26T13:01:51.047541Z"
    },
    "papermill": {
     "duration": 0.019967,
     "end_time": "2024-08-26T13:01:51.051333",
     "exception": false,
     "start_time": "2024-08-26T13:01:51.031366",
     "status": "completed"
    },
    "tags": []
   },
   "outputs": [
    {
     "data": {
      "text/plain": [
       "569"
      ]
     },
     "execution_count": 7,
     "metadata": {},
     "output_type": "execute_result"
    }
   ],
   "source": [
    "len(y)"
   ]
  },
  {
   "cell_type": "code",
   "execution_count": 8,
   "id": "097f6bdc",
   "metadata": {
    "execution": {
     "iopub.execute_input": "2024-08-26T13:01:51.067030Z",
     "iopub.status.busy": "2024-08-26T13:01:51.065900Z",
     "iopub.status.idle": "2024-08-26T13:01:51.073719Z",
     "shell.execute_reply": "2024-08-26T13:01:51.072301Z"
    },
    "papermill": {
     "duration": 0.018317,
     "end_time": "2024-08-26T13:01:51.076217",
     "exception": false,
     "start_time": "2024-08-26T13:01:51.057900",
     "status": "completed"
    },
    "tags": []
   },
   "outputs": [
    {
     "name": "stdout",
     "output_type": "stream",
     "text": [
      "455\n",
      "455\n",
      "114\n",
      "114\n"
     ]
    }
   ],
   "source": [
    "print(len(X_train))\n",
    "print(len(y_train))\n",
    "print(len(X_test))\n",
    "print(len(y_test))"
   ]
  },
  {
   "cell_type": "code",
   "execution_count": 9,
   "id": "0dca7f7b",
   "metadata": {
    "execution": {
     "iopub.execute_input": "2024-08-26T13:01:51.092066Z",
     "iopub.status.busy": "2024-08-26T13:01:51.091582Z",
     "iopub.status.idle": "2024-08-26T13:01:51.099613Z",
     "shell.execute_reply": "2024-08-26T13:01:51.098153Z"
    },
    "papermill": {
     "duration": 0.018986,
     "end_time": "2024-08-26T13:01:51.102408",
     "exception": false,
     "start_time": "2024-08-26T13:01:51.083422",
     "status": "completed"
    },
    "tags": []
   },
   "outputs": [
    {
     "data": {
      "text/plain": [
       "10.677078252031311"
      ]
     },
     "execution_count": 9,
     "metadata": {},
     "output_type": "execute_result"
    }
   ],
   "source": [
    "import math\n",
    "#finding the sqrt of the len\n",
    "math.sqrt(len(y_test))\n"
   ]
  },
  {
   "cell_type": "code",
   "execution_count": 10,
   "id": "16ca7645",
   "metadata": {
    "execution": {
     "iopub.execute_input": "2024-08-26T13:01:51.118199Z",
     "iopub.status.busy": "2024-08-26T13:01:51.117742Z",
     "iopub.status.idle": "2024-08-26T13:01:51.123174Z",
     "shell.execute_reply": "2024-08-26T13:01:51.122112Z"
    },
    "papermill": {
     "duration": 0.016444,
     "end_time": "2024-08-26T13:01:51.125808",
     "exception": false,
     "start_time": "2024-08-26T13:01:51.109364",
     "status": "completed"
    },
    "tags": []
   },
   "outputs": [],
   "source": [
    "#define classifier\n",
    "# classifier = KNeighborsClassifier(n_neighbors=5, p=2, metric='manhattan')\n",
    "classifier = KNeighborsClassifier(n_neighbors=5, p=2, metric='euclidean')"
   ]
  },
  {
   "cell_type": "code",
   "execution_count": 11,
   "id": "5c31081b",
   "metadata": {
    "execution": {
     "iopub.execute_input": "2024-08-26T13:01:51.142331Z",
     "iopub.status.busy": "2024-08-26T13:01:51.141901Z",
     "iopub.status.idle": "2024-08-26T13:01:51.156319Z",
     "shell.execute_reply": "2024-08-26T13:01:51.154954Z"
    },
    "papermill": {
     "duration": 0.025681,
     "end_time": "2024-08-26T13:01:51.158947",
     "exception": false,
     "start_time": "2024-08-26T13:01:51.133266",
     "status": "completed"
    },
    "tags": []
   },
   "outputs": [
    {
     "data": {
      "text/html": [
       "<style>#sk-container-id-1 {color: black;background-color: white;}#sk-container-id-1 pre{padding: 0;}#sk-container-id-1 div.sk-toggleable {background-color: white;}#sk-container-id-1 label.sk-toggleable__label {cursor: pointer;display: block;width: 100%;margin-bottom: 0;padding: 0.3em;box-sizing: border-box;text-align: center;}#sk-container-id-1 label.sk-toggleable__label-arrow:before {content: \"▸\";float: left;margin-right: 0.25em;color: #696969;}#sk-container-id-1 label.sk-toggleable__label-arrow:hover:before {color: black;}#sk-container-id-1 div.sk-estimator:hover label.sk-toggleable__label-arrow:before {color: black;}#sk-container-id-1 div.sk-toggleable__content {max-height: 0;max-width: 0;overflow: hidden;text-align: left;background-color: #f0f8ff;}#sk-container-id-1 div.sk-toggleable__content pre {margin: 0.2em;color: black;border-radius: 0.25em;background-color: #f0f8ff;}#sk-container-id-1 input.sk-toggleable__control:checked~div.sk-toggleable__content {max-height: 200px;max-width: 100%;overflow: auto;}#sk-container-id-1 input.sk-toggleable__control:checked~label.sk-toggleable__label-arrow:before {content: \"▾\";}#sk-container-id-1 div.sk-estimator input.sk-toggleable__control:checked~label.sk-toggleable__label {background-color: #d4ebff;}#sk-container-id-1 div.sk-label input.sk-toggleable__control:checked~label.sk-toggleable__label {background-color: #d4ebff;}#sk-container-id-1 input.sk-hidden--visually {border: 0;clip: rect(1px 1px 1px 1px);clip: rect(1px, 1px, 1px, 1px);height: 1px;margin: -1px;overflow: hidden;padding: 0;position: absolute;width: 1px;}#sk-container-id-1 div.sk-estimator {font-family: monospace;background-color: #f0f8ff;border: 1px dotted black;border-radius: 0.25em;box-sizing: border-box;margin-bottom: 0.5em;}#sk-container-id-1 div.sk-estimator:hover {background-color: #d4ebff;}#sk-container-id-1 div.sk-parallel-item::after {content: \"\";width: 100%;border-bottom: 1px solid gray;flex-grow: 1;}#sk-container-id-1 div.sk-label:hover label.sk-toggleable__label {background-color: #d4ebff;}#sk-container-id-1 div.sk-serial::before {content: \"\";position: absolute;border-left: 1px solid gray;box-sizing: border-box;top: 0;bottom: 0;left: 50%;z-index: 0;}#sk-container-id-1 div.sk-serial {display: flex;flex-direction: column;align-items: center;background-color: white;padding-right: 0.2em;padding-left: 0.2em;position: relative;}#sk-container-id-1 div.sk-item {position: relative;z-index: 1;}#sk-container-id-1 div.sk-parallel {display: flex;align-items: stretch;justify-content: center;background-color: white;position: relative;}#sk-container-id-1 div.sk-item::before, #sk-container-id-1 div.sk-parallel-item::before {content: \"\";position: absolute;border-left: 1px solid gray;box-sizing: border-box;top: 0;bottom: 0;left: 50%;z-index: -1;}#sk-container-id-1 div.sk-parallel-item {display: flex;flex-direction: column;z-index: 1;position: relative;background-color: white;}#sk-container-id-1 div.sk-parallel-item:first-child::after {align-self: flex-end;width: 50%;}#sk-container-id-1 div.sk-parallel-item:last-child::after {align-self: flex-start;width: 50%;}#sk-container-id-1 div.sk-parallel-item:only-child::after {width: 0;}#sk-container-id-1 div.sk-dashed-wrapped {border: 1px dashed gray;margin: 0 0.4em 0.5em 0.4em;box-sizing: border-box;padding-bottom: 0.4em;background-color: white;}#sk-container-id-1 div.sk-label label {font-family: monospace;font-weight: bold;display: inline-block;line-height: 1.2em;}#sk-container-id-1 div.sk-label-container {text-align: center;}#sk-container-id-1 div.sk-container {/* jupyter's `normalize.less` sets `[hidden] { display: none; }` but bootstrap.min.css set `[hidden] { display: none !important; }` so we also need the `!important` here to be able to override the default hidden behavior on the sphinx rendered scikit-learn.org. See: https://github.com/scikit-learn/scikit-learn/issues/21755 */display: inline-block !important;position: relative;}#sk-container-id-1 div.sk-text-repr-fallback {display: none;}</style><div id=\"sk-container-id-1\" class=\"sk-top-container\"><div class=\"sk-text-repr-fallback\"><pre>KNeighborsClassifier(metric=&#x27;euclidean&#x27;)</pre><b>In a Jupyter environment, please rerun this cell to show the HTML representation or trust the notebook. <br />On GitHub, the HTML representation is unable to render, please try loading this page with nbviewer.org.</b></div><div class=\"sk-container\" hidden><div class=\"sk-item\"><div class=\"sk-estimator sk-toggleable\"><input class=\"sk-toggleable__control sk-hidden--visually\" id=\"sk-estimator-id-1\" type=\"checkbox\" checked><label for=\"sk-estimator-id-1\" class=\"sk-toggleable__label sk-toggleable__label-arrow\">KNeighborsClassifier</label><div class=\"sk-toggleable__content\"><pre>KNeighborsClassifier(metric=&#x27;euclidean&#x27;)</pre></div></div></div></div></div>"
      ],
      "text/plain": [
       "KNeighborsClassifier(metric='euclidean')"
      ]
     },
     "execution_count": 11,
     "metadata": {},
     "output_type": "execute_result"
    }
   ],
   "source": [
    "\n",
    "#fit the model\n",
    "classifier.fit(X_train, y_train)\n"
   ]
  },
  {
   "cell_type": "code",
   "execution_count": 12,
   "id": "3d9853dc",
   "metadata": {
    "execution": {
     "iopub.execute_input": "2024-08-26T13:01:51.176311Z",
     "iopub.status.busy": "2024-08-26T13:01:51.175214Z",
     "iopub.status.idle": "2024-08-26T13:01:51.253294Z",
     "shell.execute_reply": "2024-08-26T13:01:51.251754Z"
    },
    "papermill": {
     "duration": 0.089727,
     "end_time": "2024-08-26T13:01:51.256150",
     "exception": false,
     "start_time": "2024-08-26T13:01:51.166423",
     "status": "completed"
    },
    "tags": []
   },
   "outputs": [
    {
     "data": {
      "text/plain": [
       "array(['M', 'B', 'B', 'B', 'B', 'B', 'B', 'B', 'B', 'B', 'B', 'B', 'B',\n",
       "       'B', 'B', 'M', 'B', 'M', 'M', 'M', 'M', 'M', 'B', 'B', 'M', 'B',\n",
       "       'B', 'M', 'B', 'M', 'B', 'M', 'B', 'M', 'B', 'M', 'B', 'M', 'B',\n",
       "       'M', 'B', 'B', 'M', 'B', 'B', 'M', 'B', 'B', 'B', 'M', 'M', 'M',\n",
       "       'M', 'B', 'B', 'B', 'B', 'B', 'B', 'M', 'M', 'M', 'B', 'B', 'M',\n",
       "       'B', 'M', 'M', 'M', 'B', 'B', 'M', 'B', 'B', 'M', 'B', 'B', 'B',\n",
       "       'B', 'B', 'M', 'M', 'M', 'B', 'M', 'B', 'B', 'B', 'M', 'M', 'B',\n",
       "       'B', 'B', 'M', 'B', 'B', 'M', 'B', 'B', 'B', 'B', 'B', 'B', 'B',\n",
       "       'M', 'B', 'M', 'B', 'B', 'B', 'B', 'M', 'M', 'B'], dtype=object)"
      ]
     },
     "execution_count": 12,
     "metadata": {},
     "output_type": "execute_result"
    }
   ],
   "source": [
    "# prompt: now predict from classifier a test instance\n",
    "\n",
    "# Predicting the Test set results\n",
    "y_pred = classifier.predict(X_test\n",
    ")\n",
    "\n",
    "y_pred\n",
    "\n",
    "\n"
   ]
  },
  {
   "cell_type": "code",
   "execution_count": 13,
   "id": "73ab2775",
   "metadata": {
    "execution": {
     "iopub.execute_input": "2024-08-26T13:01:51.274088Z",
     "iopub.status.busy": "2024-08-26T13:01:51.273572Z",
     "iopub.status.idle": "2024-08-26T13:01:51.284137Z",
     "shell.execute_reply": "2024-08-26T13:01:51.282628Z"
    },
    "papermill": {
     "duration": 0.022499,
     "end_time": "2024-08-26T13:01:51.286849",
     "exception": false,
     "start_time": "2024-08-26T13:01:51.264350",
     "status": "completed"
    },
    "tags": []
   },
   "outputs": [
    {
     "name": "stdout",
     "output_type": "stream",
     "text": [
      "[[67  0]\n",
      " [ 5 42]]\n"
     ]
    }
   ],
   "source": [
    "#generating confusion matrix\n",
    "cm= confusion_matrix(y_test, y_pred)\n",
    "print(cm)"
   ]
  },
  {
   "cell_type": "code",
   "execution_count": 14,
   "id": "646d1f21",
   "metadata": {
    "execution": {
     "iopub.execute_input": "2024-08-26T13:01:51.304296Z",
     "iopub.status.busy": "2024-08-26T13:01:51.303875Z",
     "iopub.status.idle": "2024-08-26T13:01:51.315079Z",
     "shell.execute_reply": "2024-08-26T13:01:51.313665Z"
    },
    "papermill": {
     "duration": 0.023137,
     "end_time": "2024-08-26T13:01:51.317712",
     "exception": false,
     "start_time": "2024-08-26T13:01:51.294575",
     "status": "completed"
    },
    "tags": []
   },
   "outputs": [
    {
     "name": "stdout",
     "output_type": "stream",
     "text": [
      "0.9438202247191011\n"
     ]
    }
   ],
   "source": [
    "#print f1 scores\n",
    "print(f1_score(y_test, y_pred , pos_label='M'))"
   ]
  },
  {
   "cell_type": "code",
   "execution_count": 15,
   "id": "646fcc46",
   "metadata": {
    "execution": {
     "iopub.execute_input": "2024-08-26T13:01:51.335866Z",
     "iopub.status.busy": "2024-08-26T13:01:51.335350Z",
     "iopub.status.idle": "2024-08-26T13:01:51.344769Z",
     "shell.execute_reply": "2024-08-26T13:01:51.343148Z"
    },
    "papermill": {
     "duration": 0.021908,
     "end_time": "2024-08-26T13:01:51.347568",
     "exception": false,
     "start_time": "2024-08-26T13:01:51.325660",
     "status": "completed"
    },
    "tags": []
   },
   "outputs": [
    {
     "name": "stdout",
     "output_type": "stream",
     "text": [
      "0.956140350877193\n"
     ]
    }
   ],
   "source": [
    "#printing accuracy\n",
    "print(accuracy_score(y_test, y_pred))"
   ]
  },
  {
   "cell_type": "code",
   "execution_count": 16,
   "id": "3c932ddc",
   "metadata": {
    "execution": {
     "iopub.execute_input": "2024-08-26T13:01:51.365455Z",
     "iopub.status.busy": "2024-08-26T13:01:51.364938Z",
     "iopub.status.idle": "2024-08-26T13:01:51.379688Z",
     "shell.execute_reply": "2024-08-26T13:01:51.377549Z"
    },
    "papermill": {
     "duration": 0.02671,
     "end_time": "2024-08-26T13:01:51.382293",
     "exception": false,
     "start_time": "2024-08-26T13:01:51.355583",
     "status": "completed"
    },
    "tags": []
   },
   "outputs": [
    {
     "name": "stdout",
     "output_type": "stream",
     "text": [
      "Predicted Output: ['B']\n",
      "Actual Output: B\n"
     ]
    }
   ],
   "source": [
    "# prompt: now take one test example from test dataset that is X_test and predict its output using model and then print actual and predicted both\n",
    "\n",
    "# Taking the first element of the test dataset\n",
    "test_example = X_test[100].reshape(1, -1)  # Reshape to match model input\n",
    "predicted_output = classifier.predict(test_example)\n",
    "actual_output = y_test.iloc[100]\n",
    "\n",
    "print(\"Predicted Output:\", predicted_output)\n",
    "print(\"Actual Output:\", actual_output)\n"
   ]
  },
  {
   "cell_type": "code",
   "execution_count": null,
   "id": "7eed0886",
   "metadata": {
    "papermill": {
     "duration": 0.007393,
     "end_time": "2024-08-26T13:01:51.398259",
     "exception": false,
     "start_time": "2024-08-26T13:01:51.390866",
     "status": "completed"
    },
    "tags": []
   },
   "outputs": [],
   "source": []
  }
 ],
 "metadata": {
  "kaggle": {
   "accelerator": "none",
   "dataSources": [
    {
     "datasetId": 180,
     "sourceId": 408,
     "sourceType": "datasetVersion"
    }
   ],
   "dockerImageVersionId": 30761,
   "isGpuEnabled": false,
   "isInternetEnabled": false,
   "language": "python",
   "sourceType": "notebook"
  },
  "kernelspec": {
   "display_name": "Python 3",
   "language": "python",
   "name": "python3"
  },
  "language_info": {
   "codemirror_mode": {
    "name": "ipython",
    "version": 3
   },
   "file_extension": ".py",
   "mimetype": "text/x-python",
   "name": "python",
   "nbconvert_exporter": "python",
   "pygments_lexer": "ipython3",
   "version": "3.10.14"
  },
  "papermill": {
   "default_parameters": {},
   "duration": 6.718107,
   "end_time": "2024-08-26T13:01:52.128817",
   "environment_variables": {},
   "exception": null,
   "input_path": "__notebook__.ipynb",
   "output_path": "__notebook__.ipynb",
   "parameters": {},
   "start_time": "2024-08-26T13:01:45.410710",
   "version": "2.6.0"
  }
 },
 "nbformat": 4,
 "nbformat_minor": 5
}
